{
 "cells": [
  {
   "cell_type": "code",
   "execution_count": 30,
   "id": "12fb793e-1294-454d-a28c-b378c8d854a3",
   "metadata": {},
   "outputs": [
    {
     "name": "stdout",
     "output_type": "stream",
     "text": [
      "hsakiv"
     ]
    }
   ],
   "source": [
    "#1.Write a code to reverse a string.\n",
    "name=\"vikash\"\n",
    "#using slicing we can do this\n",
    "#-1 represent that the order is reverse.\n",
    "#: represent step is -1\n",
    "name=\"vikash\"\n",
    "for i in range(len(name)-1,-1,-1): \n",
    "    print(name[i],end=\"\")"
   ]
  },
  {
   "cell_type": "code",
   "execution_count": null,
   "id": "8e585602-fc71-43c9-b151-5581aeece7d3",
   "metadata": {},
   "outputs": [],
   "source": [
    "#2 Write a code to count the number of vowels in a string\n",
    "text=input(\"text:\")   #to take input from use\n",
    "count=0\n",
    "for i in text:\n",
    "    if (i in \"AaEeIiOoUu\"):\n",
    "        count+=1\n",
    "print(f\"The number of vowel is {count}\")"
   ]
  },
  {
   "cell_type": "code",
   "execution_count": null,
   "id": "5472bc8e-73c6-4821-abfe-855b00e979fa",
   "metadata": {},
   "outputs": [],
   "source": [
    "# 3Write a code to check if a given string is a palindrome or not.\n",
    "text=input(\"enter\")\n",
    "rev_string=\"\"\n",
    "for i in text:\n",
    "    rev_string= i+ rev_string\n",
    "if text==rev_string:\n",
    "    print(\"yes palindrome\")\n",
    "else:\n",
    "    print(\"not palindrome\")"
   ]
  },
  {
   "cell_type": "code",
   "execution_count": 9,
   "id": "8a58659b-95ab-4ebb-87f3-aa9add0bc278",
   "metadata": {},
   "outputs": [
    {
     "name": "stdout",
     "output_type": "stream",
     "text": [
      "Yes\n"
     ]
    }
   ],
   "source": [
    "#4 Write a code to check if two given strings are anagrams of each other.\n",
    "from collections import Counter  # for character frequency counting\n",
    "\n",
    "s1 = \"listen\"\n",
    "s2 = \"silent\"\n",
    "\n",
    "if len(s1) != len(s2):  # check length\n",
    "    print(\"No\")\n",
    "else:\n",
    "    if Counter(s1) == Counter(s2):  # compare character counts\n",
    "        print(\"Yes\")\n",
    "    else:\n",
    "        print(\"No\")"
   ]
  },
  {
   "cell_type": "code",
   "execution_count": 8,
   "id": "496e8487-7ecf-477a-bf8d-39018b2edc1d",
   "metadata": {},
   "outputs": [
    {
     "data": {
      "text/plain": [
       "1"
      ]
     },
     "execution_count": 8,
     "metadata": {},
     "output_type": "execute_result"
    }
   ],
   "source": [
    "#5 Write a code to find all occurrences of a given substring within another string.\n",
    "string = \"ABCDCDC\"\n",
    "substring = \"CDC\"\n",
    "\n",
    "def count_substring(string,sub_string):\n",
    "    len1 = len(string)\n",
    "    len2 = len(sub_string)\n",
    "    j =0\n",
    "    counter = 0\n",
    "    while(j < len1):\n",
    "        if(string[j] == sub_string[0]):\n",
    "            if(string[j:j+len2] == sub_string):\n",
    "                counter += 1\n",
    "        j += 1\n",
    "\n",
    "    return counter\n",
    "count_substring(\"ABCDCEDC\",\"CDC\")"
   ]
  },
  {
   "cell_type": "code",
   "execution_count": 9,
   "id": "d301e5ed-7fd2-43b0-b34b-777dd583969e",
   "metadata": {},
   "outputs": [],
   "source": [
    "#6. Write a code to perform basic string compression using the counts of repeated characters.\n",
    "def string_compression(st):\n",
    "    i=0\n",
    "    while (i<len(st)):\n",
    "        count=1\n",
    "        while (i < len(st) -1 and st[i]==st[i+1]):\n",
    "            i+=1\n",
    "            count=count+1\n",
    "            \n",
    "        print(st[i],end=\"\")\n",
    "        if count>1:\n",
    "            print(count,end=\"\")\n",
    "        i+=1"
   ]
  },
  {
   "cell_type": "code",
   "execution_count": 10,
   "id": "6b2f7a3e-b265-4a57-98c7-617bd09a23ed",
   "metadata": {},
   "outputs": [
    {
     "name": "stdout",
     "output_type": "stream",
     "text": [
      "vikash4"
     ]
    }
   ],
   "source": [
    "string_compression(\"vikashhhh\")"
   ]
  },
  {
   "cell_type": "code",
   "execution_count": 11,
   "id": "4cb124ca-65db-407d-a406-c6f77b1f5f40",
   "metadata": {},
   "outputs": [],
   "source": [
    "#7 Write a code to determine if a string has all unique characters.\n",
    "def check_unique(string):\n",
    "    if string is None:\n",
    "        return False\n",
    "    for char in string:\n",
    "        if string.count(char)>1:\n",
    "            return False\n",
    "    return True"
   ]
  },
  {
   "cell_type": "code",
   "execution_count": 12,
   "id": "cd4710fe-e39a-4492-add2-96879d1b0ca3",
   "metadata": {},
   "outputs": [
    {
     "data": {
      "text/plain": [
       "False"
      ]
     },
     "execution_count": 12,
     "metadata": {},
     "output_type": "execute_result"
    }
   ],
   "source": [
    "check_unique(\"vikash tiwari\")"
   ]
  },
  {
   "cell_type": "code",
   "execution_count": 14,
   "id": "68ecf08d-7310-4001-a23f-95688a96e276",
   "metadata": {},
   "outputs": [
    {
     "name": "stdin",
     "output_type": "stream",
     "text": [
      "enter name: \n"
     ]
    }
   ],
   "source": [
    "#8 Write a code to convert a given string to uppercase or lowercase.\n",
    "name=input(\"enter name:\")\n",
    "l=[]\n",
    "for i in name:\n",
    "    print(i.upper(),end=\"\")"
   ]
  },
  {
   "cell_type": "code",
   "execution_count": 12,
   "id": "af39fea3-6c46-4928-a32c-c0aa616a0aed",
   "metadata": {},
   "outputs": [
    {
     "name": "stdin",
     "output_type": "stream",
     "text": [
      "enter the string vvvvvvvv\n"
     ]
    },
    {
     "name": "stdout",
     "output_type": "stream",
     "text": [
      "8\n"
     ]
    }
   ],
   "source": [
    "#9 Write a code to count the number of words in a string.\n",
    "string=input(\"enter the string\")\n",
    "count=0\n",
    "for i in string:\n",
    "    count+=len(i)\n",
    "print(count)    "
   ]
  },
  {
   "cell_type": "code",
   "execution_count": 14,
   "id": "05259cc5-7348-4956-87d4-78472cc459cf",
   "metadata": {},
   "outputs": [
    {
     "name": "stdout",
     "output_type": "stream",
     "text": [
      "vikashtiwari\n"
     ]
    }
   ],
   "source": [
    "#10. Write a code to concatenate two strings without using the + operator.\n",
    "str1=\"vikash\"\n",
    "str2=\"tiwari\"\n",
    "string=\"\"\n",
    "list1=[str1,str2]\n",
    "for i in list1:\n",
    "    string+=i\n",
    "print(string)"
   ]
  },
  {
   "cell_type": "code",
   "execution_count": 15,
   "id": "22c2b7da-db90-4c9c-be4f-190ae49a4bbc",
   "metadata": {},
   "outputs": [],
   "source": [
    "#11.Write a code to remove all occurrences of a specific element from a list.\n",
    "def remove_specific_element(l):\n",
    "    l1=[]\n",
    "    for i in l:\n",
    "        if (type(i)==int or type(i)==float):\n",
    "            l1.append(i)\n",
    "    return l1"
   ]
  },
  {
   "cell_type": "code",
   "execution_count": 16,
   "id": "00ee6974-4ade-4fb6-a59f-8e4b8be9396c",
   "metadata": {},
   "outputs": [
    {
     "data": {
      "text/plain": [
       "[1, 2, 3, 1.1, 1.11]"
      ]
     },
     "execution_count": 16,
     "metadata": {},
     "output_type": "execute_result"
    }
   ],
   "source": [
    "remove_specific_element([1,2,3,1.1,1.11,\"vikash\",\"tiwari\"])"
   ]
  },
  {
   "cell_type": "code",
   "execution_count": 28,
   "id": "2d197eb2-24dc-4182-b6ab-70fec687fa25",
   "metadata": {},
   "outputs": [
    {
     "ename": "TypeError",
     "evalue": "'NoneType' object is not subscriptable",
     "output_type": "error",
     "traceback": [
      "\u001b[1;31m---------------------------------------------------------------------------\u001b[0m",
      "\u001b[1;31mTypeError\u001b[0m                                 Traceback (most recent call last)",
      "Cell \u001b[1;32mIn[28], line 6\u001b[0m\n\u001b[0;32m      4\u001b[0m list_2\u001b[38;5;241m=\u001b[39mlist_1\u001b[38;5;241m.\u001b[39msort()\n\u001b[0;32m      5\u001b[0m \u001b[38;5;66;03m#after sorting we can get by index\u001b[39;00m\n\u001b[1;32m----> 6\u001b[0m list_2[\u001b[38;5;241m-\u001b[39m\u001b[38;5;241m2\u001b[39m]\n",
      "\u001b[1;31mTypeError\u001b[0m: 'NoneType' object is not subscriptable"
     ]
    }
   ],
   "source": [
    "#12\".Implement a code to find the second largest number in a given list of integers.\n",
    "list_1=[1,2,3,4,6,7,9,88,44,54,32,2]\n",
    "#we will sort the element of list as a integer\n",
    "list_2=list_1.sort()\n",
    "#after sorting we can get by index\n",
    "list_2[-2]"
   ]
  },
  {
   "cell_type": "code",
   "execution_count": 36,
   "id": "cce150fb-625e-4a2e-983b-eadf38fc9d12",
   "metadata": {},
   "outputs": [],
   "source": [
    "#13.Create a code to count the occurrences of each element in a list and return a dictionary with elements as\n",
    "#keys and their counts as values."
   ]
  },
  {
   "cell_type": "code",
   "execution_count": 46,
   "id": "b296ec00-fb80-451a-9e67-584f40d0f5a3",
   "metadata": {},
   "outputs": [
    {
     "name": "stdout",
     "output_type": "stream",
     "text": [
      "{1: 3, 2: 2, 4: 5, 6: 2, 8: 2, 7: 3, 5: 2, 3: 1, 'vikash': 1, 'jaimatadi': 1}\n"
     ]
    }
   ],
   "source": [
    "my_list=[1,1,1,2,2,4,6,8,7,5,7,4,3,4,6,7,5,4,8,4,\"vikash\",\"jaimatadi\"]\n",
    "freq={element:my_list.count(element) for element in my_list}\n",
    "print(freq)    "
   ]
  },
  {
   "cell_type": "code",
   "execution_count": null,
   "id": "3099d63d-e389-45f7-9685-7451caa646a3",
   "metadata": {},
   "outputs": [],
   "source": [
    "#14Write a code to reverse a list in-place without using any built-in reverse functions."
   ]
  },
  {
   "cell_type": "code",
   "execution_count": 52,
   "id": "d3f256fe-6e42-4b3e-9ded-fefaba372194",
   "metadata": {},
   "outputs": [
    {
     "name": "stdout",
     "output_type": "stream",
     "text": [
      "4 [5, 4, 3, 2, 1]\n"
     ]
    }
   ],
   "source": [
    "#my_list[::-1], we can reverse unsing slicing of list\n",
    "number=[1,2,3,4,5]\n",
    "for i in range(len(number)):\n",
    "    number.insert(i,number.pop())\n",
    "print(i,number)\n"
   ]
  },
  {
   "cell_type": "code",
   "execution_count": 4,
   "id": "c81ff3ae-e1a9-4bd5-90ff-8dd96a6e0987",
   "metadata": {},
   "outputs": [],
   "source": [
    "#\"15 Implement a code to find and remove duplicates from a list while preserving the original order of\n",
    "#elements."
   ]
  },
  {
   "cell_type": "code",
   "execution_count": 13,
   "id": "2e4cc876-f583-46cf-8ca7-bf19ad809096",
   "metadata": {},
   "outputs": [
    {
     "name": "stdout",
     "output_type": "stream",
     "text": [
      "[1, 2, 3, 4, 5, 'vikash', (1+2j)]\n"
     ]
    }
   ],
   "source": [
    "my_list=[1,2,3,4,5,1,2,3,1,2,3,\"vikash\",True,1+2j]\n",
    "empty_list=[]\n",
    "for i in my_list:\n",
    "    if i not in empty_list:\n",
    "        empty_list.append(i)\n",
    "print(empty_list)"
   ]
  },
  {
   "cell_type": "code",
   "execution_count": 14,
   "id": "2a329ae7-d67f-40ae-99e3-1256ab445c86",
   "metadata": {},
   "outputs": [],
   "source": [
    "#16.Create a code to check if a given list is sorted (either in ascending or descending order) or not."
   ]
  },
  {
   "cell_type": "code",
   "execution_count": 24,
   "id": "f3a060a0-f7d7-46f4-8b7c-bbcf32f92eb9",
   "metadata": {},
   "outputs": [],
   "source": [
    "def is_sorted(l):\n",
    "    for i in range(len(l)-1):\n",
    "        if l[i]>l[i]+1:\n",
    "            return False\n",
    "    return True"
   ]
  },
  {
   "cell_type": "code",
   "execution_count": 25,
   "id": "75c2781c-9f5c-4b3e-9612-f358b644ec37",
   "metadata": {},
   "outputs": [
    {
     "data": {
      "text/plain": [
       "True"
      ]
     },
     "execution_count": 25,
     "metadata": {},
     "output_type": "execute_result"
    }
   ],
   "source": [
    "is_sorted([1,2,3,4,5])"
   ]
  },
  {
   "cell_type": "code",
   "execution_count": 15,
   "id": "d98be23a-06e5-42f1-9d0d-dada05c52436",
   "metadata": {},
   "outputs": [
    {
     "name": "stdout",
     "output_type": "stream",
     "text": [
      "[4, 5, 6, 7, 1, 2, 3, 4]\n"
     ]
    }
   ],
   "source": [
    "#\"17Write a code to merge two sorted lists into a single sorted list.\n",
    "list_1=[1,2,3,4]\n",
    "list_2=[4,5,6,7]\n",
    "for i in list_1:\n",
    "    list_2.append(i)\n",
    "print(list_2)"
   ]
  },
  {
   "cell_type": "code",
   "execution_count": 28,
   "id": "3ec7d788-b406-4ea0-875e-7eba0bd70dfb",
   "metadata": {},
   "outputs": [],
   "source": [
    "# 18Implement a code to find the intersection of two given lists\u0012"
   ]
  },
  {
   "cell_type": "code",
   "execution_count": 29,
   "id": "20a3a99a-2e6b-4ee8-b916-eaabed8dc951",
   "metadata": {},
   "outputs": [
    {
     "name": "stdout",
     "output_type": "stream",
     "text": [
      "[4, 5, 6]\n"
     ]
    }
   ],
   "source": [
    "first_list=[1,2,3,4,5,6]\n",
    "second_list=[4,5,6,7,8,9]\n",
    "empty_list=[]\n",
    "for i in first_list:\n",
    "    if i in second_list:\n",
    "        empty_list.append(i)\n",
    "print(empty_list)"
   ]
  },
  {
   "cell_type": "code",
   "execution_count": 30,
   "id": "dd4b6ea3-b748-4035-ae34-5eb8c7b011ac",
   "metadata": {},
   "outputs": [],
   "source": [
    "#19. Create a code to find the union of two lists without duplicates."
   ]
  },
  {
   "cell_type": "code",
   "execution_count": 33,
   "id": "5f6412f0-7190-4267-b412-fc8994d74d0b",
   "metadata": {},
   "outputs": [
    {
     "name": "stdout",
     "output_type": "stream",
     "text": [
      "[4, 5, 6, 7, 8, 9, 1, 2, 3]\n"
     ]
    }
   ],
   "source": [
    "first_list=[1,2,3,4,5,6]\n",
    "second_list=[4,5,6,7,8,9]\n",
    "for i in first_list:\n",
    "    if i in second_list:\n",
    "        break\n",
    "    else:\n",
    "        second_list.append(i)\n",
    "print(second_list)"
   ]
  },
  {
   "cell_type": "code",
   "execution_count": 1,
   "id": "f2b91d7e-ce2f-4163-9890-3bf21d5c8284",
   "metadata": {},
   "outputs": [],
   "source": [
    "#20. Write a code to shuffle a given list randomly without using any built-in shuffle functions."
   ]
  },
  {
   "cell_type": "code",
   "execution_count": 16,
   "id": "14a2d8d1-964f-4f8a-9824-0b84402806ca",
   "metadata": {},
   "outputs": [
    {
     "ename": "NameError",
     "evalue": "name 'random' is not defined",
     "output_type": "error",
     "traceback": [
      "\u001b[1;31m---------------------------------------------------------------------------\u001b[0m",
      "\u001b[1;31mNameError\u001b[0m                                 Traceback (most recent call last)",
      "Cell \u001b[1;32mIn[16], line 3\u001b[0m\n\u001b[0;32m      1\u001b[0m list_1\u001b[38;5;241m=\u001b[39m[\u001b[38;5;241m1\u001b[39m,\u001b[38;5;241m2\u001b[39m,\u001b[38;5;241m3\u001b[39m,\u001b[38;5;241m4\u001b[39m,\u001b[38;5;241m5\u001b[39m]\n\u001b[0;32m      2\u001b[0m list_2\u001b[38;5;241m=\u001b[39m[\u001b[38;5;241m5\u001b[39m,\u001b[38;5;241m6\u001b[39m,\u001b[38;5;241m7\u001b[39m,\u001b[38;5;241m8\u001b[39m,\u001b[38;5;241m9\u001b[39m]\n\u001b[1;32m----> 3\u001b[0m \u001b[38;5;28;01mfor\u001b[39;00m i \u001b[38;5;129;01min\u001b[39;00m random\u001b[38;5;241m.\u001b[39mchoice(list_1):\n\u001b[0;32m      4\u001b[0m     list_2\u001b[38;5;241m.\u001b[39mappend(i)\n\u001b[0;32m      5\u001b[0m \u001b[38;5;28mprint\u001b[39m(list_2)\n",
      "\u001b[1;31mNameError\u001b[0m: name 'random' is not defined"
     ]
    }
   ],
   "source": [
    "list_1=[1,2,3,4,5]\n",
    "list_2=[5,6,7,8,9]\n",
    "for i in random.choice(list_1):\n",
    "    list_2.append(i)\n",
    "print(list_2)"
   ]
  },
  {
   "cell_type": "code",
   "execution_count": null,
   "id": "7b034a49-89f2-4237-b4d4-7a6d0c06c756",
   "metadata": {},
   "outputs": [],
   "source": [
    "#21.Write a code that takes two tuples as input and returns a new tuple containing elements that are\n",
    "#common to both input tuples\u0012"
   ]
  },
  {
   "cell_type": "code",
   "execution_count": 46,
   "id": "a6451cd0-3e03-4f18-9846-605a1936f576",
   "metadata": {},
   "outputs": [
    {
     "name": "stdout",
     "output_type": "stream",
     "text": [
      "(3, 4)\n"
     ]
    }
   ],
   "source": [
    "tup_1=(1,2,3,4)\n",
    "tup_2=(3,4,5,6)\n",
    "tup_3=tup_1 + tup_2\n",
    "l1=[]\n",
    "for i in tup_3:\n",
    "    if tup_3.count(i)>1:\n",
    "        l1.append(i)\n",
    "\n",
    "print(tuple(set(l1)))"
   ]
  },
  {
   "cell_type": "code",
   "execution_count": 47,
   "id": "8387a1f9-1816-460b-8e4e-4e2f69d31ac5",
   "metadata": {},
   "outputs": [],
   "source": [
    "#22.\u0012 Write a code to concatenate two tuples. The function should take two tuples as input and return a new\n",
    "#tuple containing elements from both input tuples"
   ]
  },
  {
   "cell_type": "code",
   "execution_count": 52,
   "id": "420d381f-dda2-4bb6-82cb-4073cb616798",
   "metadata": {},
   "outputs": [],
   "source": [
    "def new_tuple(a,b):\n",
    "    l=[]\n",
    "    for i in a:\n",
    "        l.append(i)\n",
    "    for j in b:\n",
    "        l.append(j)\n",
    "    return tuple(l)"
   ]
  },
  {
   "cell_type": "code",
   "execution_count": 53,
   "id": "1b69f935-43db-45d8-b5c6-2df3fd5f4d00",
   "metadata": {},
   "outputs": [
    {
     "data": {
      "text/plain": [
       "(1, 2, 3, 4, 5)"
      ]
     },
     "execution_count": 53,
     "metadata": {},
     "output_type": "execute_result"
    }
   ],
   "source": [
    "new_tuple((1,2,3),(4,5))"
   ]
  },
  {
   "cell_type": "code",
   "execution_count": 54,
   "id": "7d1429c8-6674-4faf-ad0e-52a615a182be",
   "metadata": {},
   "outputs": [],
   "source": [
    "#23.Create a code that prompts the user to enter two sets of integers separated by commas. Then, print the\n",
    "#intersection of these two sets."
   ]
  },
  {
   "cell_type": "code",
   "execution_count": 3,
   "id": "27f905c4-3efc-43dc-8f71-22be67d26499",
   "metadata": {},
   "outputs": [
    {
     "name": "stdin",
     "output_type": "stream",
     "text": [
      "enter number of eleent 3\n"
     ]
    },
    {
     "name": "stdout",
     "output_type": "stream",
     "text": [
      "{0, 1, 2}\n"
     ]
    },
    {
     "name": "stdin",
     "output_type": "stream",
     "text": [
      "enter number of element 5\n"
     ]
    },
    {
     "name": "stdout",
     "output_type": "stream",
     "text": [
      "{0, 1, 2, 3, 4}\n"
     ]
    },
    {
     "data": {
      "text/plain": [
       "{0, 1, 2}"
      ]
     },
     "execution_count": 3,
     "metadata": {},
     "output_type": "execute_result"
    }
   ],
   "source": [
    "a=set()\n",
    "n1=int(input(\"enter number of eleent\"))\n",
    "for i in range(n):\n",
    "    a.add(i)\n",
    "print(a)\n",
    "b=set()\n",
    "n2=int(input(\"enter number of element\"))\n",
    "for i in range(n2):\n",
    "    b.add(i)\n",
    "print(b)\n",
    "a.intersection(b)"
   ]
  },
  {
   "cell_type": "code",
   "execution_count": 82,
   "id": "445a9855-ac91-414a-b29c-47638f600c50",
   "metadata": {},
   "outputs": [],
   "source": [
    "#24 Develop a code that prompts the user to input two sets of strings. Then, print the elements that are\n",
    "#present in the first set but not in the second set."
   ]
  },
  {
   "cell_type": "code",
   "execution_count": 27,
   "id": "a5862010-b553-48b2-a370-12937784956c",
   "metadata": {},
   "outputs": [
    {
     "name": "stdin",
     "output_type": "stream",
     "text": [
      "enter first string: vikash\n",
      "enter second string vijay\n"
     ]
    },
    {
     "name": "stdout",
     "output_type": "stream",
     "text": [
      "{'h', 'k', 's', 'j', 'y'}\n"
     ]
    }
   ],
   "source": [
    "a=set()\n",
    "n1=input(\"enter first string:\")\n",
    "for i in n1:\n",
    "    a.add(i)\n",
    "b=set()    \n",
    "n2=input(\"enter second string\")\n",
    "for i in n2:\n",
    "    b.add(i)\n",
    "c=a.symmetric_difference(b)\n",
    "print(c)"
   ]
  },
  {
   "cell_type": "code",
   "execution_count": 5,
   "id": "df4b82d7-edc4-4e2b-9740-c4c887df4081",
   "metadata": {},
   "outputs": [],
   "source": [
    "#25Create a code that takes a tuple and two integers as input. The function should return a new tuple\n",
    "#containing elements from the original tuple within the specified range of indices."
   ]
  },
  {
   "cell_type": "code",
   "execution_count": 4,
   "id": "11f467e0-bd6e-4f7a-8b67-e03d4178839b",
   "metadata": {},
   "outputs": [
    {
     "name": "stdin",
     "output_type": "stream",
     "text": [
      "enter first number 2\n",
      "enter second number 3\n"
     ]
    },
    {
     "name": "stdout",
     "output_type": "stream",
     "text": [
      "(1, 2, 3, 0, 1, 0, 1, 2)\n"
     ]
    }
   ],
   "source": [
    "tup=(1,2,3)\n",
    "n1=int(input(\"enter first number\"))\n",
    "for i in range(n1):\n",
    "    tup+=(i,)\n",
    "n2=int(input(\"enter second number\"))\n",
    "for i in range(n2):\n",
    "    tup+=(i,)\n",
    "print(tup)"
   ]
  },
  {
   "cell_type": "code",
   "execution_count": 8,
   "id": "da6d46a6-b5c1-4d2d-9bfb-c4bec2c6d7a8",
   "metadata": {},
   "outputs": [],
   "source": [
    "#26.'\u001f& Write a code that prompts the user to input two sets of characters. Then, print the union of these two sets."
   ]
  },
  {
   "cell_type": "code",
   "execution_count": 3,
   "id": "06f926de-e78e-47ed-80dd-dd9b0ca7317e",
   "metadata": {},
   "outputs": [
    {
     "name": "stdin",
     "output_type": "stream",
     "text": [
      "enter vikash\n"
     ]
    },
    {
     "name": "stdout",
     "output_type": "stream",
     "text": [
      "{'a', 's', 'h', 'v', 'k', 'i'}\n"
     ]
    },
    {
     "name": "stdin",
     "output_type": "stream",
     "text": [
      "enter tiwati\n"
     ]
    },
    {
     "name": "stdout",
     "output_type": "stream",
     "text": [
      "{'w', 't', 'i', 'a'}\n",
      "{'w', 'a', 's', 'h', 'v', 't', 'k', 'i'}\n"
     ]
    }
   ],
   "source": [
    "a=set()\n",
    "n=input(\"enter\")\n",
    "for i in n:\n",
    "    a.add(i)\n",
    "print(a)\n",
    "b=set()\n",
    "n2=input(\"enter\")\n",
    "for i in n2:\n",
    "    b.add(i)\n",
    "print(b)\n",
    "print(a.union(b))"
   ]
  },
  {
   "cell_type": "code",
   "execution_count": 5,
   "id": "f0211ba2-d77d-4059-8e2e-8b9c96956af4",
   "metadata": {},
   "outputs": [],
   "source": [
    "#27.'*& Develop a code that takes a tuple of integers as input. The function should return the maximum and\n",
    "#minimum values from the tuple using tuple unpacking."
   ]
  },
  {
   "cell_type": "code",
   "execution_count": 31,
   "id": "52b2947b-db52-408b-b35d-53a1e59fde82",
   "metadata": {},
   "outputs": [],
   "source": [
    "def max_min(tup):\n",
    "    a,b,*c=tup\n",
    "    if (max(tup) or min(tup))==a:\n",
    "        print(a,\"is required number\")\n",
    "    elif (max(tup) or min(tup))==b:\n",
    "        print(b,\"is required number\")\n",
    "    else:\n",
    "        for i in c:\n",
    "            if (max(tup) or min(tup))==i:\n",
    "                print(i,\"is required number\")"
   ]
  },
  {
   "cell_type": "code",
   "execution_count": 32,
   "id": "798b9db5-b7eb-4d63-a348-7c347607314c",
   "metadata": {},
   "outputs": [
    {
     "name": "stdout",
     "output_type": "stream",
     "text": [
      "100 is required number\n"
     ]
    }
   ],
   "source": [
    "max_min((10,3,4,5,6,100))"
   ]
  },
  {
   "cell_type": "code",
   "execution_count": 27,
   "id": "dbd906eb-9ed5-4e60-957c-2f8c25acb387",
   "metadata": {},
   "outputs": [],
   "source": [
    "#28.Create a code that defines two sets of integers. Then, print the union, intersection, and difference of these\n",
    "#two sets."
   ]
  },
  {
   "cell_type": "code",
   "execution_count": 30,
   "id": "dfc70225-97cf-4c15-a7a9-558ccc9569fa",
   "metadata": {},
   "outputs": [
    {
     "name": "stdin",
     "output_type": "stream",
     "text": [
      "enter first number  5\n"
     ]
    },
    {
     "name": "stdout",
     "output_type": "stream",
     "text": [
      "{0, 1, 2, 3, 4}\n"
     ]
    },
    {
     "name": "stdin",
     "output_type": "stream",
     "text": [
      "enter second number 10\n"
     ]
    },
    {
     "name": "stdout",
     "output_type": "stream",
     "text": [
      "{0, 1, 2, 3, 4, 5, 6, 7, 8, 9}\n",
      "{0, 1, 2, 3, 4}\n",
      "{0, 1, 2, 3, 4, 5, 6, 7, 8, 9}\n",
      "set()\n"
     ]
    }
   ],
   "source": [
    "a=set()\n",
    "n1=int(input(\"enter first number \"))\n",
    "for i in range(n1):\n",
    "    a.add(i)\n",
    "print(a)\n",
    "b=set()\n",
    "n2=int(input(\"enter second number\"))\n",
    "for i in range(n2):\n",
    "    b.add(i)\n",
    "print(b)\n",
    "\n",
    "print(a.intersection(b))\n",
    "print(a.union(b))\n",
    "print(a.difference(b))"
   ]
  },
  {
   "cell_type": "code",
   "execution_count": 33,
   "id": "2d2ebc5f-62c2-4180-9a97-90486b974d85",
   "metadata": {},
   "outputs": [],
   "source": [
    "#29.& Write a code that takes a tuple and an element as input. The function should return the count of\n",
    "#occurrences of the given element in the tuple."
   ]
  },
  {
   "cell_type": "code",
   "execution_count": 7,
   "id": "521a3bc8-218c-418c-bebf-98afb4b7e8d1",
   "metadata": {},
   "outputs": [],
   "source": [
    "def count_of_nunber(t):\n",
    "    s=0\n",
    "    for i in t:\n",
    "        a=t.count(i)\n",
    "        print(f\"the count of {i} is {a}\")\n",
    "        s+=1\n",
    "    "
   ]
  },
  {
   "cell_type": "code",
   "execution_count": 8,
   "id": "fbc135ef-f965-446e-b768-6d84727d7307",
   "metadata": {},
   "outputs": [
    {
     "name": "stdout",
     "output_type": "stream",
     "text": [
      "the count of 2 is 2\n"
     ]
    }
   ],
   "source": [
    "count_of_number((1,2,3,1,1,1,2))"
   ]
  },
  {
   "cell_type": "code",
   "execution_count": 9,
   "id": "74b8aa50-6931-4acf-9668-46d6b44c08f6",
   "metadata": {},
   "outputs": [],
   "source": [
    "#30.\u0005& Develop a code that prompts the user to input two sets of strings. Then, print the symmetric difference of \n",
    "#thesr two sets."
   ]
  },
  {
   "cell_type": "code",
   "execution_count": 15,
   "id": "81429b7d-3b47-4fb3-8825-0c79f2324240",
   "metadata": {},
   "outputs": [
    {
     "name": "stdin",
     "output_type": "stream",
     "text": [
      "enter first string vika\n"
     ]
    },
    {
     "name": "stdout",
     "output_type": "stream",
     "text": [
      "{'v', 'k', 'a', 'i'}\n"
     ]
    },
    {
     "name": "stdin",
     "output_type": "stream",
     "text": [
      "enter second string tiwa\n"
     ]
    },
    {
     "name": "stdout",
     "output_type": "stream",
     "text": [
      "{'a', 'i', 'w', 't'}\n",
      "{'v', 'k', 't', 'w'}\n"
     ]
    }
   ],
   "source": [
    "string_1=input(\"enter first string\")\n",
    "a=set()\n",
    "for i in string_1:\n",
    "    a.add(i)\n",
    "print(a)\n",
    "string_2=input(\"enter second string\")\n",
    "b=set()\n",
    "for i in string_2:\n",
    "    b.add(i)\n",
    "print(b)\n",
    "c=a.symmetric_difference(b)\n",
    "print(c)"
   ]
  },
  {
   "cell_type": "code",
   "execution_count": 16,
   "id": "22dcace4-9e2e-45c8-b8df-6f6e269e4ea6",
   "metadata": {},
   "outputs": [],
   "source": [
    "#31\u0005& Write a code that takes a list of words as input and returns a dictionary where the keys are unique words\n",
    "#and the values are the frequencies of those words in the input list."
   ]
  },
  {
   "cell_type": "code",
   "execution_count": 19,
   "id": "b147bf18-ba90-4932-accb-7dc92fd66c77",
   "metadata": {},
   "outputs": [
    {
     "name": "stdin",
     "output_type": "stream",
     "text": [
      "enter string: viikash\n"
     ]
    },
    {
     "name": "stdout",
     "output_type": "stream",
     "text": [
      "{'v': 1, 'i': 2, 'k': 1, 'a': 1, 's': 1, 'h': 1}\n"
     ]
    }
   ],
   "source": [
    "d={}\n",
    "a=input(\"enter string:\")\n",
    "for i in a:\n",
    "    key=i\n",
    "    value=a.count(i)\n",
    "    d[key]=value\n",
    "print(d)"
   ]
  },
  {
   "cell_type": "code",
   "execution_count": 20,
   "id": "d654ba7e-49e6-4831-968a-3ae605c9d176",
   "metadata": {},
   "outputs": [],
   "source": [
    "#32\u0005'& Write a code that takes two dictionaries as input and merges them into a single dictionary. If there are\n",
    "#common keys, the values should be added together."
   ]
  },
  {
   "cell_type": "code",
   "execution_count": 21,
   "id": "f02afe56-318e-46eb-9266-c3fbfdf129ef",
   "metadata": {},
   "outputs": [
    {
     "name": "stdout",
     "output_type": "stream",
     "text": [
      "{'a': 10, 'b': 30, 'c': 40, 'd': 10, 'e': 30}\n"
     ]
    }
   ],
   "source": [
    "dict1={\"a\":10,\"b\":20,\"c\":30}\n",
    "dict2={\"b\":10,\"c\":10,\"d\":10,\"e\":30}\n",
    "dict3=dict1.copy()\n",
    "dict3.update(dict2)\n",
    "for keys in dict2:\n",
    "    if keys in dict1:\n",
    "        dict3[keys]=dict1[keys] + dict2[keys]\n",
    "print(dict3)"
   ]
  },
  {
   "cell_type": "code",
   "execution_count": 22,
   "id": "91dffac3-1e35-4086-b5a6-5885082e974f",
   "metadata": {},
   "outputs": [],
   "source": [
    "#33\u0005\u0005& Write a code to access a value in a nested dictionary. The function should take the dictionary and a list of\n",
    "#keys as input, and return the corresponding value. If any of the keys do not exist in the dictionary, the\n",
    "#function should return None&"
   ]
  },
  {
   "cell_type": "code",
   "execution_count": 20,
   "id": "e31a3dbb-bbfa-4053-8119-6c934ff819d7",
   "metadata": {},
   "outputs": [
    {
     "name": "stdout",
     "output_type": "stream",
     "text": [
      "red\n"
     ]
    }
   ],
   "source": [
    "def get_nd(d, keys):\n",
    "    if not keys:\n",
    "        return d\n",
    "    return get_nd(d.get(keys[0], {}), keys[1:])\n",
    "\n",
    "nd = {\n",
    "    \"fruit\": {\n",
    "        \"apple\": {\n",
    "            \"color\": \"red\"\n",
    "        }}}\n",
    "\n",
    "# List of keys to navigate\n",
    "keys = [\"fruit\", \"apple\", \"color\"]\n",
    "\n",
    "print(get_nd(nd, keys)) \n"
   ]
  },
  {
   "cell_type": "code",
   "execution_count": null,
   "id": "b8f41055-9dab-46fb-94d8-e55569c91a89",
   "metadata": {},
   "outputs": [],
   "source": []
  },
  {
   "cell_type": "code",
   "execution_count": null,
   "id": "27c82fef-042b-4125-94f6-804f1f5dde8e",
   "metadata": {},
   "outputs": [],
   "source": []
  }
 ],
 "metadata": {
  "kernelspec": {
   "display_name": "Python 3 (ipykernel)",
   "language": "python",
   "name": "python3"
  },
  "language_info": {
   "codemirror_mode": {
    "name": "ipython",
    "version": 3
   },
   "file_extension": ".py",
   "mimetype": "text/x-python",
   "name": "python",
   "nbconvert_exporter": "python",
   "pygments_lexer": "ipython3",
   "version": "3.12.7"
  }
 },
 "nbformat": 4,
 "nbformat_minor": 5
}
