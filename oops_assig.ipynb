{
 "cells": [
  {
   "cell_type": "markdown",
   "id": "37b37915-148c-4e49-af12-5586503cf790",
   "metadata": {},
   "source": [
    "1. What are the five key concepts of Object-Oriented Programming (OOP)?"
   ]
  },
  {
   "cell_type": "markdown",
   "id": "3919517b-91bb-47bd-9f90-0a2b5d26d045",
   "metadata": {},
   "source": [
    "ans.the five key concept of object orienterd programming include \n",
    "1.class\n",
    "2.object\n",
    "3.inheritance\n",
    "4.polymorpsism\n",
    "5.abstraction"
   ]
  },
  {
   "cell_type": "code",
   "execution_count": 1,
   "id": "45d9977d-29cc-4453-bd23-bf4700a52454",
   "metadata": {},
   "outputs": [],
   "source": [
    "#inheritance means inhariting property of parent class\n",
    "class Car:\n",
    "    def accelerate(self):\n",
    "        print(\"car is accelerating\")  #mapping real world data\n",
    "    def stop(self):\n",
    "        print(\"car is stopping\")"
   ]
  },
  {
   "cell_type": "code",
   "execution_count": 2,
   "id": "3512db32-7a18-4f8b-ab8c-eadca4194707",
   "metadata": {},
   "outputs": [],
   "source": [
    "class sports_car(Car):\n",
    "    def car_info(self):\n",
    "        print(\"this is sports car\") #child class"
   ]
  },
  {
   "cell_type": "code",
   "execution_count": 11,
   "id": "8654a5c3-e6e0-41ba-a701-02286b63e07d",
   "metadata": {},
   "outputs": [
    {
     "ename": "NameError",
     "evalue": "name 'abc' is not defined",
     "output_type": "error",
     "traceback": [
      "\u001b[1;31m---------------------------------------------------------------------------\u001b[0m",
      "\u001b[1;31mNameError\u001b[0m                                 Traceback (most recent call last)",
      "Cell \u001b[1;32mIn[11], line 4\u001b[0m\n\u001b[0;32m      1\u001b[0m \u001b[38;5;66;03m#abstraction: hide complex code\u001b[39;00m\n\u001b[0;32m      2\u001b[0m \u001b[38;5;66;03m#abstract class cannot be intanciated.\u001b[39;00m\n\u001b[0;32m      3\u001b[0m \u001b[38;5;66;03m#subclass is responsible for implemanting abstract class\u001b[39;00m\n\u001b[1;32m----> 4\u001b[0m \u001b[38;5;28;01mclass\u001b[39;00m \u001b[38;5;21;01mpwskills\u001b[39;00m:\n\u001b[0;32m      5\u001b[0m     \u001b[38;5;129m@abc\u001b[39m\u001b[38;5;241m.\u001b[39mabstractmethod\n\u001b[0;32m      6\u001b[0m     \u001b[38;5;28;01mdef\u001b[39;00m \u001b[38;5;21mstudent_details\u001b[39m(\u001b[38;5;28mself\u001b[39m):\n\u001b[0;32m      7\u001b[0m         \u001b[38;5;28;01mpass\u001b[39;00m\n",
      "Cell \u001b[1;32mIn[11], line 5\u001b[0m, in \u001b[0;36mpwskills\u001b[1;34m()\u001b[0m\n\u001b[0;32m      4\u001b[0m \u001b[38;5;28;01mclass\u001b[39;00m \u001b[38;5;21;01mpwskills\u001b[39;00m:\n\u001b[1;32m----> 5\u001b[0m     \u001b[38;5;129m@abc\u001b[39m\u001b[38;5;241m.\u001b[39mabstractmethod\n\u001b[0;32m      6\u001b[0m     \u001b[38;5;28;01mdef\u001b[39;00m \u001b[38;5;21mstudent_details\u001b[39m(\u001b[38;5;28mself\u001b[39m):\n\u001b[0;32m      7\u001b[0m         \u001b[38;5;28;01mpass\u001b[39;00m\n\u001b[0;32m      8\u001b[0m     \u001b[38;5;129m@abc\u001b[39m\u001b[38;5;241m.\u001b[39mabstractmethod\n\u001b[0;32m      9\u001b[0m     \u001b[38;5;28;01mdef\u001b[39;00m \u001b[38;5;21mstudent_assignment\u001b[39m(\u001b[38;5;28mself\u001b[39m):\n",
      "\u001b[1;31mNameError\u001b[0m: name 'abc' is not defined"
     ]
    }
   ],
   "source": [
    "#abstraction: hide complex code\n",
    "#abstract class cannot be intanciated.\n",
    "#subclass is responsible for implemanting abstract class\n",
    "class pwskills:\n",
    "    @abc.abstractmethod\n",
    "    def student_details(self):\n",
    "        pass\n",
    "    @abc.abstractmethod\n",
    "    def student_assignment(self):\n",
    "       pass\n",
    "    @abc.abstractmethod\n",
    "    def student_marks(self):\n",
    "        pass\n",
    "class datascience(pwskills):\n",
    "    def student_details(self):\n",
    "        return \"ds couse details\"\n",
    "\n",
    "    def student_marks(self):\n",
    "        return \"give ds students marks\"\n",
    "class webdev(pwskills):\n",
    "    def student_assignment(self):\n",
    "        return \"wevdev assignment\""
   ]
  },
  {
   "cell_type": "code",
   "execution_count": null,
   "id": "87acaca1-1e9e-4b72-924e-1efa4bcfe8bc",
   "metadata": {},
   "outputs": [],
   "source": [
    "c1=Car()"
   ]
  },
  {
   "cell_type": "code",
   "execution_count": 4,
   "id": "bea05322-9220-4d8c-9dac-1acb19c40687",
   "metadata": {},
   "outputs": [
    {
     "name": "stdout",
     "output_type": "stream",
     "text": [
      "car is accelerating\n"
     ]
    }
   ],
   "source": [
    "c1.accelerate()"
   ]
  },
  {
   "cell_type": "code",
   "execution_count": 6,
   "id": "073e752b-f4da-48b8-85a8-cd75051dc2f6",
   "metadata": {},
   "outputs": [],
   "source": [
    "c2=sports_car()"
   ]
  },
  {
   "cell_type": "code",
   "execution_count": 7,
   "id": "12f4f1c9-a3d8-42ae-9636-a8cb3dc82113",
   "metadata": {},
   "outputs": [
    {
     "name": "stdout",
     "output_type": "stream",
     "text": [
      "this is sports car\n"
     ]
    }
   ],
   "source": [
    "c2.car_info()"
   ]
  },
  {
   "cell_type": "code",
   "execution_count": 8,
   "id": "645fa3f4-1f21-4418-abd6-79202985f2d7",
   "metadata": {},
   "outputs": [
    {
     "name": "stdout",
     "output_type": "stream",
     "text": [
      "car is stopping\n"
     ]
    }
   ],
   "source": [
    "c2.stop()  #child class can get the method of parent class"
   ]
  },
  {
   "cell_type": "markdown",
   "id": "e57b1781-2db9-437e-961e-8c4ab50fa933",
   "metadata": {},
   "source": [
    "2. Write a Python class for a `Car` with attributes for `make`, `model`, and `year`. Include a method to display "
   ]
  },
  {
   "cell_type": "markdown",
   "id": "ccb5fb91-bcd1-43f3-bf1a-4afa8b117517",
   "metadata": {},
   "source": [
    "the car's information."
   ]
  },
  {
   "cell_type": "code",
   "execution_count": 17,
   "id": "8061d19c-ed21-4c5a-9f3f-077013b77ce0",
   "metadata": {},
   "outputs": [],
   "source": [
    "class Car:\n",
    "    def __init__(self,name,model,year):\n",
    "        self.name=name\n",
    "        self.model=model\n",
    "        self.year=year\n",
    "    def method1(self):\n",
    "       print(\"the name of car is\",self.name)\n",
    "    def method2(self):\n",
    "       print(\"the car model is\",self.model)\n",
    "    def method3(self):\n",
    "        print(\"the car year is\",self.year)"
   ]
  },
  {
   "cell_type": "code",
   "execution_count": 18,
   "id": "16c7baba-8f32-4cec-87ad-56c0b2bb4d09",
   "metadata": {},
   "outputs": [],
   "source": [
    "c1=Car(\"maruti\",\"V\",\"2012\")"
   ]
  },
  {
   "cell_type": "code",
   "execution_count": 19,
   "id": "c49c336f-fe1e-41d6-ab72-da492f9395b1",
   "metadata": {},
   "outputs": [
    {
     "name": "stdout",
     "output_type": "stream",
     "text": [
      "the name of car is maruti\n"
     ]
    }
   ],
   "source": [
    "c1.method1()"
   ]
  },
  {
   "cell_type": "code",
   "execution_count": 20,
   "id": "4ebc5f14-ec06-4cb5-89be-f22b40dd5a87",
   "metadata": {},
   "outputs": [
    {
     "data": {
      "text/plain": [
       "'2012'"
      ]
     },
     "execution_count": 20,
     "metadata": {},
     "output_type": "execute_result"
    }
   ],
   "source": [
    "c1.year"
   ]
  },
  {
   "cell_type": "code",
   "execution_count": null,
   "id": "31c57979-0e57-46a1-aec0-4bfac558f85f",
   "metadata": {},
   "outputs": [],
   "source": []
  },
  {
   "cell_type": "markdown",
   "id": "77c50e6e-1f46-424e-a96c-d74da8d26c8b",
   "metadata": {},
   "source": [
    "3. Explain the difference between instance methods and class methods. Provide an example of each."
   ]
  },
  {
   "cell_type": "markdown",
   "id": "928afede-7983-490c-8b86-b3d8fb761ffb",
   "metadata": {},
   "source": [
    "Instance methods\n",
    "When creating an instance method, the first parameter is always self. You can name it anything you want, but the meaning will always be the same, and you should use self since it's the naming convention. self is (usually) passed hiddenly when calling an instance method; it represents the instance calling the method.\n",
    "class method\n",
    "The idea of a class method is very similar to an instance method, only difference being that instead of passing the instance hiddenly as a first parameter, we're now passing the class itself as a first parameter."
   ]
  },
  {
   "cell_type": "code",
   "execution_count": 10,
   "id": "a5b14447-f8df-495f-b82f-cad82f12fe15",
   "metadata": {},
   "outputs": [],
   "source": [
    "class Inst:\n",
    "\n",
    "    def __init__(self, name):\n",
    "        self.name = name\n",
    "\n",
    "    def introduce(self):\n",
    "        print(\"Hello, I am %s, and my name is \" %(self, self.name))\n",
    "\n",
    "#class method\n",
    "class Cls:\n",
    "\n",
    "    @classmethod\n",
    "    def introduce(cls):\n",
    "        print(\"Hello, I am %s!\" %cls)"
   ]
  },
  {
   "cell_type": "markdown",
   "id": "48d3cbc3-0a22-4006-8432-3b41a36ae022",
   "metadata": {},
   "source": [
    "4. How does Python implement method overloading? Give an example."
   ]
  },
  {
   "cell_type": "markdown",
   "id": "cabf332a-8b98-4d1f-9ae0-7d602e373eba",
   "metadata": {},
   "source": [
    "ans.We must write methods that use default arguments or variable-length arguments to achieve method overloading in Python."
   ]
  },
  {
   "cell_type": "code",
   "execution_count": 3,
   "id": "d8335128-9b3e-454e-99ba-c8bb78696721",
   "metadata": {},
   "outputs": [
    {
     "name": "stdout",
     "output_type": "stream",
     "text": [
      "110\n",
      "310\n",
      "610\n"
     ]
    }
   ],
   "source": [
    "class Calc:\n",
    "\n",
    "   def add(self, *args):\n",
    "\n",
    "     result = 10\n",
    "\n",
    "     for parameter in args:\n",
    "\n",
    "        result += parameter\n",
    "\n",
    "        print(result)\n",
    "\n",
    "n1 = Calc()\n",
    "\n",
    "n1.add(100, 200, 300)"
   ]
  },
  {
   "cell_type": "code",
   "execution_count": 5,
   "id": "e9f6d5bf-4a9d-41a2-8458-9e802caf9130",
   "metadata": {},
   "outputs": [],
   "source": [
    "class Fruits:\n",
    "    def fruit_info(self):\n",
    "        print(\"inside parent class\")\n",
    "class Apple(Fruits):\n",
    "    def fruit_info(self):\n",
    "        print(\"inside child class\")\n",
    "    def apple_info(self):\n",
    "        print(\"this is apple\")"
   ]
  },
  {
   "cell_type": "code",
   "execution_count": 6,
   "id": "2a62d6ed-afcd-44bc-9339-892c258b77e2",
   "metadata": {},
   "outputs": [],
   "source": [
    "c1=Fruits()"
   ]
  },
  {
   "cell_type": "code",
   "execution_count": 7,
   "id": "54f03078-7548-495a-8341-f01a1b82d364",
   "metadata": {},
   "outputs": [
    {
     "name": "stdout",
     "output_type": "stream",
     "text": [
      "inside parent class\n"
     ]
    }
   ],
   "source": [
    "c1.fruit_info()"
   ]
  },
  {
   "cell_type": "code",
   "execution_count": 9,
   "id": "2b9db62c-e8d4-457b-b489-718e85363b7d",
   "metadata": {},
   "outputs": [
    {
     "name": "stdout",
     "output_type": "stream",
     "text": [
      "inside child class\n"
     ]
    }
   ],
   "source": [
    "c2=Apple()  # child class is powerfull\n",
    "c2.fruit_info()"
   ]
  },
  {
   "cell_type": "markdown",
   "id": "1a5476b3-753d-4edc-939b-95c18164111f",
   "metadata": {},
   "source": [
    "5. What are the three types of access modifiers in Python? How are they denoted?"
   ]
  },
  {
   "cell_type": "code",
   "execution_count": 27,
   "id": "ccd25b27-0bcd-4906-969b-cee4119a9d73",
   "metadata": {},
   "outputs": [],
   "source": [
    "#the three type of access modifier are 1.public 2.protected 3,private\n",
    "class student:\n",
    "    def __init__(self,name,degree):\n",
    "        self.name=name\n",
    "        self.degree=degree\n",
    "c1=student(\"vikash\",\"b.tec\")\n",
    "c1.name\n",
    "c1.degree\n",
    "\n",
    "class student:\n",
    "    def __init__(self,name,degree):\n",
    "        self.__name=name        #protected access modifier\n",
    "    \n",
    "        self.__degree=degree\n",
    "\n",
    "#public accessible outside the class and can be modified\n",
    "#protected  not accessible outside the class and cannot be modified.\n",
    "#private this is privte"
   ]
  },
  {
   "cell_type": "markdown",
   "id": "acabd340-3eb4-4347-9942-7679a4dd6b55",
   "metadata": {},
   "source": [
    "6. Describe the five types of inheritance in Python. Provide a simple example of multiple inheritance."
   ]
  },
  {
   "cell_type": "markdown",
   "id": "a3ba6fc5-253d-4cfc-8e2d-2f60963c2906",
   "metadata": {},
   "source": [
    "1Single Inheritance:Single inheritance enables a derived class to inherit properties from a single parent class, thus enabling code reusability and the addition of new features to existing code.\n",
    "2Multi-level Inheritance:In Python, multiple inheritance is a feature where a class can inherit attributes and methods from more than one parent class\n",
    "3Multiple Inheritance:multiple parent class\n",
    "\n",
    "4Hierarchical Inheritance:there is hierechy in order\n",
    "5Hybrid Inheritance:multiple type of combination of different inheritance"
   ]
  },
  {
   "cell_type": "code",
   "execution_count": 2,
   "id": "1b138f1d-6c44-4115-a174-989d06ee2570",
   "metadata": {},
   "outputs": [],
   "source": [
    "#single inheritance , child cass can access method of parent class\n",
    "class Father:\n",
    "    def father_property(self):\n",
    "        print(\"father property\")\n",
    "class Son(Father):\n",
    "    def son_property(self):\n",
    "        print(\"son property\")"
   ]
  },
  {
   "cell_type": "code",
   "execution_count": 3,
   "id": "18d4af7c-a19a-4949-be21-e8c8dfeb0882",
   "metadata": {},
   "outputs": [
    {
     "name": "stdout",
     "output_type": "stream",
     "text": [
      "father property\n"
     ]
    }
   ],
   "source": [
    "c1=Son()\n",
    "c1.father_property()"
   ]
  },
  {
   "cell_type": "code",
   "execution_count": 4,
   "id": "e60d9263-382a-4cb6-b1f5-61596a09cb72",
   "metadata": {},
   "outputs": [],
   "source": [
    "#multilevel inheritance\n",
    "class Grandfather:\n",
    "    def method1(self):\n",
    "        print(\"grandfather property\")\n",
    "class Father(Grandfather):\n",
    "    def method2(self):\n",
    "        print(\"father property\")\n",
    "class son(Father):\n",
    "    def method3(self):\n",
    "        print(\"son property\")"
   ]
  },
  {
   "cell_type": "markdown",
   "id": "5f88a4da-b43d-475c-97ae-7ca331990cf6",
   "metadata": {},
   "source": [
    "7. What is the Method Resolution Order (MRO) in Python? How can you retrieve it programmatically?"
   ]
  },
  {
   "cell_type": "markdown",
   "id": "55c4f17b-b2ca-4a34-b63a-ed57affad5f8",
   "metadata": {},
   "source": [
    "ans: it occurs when a class inherits from 2 or more then 2 class it leads to ambiguity in execution of code ,it is solved by MRO."
   ]
  },
  {
   "cell_type": "code",
   "execution_count": 6,
   "id": "57f5ab06-619e-414e-9125-09b2e702d2fe",
   "metadata": {},
   "outputs": [],
   "source": [
    "class  parentclass1:\n",
    "    def method1(self):\n",
    "        print(\"method of parentclass 1\")\n",
    "class parentclass2:\n",
    "    def method2(self):\n",
    "        print(\"method of parentclass 2\")\n",
    "class childclass(parentclass1,parentclass2):\n",
    "    def method3(self):\n",
    "        print(\"method of childclass\")"
   ]
  },
  {
   "cell_type": "markdown",
   "id": "99778362-9f18-45ed-b4c8-1941065eba08",
   "metadata": {},
   "source": [
    "8. Create an abstract base class `Shape` with an abstract method `area()`. Then create two subclasses\n",
    "`Circle` and `Rectangle` that implement the `area()` method"
   ]
  },
  {
   "cell_type": "code",
   "execution_count": 7,
   "id": "b58922a7-793d-42b8-9209-49ba08d80193",
   "metadata": {},
   "outputs": [],
   "source": [
    "class shape:\n",
    "    \n",
    "    def calculate_area(self):\n",
    "        pass"
   ]
  },
  {
   "cell_type": "code",
   "execution_count": 8,
   "id": "8d247ae6-129b-428d-badf-cfc0e9f50a69",
   "metadata": {},
   "outputs": [],
   "source": [
    "class rectangle(shape):\n",
    "    def calculate_area(self):\n",
    "        return \"area of rectangle is lenght*breadth\""
   ]
  },
  {
   "cell_type": "code",
   "execution_count": 9,
   "id": "2c86fb14-07f1-40f0-bf9d-0d4399a931ee",
   "metadata": {},
   "outputs": [],
   "source": [
    "class circle(shape):\n",
    "    def claculate_area(self):\n",
    "        return \"area of circle\""
   ]
  },
  {
   "cell_type": "markdown",
   "id": "54a8c417-f121-481e-a3f6-56b207b3e09b",
   "metadata": {},
   "source": [
    "9. Demonstrate polymorphism by creating a function that can work with different shape objects to calculate\n",
    "and print their areas."
   ]
  },
  {
   "cell_type": "code",
   "execution_count": 29,
   "id": "e07c7cda-c241-4471-a233-73b85c813d87",
   "metadata": {},
   "outputs": [],
   "source": [
    "class shape:\n",
    "    def calculate_area(self):\n",
    "        print(\"area of shape is\")\n",
    "class rectangle(shape):\n",
    "    def area(self):\n",
    "        print(\"area of rectangle is lenght*breadth\")\n",
    "class circle(shape):\n",
    "    def area(self):\n",
    "        print(\"area of circle is pi*r**2\")"
   ]
  },
  {
   "cell_type": "code",
   "execution_count": null,
   "id": "fd553779-6778-473b-8b73-ae1f86cae8f9",
   "metadata": {},
   "outputs": [],
   "source": []
  },
  {
   "cell_type": "markdown",
   "id": "ab370034-469a-46cf-9755-df4d8ec73ec6",
   "metadata": {},
   "source": [
    "10. Implement encapsulation in a `BankAccount` class with private attributes for `balance` and\n",
    "`account_number`. Include methods for deposit, withdrawal, and balance inquiry."
   ]
  },
  {
   "cell_type": "code",
   "execution_count": 7,
   "id": "35de7763-0d19-41d9-a1ee-3718f6fc8b06",
   "metadata": {},
   "outputs": [],
   "source": [
    "class BankAccount:\n",
    "    def __init__(self,balance,account_number):\n",
    "        self.__balance=balance\n",
    "        self.__account_number=account_number\n",
    "\n",
    "    def deposit(self):\n",
    "        print(\"i am depositing the money\")\n",
    "    def withdraw(self):\n",
    "        print(\"i am withdrawing the money\")\n",
    "    def balance(self):\n",
    "        print(\"my balance is\")\n",
    "    def show(self):\n",
    "        print(self.__balance,self.__account_number)\n",
    "        "
   ]
  },
  {
   "cell_type": "code",
   "execution_count": 8,
   "id": "009f57a9-ce4e-4800-8037-dd152b7c2325",
   "metadata": {},
   "outputs": [],
   "source": [
    "c1=BankAccount(1000,1234567789)"
   ]
  },
  {
   "cell_type": "code",
   "execution_count": 9,
   "id": "f5cd4f96-7fc7-472a-84fb-8ea4c9f76113",
   "metadata": {},
   "outputs": [
    {
     "name": "stdout",
     "output_type": "stream",
     "text": [
      "1000 1234567789\n"
     ]
    }
   ],
   "source": [
    "c1.show()"
   ]
  },
  {
   "cell_type": "code",
   "execution_count": 10,
   "id": "ebe73647-d2d1-48ec-a6bd-7f74e7797155",
   "metadata": {},
   "outputs": [
    {
     "data": {
      "text/plain": [
       "<bound method BankAccount.balance of <__main__.BankAccount object at 0x000001C2CFAD8890>>"
      ]
     },
     "execution_count": 10,
     "metadata": {},
     "output_type": "execute_result"
    }
   ],
   "source": [
    "c1.balance"
   ]
  },
  {
   "cell_type": "code",
   "execution_count": null,
   "id": "c6585a54-8617-4897-a7ed-a73efa1718ff",
   "metadata": {},
   "outputs": [],
   "source": []
  },
  {
   "cell_type": "markdown",
   "id": "b82d301c-e769-4e98-86be-39b6e0a41c2c",
   "metadata": {},
   "source": [
    "11. Write a class that overrides the `__str__` and `__add__` magic methods. What will these methods allow\n",
    "you to do?"
   ]
  },
  {
   "cell_type": "code",
   "execution_count": null,
   "id": "26543ae1-8642-4491-b2d4-22ad2df5d84f",
   "metadata": {},
   "outputs": [],
   "source": []
  },
  {
   "cell_type": "code",
   "execution_count": 14,
   "id": "dbc28491-5e47-431a-9cae-64c933147767",
   "metadata": {},
   "outputs": [],
   "source": [
    "def __str__(self):\n",
    "    if self.imaginary == 0:\n",
    "        return f'{self.real}'\n",
    "    if self.real == 0:\n",
    "        return f'{self.imaginary}i'\n",
    "\n",
    "    return f'{self.real} {self.imaginary:+}i'"
   ]
  },
  {
   "cell_type": "markdown",
   "id": "ab861884-899e-421f-99d5-7244eb428b3f",
   "metadata": {},
   "source": [
    "The __add__ method is called when the addition operator ( + ) is used with instances of your custom class. It should take two arguments: self and other . This method should return a new object representing the result of the addition, leaving the original objects unchanged."
   ]
  },
  {
   "cell_type": "markdown",
   "id": "cab9bcfe-87f1-4980-9216-669ba071f86b",
   "metadata": {},
   "source": [
    "12. Create a decorator that measures and prints the execution time of a function."
   ]
  },
  {
   "cell_type": "code",
   "execution_count": 23,
   "id": "972912da-f688-44c2-997c-d2bc342a58fa",
   "metadata": {},
   "outputs": [],
   "source": [
    "import time\n",
    "\n",
    "def measure_execution_time(func):\n",
    "    def wrapper(*args, **kwargs):\n",
    "        start_time = time.time()\n",
    "        result = func(*args, **kwargs)\n",
    "        end_time = time.time()\n",
    "        execution_time = end_time - start_time\n",
    "        print(f\"Function {func.__name__} took {execution_time:.4f} seconds to execute\")\n",
    "        return result\n",
    "    return wrapper"
   ]
  },
  {
   "cell_type": "markdown",
   "id": "67d05968-ce88-41f2-b6fa-4e7b853f9ad5",
   "metadata": {},
   "source": [
    "13. Explain the concept of the Diamond Problem in multiple inheritance. How does Python resolve it?"
   ]
  },
  {
   "cell_type": "code",
   "execution_count": 16,
   "id": "f1f8da88-581b-4656-97de-cd716b710ad7",
   "metadata": {},
   "outputs": [],
   "source": [
    "#it occur when class inherits from 2 or more then 2 class"
   ]
  },
  {
   "cell_type": "code",
   "execution_count": 19,
   "id": "3905a088-373f-47e5-9e6b-08e451845a68",
   "metadata": {},
   "outputs": [],
   "source": [
    "class A:\n",
    "    def method(self):\n",
    "        print(\"method o class A\")\n",
    "class B(A):\n",
    "    def method(self):\n",
    "        print(\"method of class B\")\n",
    "class C(A):\n",
    "    def method(self):\n",
    "        print(\"method of class C\")\n",
    "class D(C,B):      #diamond problem solved by MRO algorithm\n",
    "    pass"
   ]
  },
  {
   "cell_type": "code",
   "execution_count": 20,
   "id": "e37e61fd-0fe9-4301-99d9-eaf800a18ba7",
   "metadata": {},
   "outputs": [],
   "source": [
    "c1=D()"
   ]
  },
  {
   "cell_type": "code",
   "execution_count": 21,
   "id": "7811f22f-d88c-41ec-9c3a-7527b06974c7",
   "metadata": {},
   "outputs": [
    {
     "name": "stdout",
     "output_type": "stream",
     "text": [
      "method of class C\n"
     ]
    }
   ],
   "source": [
    "c1.method()"
   ]
  },
  {
   "cell_type": "markdown",
   "id": "62068deb-7d19-4662-8ff1-6f953bdc22c0",
   "metadata": {},
   "source": [
    "14. Write a class method that keeps track of the number of instances created from a class."
   ]
  },
  {
   "cell_type": "code",
   "execution_count": 22,
   "id": "a967f506-2156-442d-8518-e49ee1e16d44",
   "metadata": {},
   "outputs": [
    {
     "name": "stdout",
     "output_type": "stream",
     "text": [
      "1 2\n"
     ]
    }
   ],
   "source": [
    "class Something:\n",
    "    id=0\n",
    "    def __init__(self):\n",
    "        Something.id+=1\n",
    "        self.id = Something.id\n",
    "        \n",
    "something1=Something()\n",
    "something2=Something()\n",
    "\n",
    "print(something1.id, something2.id)"
   ]
  },
  {
   "cell_type": "markdown",
   "id": "da12261d-7a19-475e-9313-e6f3595efdd5",
   "metadata": {},
   "source": [
    "15. Implement a static method in a class that checks if a given year is a leap year."
   ]
  },
  {
   "cell_type": "code",
   "execution_count": 28,
   "id": "77101e2a-799e-4b9d-b58d-82b13afe3ff2",
   "metadata": {},
   "outputs": [
    {
     "name": "stdout",
     "output_type": "stream",
     "text": [
      "1996 is a leap year.\n",
      "2000 is a leap year.\n",
      "1900 is not a leap year.\n",
      "2021 is not a leap year.\n"
     ]
    }
   ],
   "source": [
    "def is_leap_year(year):\n",
    "    return (year % 4 == 0 and year % 100 != 0) or (year % 400 == 0)\n",
    "# Example Usage\n",
    "years = [1996, 2000, 1900, 2021]\n",
    "for year in years:\n",
    "    if is_leap_year(year):\n",
    "        print(f\"{year} is a leap year.\")\n",
    "    else:\n",
    "        print(f\"{year} is not a leap year.\")"
   ]
  },
  {
   "cell_type": "code",
   "execution_count": null,
   "id": "78eebf27-10bc-4dc4-b0d5-1d6c6ee99c4d",
   "metadata": {},
   "outputs": [],
   "source": []
  }
 ],
 "metadata": {
  "kernelspec": {
   "display_name": "Python 3 (ipykernel)",
   "language": "python",
   "name": "python3"
  },
  "language_info": {
   "codemirror_mode": {
    "name": "ipython",
    "version": 3
   },
   "file_extension": ".py",
   "mimetype": "text/x-python",
   "name": "python",
   "nbconvert_exporter": "python",
   "pygments_lexer": "ipython3",
   "version": "3.12.7"
  }
 },
 "nbformat": 4,
 "nbformat_minor": 5
}
