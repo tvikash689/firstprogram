{
 "cells": [
  {
   "cell_type": "markdown",
   "id": "3859eddf-ceda-43d5-8f66-3a06c75eb3a1",
   "metadata": {},
   "source": [
    "1.What is Simple Linear Regression."
   ]
  },
  {
   "cell_type": "markdown",
   "id": "91bdfef0-24c2-40b7-9a90-b6b46e4bf097",
   "metadata": {},
   "source": [
    "ans.Simple linear regression is used to estimate the relationship between two quantitative variables. You can use simple linear regression when you want to know:\n",
    "\n",
    "How strong the relationship is between two variables (e.g., the relationship between rainfall and soil erosion).\n",
    "The value of the dependent variable at a certain value of the independent variable (e.g., the amount of soil erosion at a certain level of rainfall).\n",
    "Regression models describe the relationship between variables by fitting a line to the observed data. Linear regression models use a straight line, while logistic and nonlinear regression models use a curved line. Regression allows you to estimate how a dependent variable changes as the independent variable(s) change."
   ]
  },
  {
   "cell_type": "markdown",
   "id": "471b03c9-09a4-4727-9d06-7e35409b9aae",
   "metadata": {},
   "source": [
    "2.What are the key assumptions of Simple Linear Regression."
   ]
  },
  {
   "cell_type": "markdown",
   "id": "0428f88e-5631-4391-b973-eda13b6aeed3",
   "metadata": {},
   "source": [
    "ans.The key assumption of simple linear regression are:\n",
    "1.linearity : x,y follow linear relationship.\n",
    "2.independance: The observed row are independent with each other.\n",
    "3.Homoscedasticity: the variance of error are constant.\n",
    "4.normality of error.\n",
    "5.features should not be correlated."
   ]
  },
  {
   "cell_type": "markdown",
   "id": "fab0b5b1-fbf7-4567-a858-9e643b5cf6d2",
   "metadata": {},
   "source": [
    "5.What does the coefficient m represent in the equation Y=mX+c."
   ]
  },
  {
   "cell_type": "markdown",
   "id": "b3e1da4a-fae4-40aa-811c-41af62e5ff74",
   "metadata": {},
   "source": [
    "ans.m is called slope , it is rate of change of y with respect to x."
   ]
  },
  {
   "cell_type": "markdown",
   "id": "2d949283-7d43-4a39-8eb0-c36a5f224cc9",
   "metadata": {},
   "source": [
    "4.What does the intercept c represent in the equation Y=mX+c."
   ]
  },
  {
   "cell_type": "markdown",
   "id": "13ab92f0-4396-43dd-9269-1a0558b4cf40",
   "metadata": {},
   "source": [
    "ans.it is intercept on y axis when x=0.\n",
    "    y=mx+c,putting x=0,\n",
    "    y=c"
   ]
  },
  {
   "cell_type": "markdown",
   "id": "d470816d-1e4d-459f-b1b8-5cacf1458ae4",
   "metadata": {},
   "source": [
    "5.How do we calculate the slope m in Simple Linear Regression."
   ]
  },
  {
   "cell_type": "markdown",
   "id": "cf9a6602-c6a8-4aff-bef9-c3ddb708ab67",
   "metadata": {},
   "source": [
    "ans.in simple linear regression ,slope is calculated using convergence algorithm."
   ]
  },
  {
   "cell_type": "markdown",
   "id": "6f23b8b2-b722-42a5-b138-025b5f30b345",
   "metadata": {},
   "source": [
    "m_new=m_old - nd/dm (cost function), where n is learning rate"
   ]
  },
  {
   "cell_type": "markdown",
   "id": "a5e4e317-6e84-4fad-976c-256d17b30c6b",
   "metadata": {},
   "source": [
    "6.What is the purpose of the least squares method in Simple Linear Regression."
   ]
  },
  {
   "cell_type": "markdown",
   "id": "7eece003-6bc8-4199-a849-21f140db3491",
   "metadata": {},
   "source": [
    "Least Square Method formula is used to find the best-fitting line through a set of data points. For a simple linear regression, which is a line of the form y=mx+c, where y is the dependent variable, x is the independent variable, a is the slope of the line, and b is the y-intercept, the formulas to calculate the slope (m) and intercept (c) of the line are derived from the following equations."
   ]
  },
  {
   "cell_type": "markdown",
   "id": "0cad55b7-0231-45f9-9888-b542777148ce",
   "metadata": {},
   "source": [
    "Slope (m) Formula: m = n(∑xy)−(∑x)(∑y) / n(∑x2)−(∑x)2  ,\n",
    "Intercept (c) Formula: c = (∑y)−a(∑x) / n"
   ]
  },
  {
   "cell_type": "markdown",
   "id": "6ecf04ab-b8c2-4401-9f2f-01ad0456a0dc",
   "metadata": {},
   "source": [
    "7.How is the coefficient of determination (R²) interpreted in Simple Linear Regression."
   ]
  },
  {
   "cell_type": "markdown",
   "id": "350b9e13-1cab-42b6-9616-94d6508d877b",
   "metadata": {},
   "source": [
    "R square value range from 0 to 1, if value of r square is close to 1,the the model is perfect model and if r square is close to 0 ,the it is imperfect model.\n",
    "r square = 1 - RSS/TSS\n",
    "RSS=residula sum of square,\n",
    "TSS =total eroor"
   ]
  },
  {
   "cell_type": "markdown",
   "id": "3d0bcf07-18c6-46c3-bb74-7fa422364b25",
   "metadata": {},
   "source": [
    "8.What is Multiple Linear Regression."
   ]
  },
  {
   "cell_type": "markdown",
   "id": "3a655530-bbf1-4caa-80b2-95937a5fdd83",
   "metadata": {},
   "source": [
    "In multiple linear regression, we have more then 1 independant variable."
   ]
  },
  {
   "cell_type": "markdown",
   "id": "5da3106f-9590-4bf9-b695-96bf52ae5467",
   "metadata": {},
   "source": [
    "The equation for multiple linear regression is:\n",
    "\n",
    "y\n",
    "=\n",
    "β\n",
    "0\n",
    "+\n",
    "β\n",
    "1\n",
    "X\n",
    "1\n",
    "+​\n"
   ]
  },
  {
   "cell_type": "markdown",
   "id": "1ec196f2-61a7-4142-a28b-ab9c3074539c",
   "metadata": {},
   "source": [
    "the euation doesnot represent straight line, it represent hyper plane"
   ]
  },
  {
   "cell_type": "markdown",
   "id": "8d2c19a5-45b8-4232-ad1e-d198345e7f4b",
   "metadata": {},
   "source": [
    "9.What is the main difference between Simple and Multiple Linear Regression."
   ]
  },
  {
   "cell_type": "markdown",
   "id": "0705fedb-8fea-4e1d-996e-5fc0581e3aa8",
   "metadata": {},
   "source": [
    "ans.in simple linear regression, the equation represent straight line while in MLR the equation represent hyper plane."
   ]
  },
  {
   "cell_type": "markdown",
   "id": "09182262-abf0-413a-b969-41f190a10bcd",
   "metadata": {},
   "source": [
    "in SLR, we find the coefficient of straight line, while in MLR,we find the coefficient of hyperplane.."
   ]
  },
  {
   "cell_type": "markdown",
   "id": "9ae22ad0-aecb-4463-b6ad-d63a9f3c7997",
   "metadata": {},
   "source": [
    "10.What are the key assumptions of Multiple Linear Regression?"
   ]
  },
  {
   "cell_type": "markdown",
   "id": "e14950e8-2ba6-4456-96bb-509aa55aeb9d",
   "metadata": {},
   "source": [
    "ans.Multiple regressions can be linear and nonlinear. MLRs are based on the assumption that there is a linear relationship between both the dependent and independent variables. It also assumes no major correlation between the independent variables."
   ]
  },
  {
   "cell_type": "markdown",
   "id": "df1f627e-a372-4e2b-91e8-66c346c322b4",
   "metadata": {},
   "source": [
    "11.What is heteroscedasticity, and how does it affect the results of a Multiple Linear Regression model."
   ]
  },
  {
   "cell_type": "markdown",
   "id": "96abbfff-a257-4a33-82e0-1342b815a974",
   "metadata": {},
   "source": [
    "ans.hetroscedasticity means non constant variance with respect to predicted value."
   ]
  },
  {
   "cell_type": "markdown",
   "id": "e954d5d2-2f43-42a5-ad4a-d02f4d5e68c1",
   "metadata": {},
   "source": [
    "ans.multiple regression will not be good at explaining the relationship of the independent variables to the dependent variables if those relationships are not linear."
   ]
  },
  {
   "cell_type": "markdown",
   "id": "e6d86da2-c00e-4267-b7cd-d6f11029a5c3",
   "metadata": {},
   "source": [
    "12.How can you improve a Multiple Linear Regression model with high multicollinearity."
   ]
  },
  {
   "cell_type": "markdown",
   "id": "fc62ab30-c3eb-4e43-990d-1fc8378fec1c",
   "metadata": {},
   "source": [
    "ans.1.Remove some of the highly correlated independent variables.\n",
    "    2.Linearly combine the independent variables, such as adding them together."
   ]
  },
  {
   "cell_type": "markdown",
   "id": "5aad6cb6-0992-424e-9051-cb0ee1d16d8d",
   "metadata": {},
   "source": [
    "13.What are some common techniques for transforming categorical variables for use in regression models."
   ]
  },
  {
   "cell_type": "markdown",
   "id": "06e50f67-49aa-4f8d-932d-ecfdbcb5e815",
   "metadata": {},
   "source": [
    "ans.To use categorical variables in a linear regression model, we need to convert them into numerical variables that can be used in the model. There are several techniques for doing this, including one-hot encoding, label encoding, and binary encodin"
   ]
  },
  {
   "cell_type": "markdown",
   "id": "9dd8b676-7565-4b09-a368-9b0e28080cdc",
   "metadata": {},
   "source": [
    "14. What is the role of interaction terms in Multiple Linear Regression."
   ]
  },
  {
   "cell_type": "markdown",
   "id": "197d49ca-4335-4c0b-a4f5-df856a63c844",
   "metadata": {},
   "source": [
    "ans.An interaction occurs when an independent variable has a different effect on the outcome depending on the values of another independent variable. Adding interaction terms to a regression model can greatly expand understanding of the relationships among the variables in the model and allows more hypotheses to be tested."
   ]
  },
  {
   "cell_type": "markdown",
   "id": "f8c81a30-6e40-4b2d-86bf-18e88884f001",
   "metadata": {},
   "source": [
    "VIF is used to find the intraction between variables."
   ]
  },
  {
   "cell_type": "markdown",
   "id": "ce17bad7-f7bb-4933-9eae-8e6d10de604a",
   "metadata": {},
   "source": [
    "15. How can the interpretation of intercept differ between Simple and Multiple Linear Regression."
   ]
  },
  {
   "cell_type": "markdown",
   "id": "9b18b66e-f007-4e82-8e23-fa7c3f7cb206",
   "metadata": {},
   "source": [
    "ans.in SLR ,INTERCEPT, is value on y axis when x=0. [line]"
   ]
  },
  {
   "cell_type": "markdown",
   "id": "ab4d77d0-4f83-410b-b83b-a7342a448a18",
   "metadata": {},
   "source": [
    "while in MLR, INTERCEPT is the value on y axis when the plane cuts the y axis [plane]"
   ]
  },
  {
   "cell_type": "markdown",
   "id": "e1a4c5c7-3efe-45b6-ac93-e55cfc98c05f",
   "metadata": {},
   "source": [
    "16.What is the significance of the slope in regression analysis, and how does it affect predictions."
   ]
  },
  {
   "cell_type": "markdown",
   "id": "39a329c0-666d-461e-b627-873522320bac",
   "metadata": {},
   "source": [
    "ans.The slope of a regression line in a simple linear regression model represents the rate of change in the dependent variable (Y) with respect to a one-unit change in the independent variable (X). In other words, it quantifies the average change in the dependent variable for each unit increase in the independent variable"
   ]
  },
  {
   "cell_type": "markdown",
   "id": "7c10bf7a-6b10-4076-8bf9-5fd884db3b1d",
   "metadata": {},
   "source": [
    "17. How does the intercept in a regression model provide context for the relationship between variables."
   ]
  },
  {
   "cell_type": "markdown",
   "id": "e7e088ad-2c39-40a2-86dd-82fe0a2b14f5",
   "metadata": {},
   "source": [
    "ans.sometimes intercept represent nothing meaning value for the dataset.\n",
    "    sometimes it represent the average value when x=0."
   ]
  },
  {
   "cell_type": "markdown",
   "id": "99b54300-c64d-4705-8a3f-ef5fbc5263b3",
   "metadata": {},
   "source": [
    "18. What are the limitations of using R² as a sole measure of model performance."
   ]
  },
  {
   "cell_type": "markdown",
   "id": "1d689158-7946-4e98-b1cc-bfa51042bd7f",
   "metadata": {},
   "source": [
    "ans.R-squared tends to increase as more variables are added to the model, even if these variables don't significantly improve the model's predictive power. This can lead to overfitting, especially with small sample sizes."
   ]
  },
  {
   "cell_type": "markdown",
   "id": "57eb05df-6f8d-4f6a-89ce-f68ad3993649",
   "metadata": {},
   "source": [
    "19.How would you interpret a large standard error for a regression coefficient."
   ]
  },
  {
   "cell_type": "markdown",
   "id": "7b057520-4734-4467-9fd4-594240270802",
   "metadata": {},
   "source": [
    "ans.A smaller standard error suggests that the estimate of the coefficient is more likely to be close to the true population value. In contrast, a larger standard error indicates more variability and less confidence in the precision of the coefficient estimate"
   ]
  },
  {
   "cell_type": "markdown",
   "id": "12bc5f6b-b17e-49cf-aea6-ac69ae0f66d1",
   "metadata": {},
   "source": [
    "20.How can heteroscedasticity be identified in residual plots, and why is it important to address it."
   ]
  },
  {
   "cell_type": "markdown",
   "id": "8cd9892c-fb92-4452-95f6-167f4acf9062",
   "metadata": {},
   "source": [
    "ans.When observing a plot of the residuals, a fan or cone shape indicates the presence of heteroskedasticity. In statistics, heteroskedasticity is seen as a problem because regressions involving ordinary least squares (OLS) assume that the residuals are drawn from a population with constant variance."
   ]
  },
  {
   "cell_type": "markdown",
   "id": "2ab41cc3-9ee4-4b7f-be87-dc821eaf5673",
   "metadata": {},
   "source": [
    "21.What does it mean if a Multiple Linear Regression model has a high R² but low adjusted R²."
   ]
  },
  {
   "cell_type": "markdown",
   "id": "130e1f8b-f9b6-480c-bff7-4c53dae331da",
   "metadata": {},
   "source": [
    "ans.While r-squared measures the proportion of variance in the dependent variable explained by the independent variables, it always increases when more predictors are added. Adjusted r-squared adjusts for the number of predictors and decreases if the additional variables do not contribute to the model's significance."
   ]
  },
  {
   "cell_type": "markdown",
   "id": "59c8ca8b-f42d-4c3a-bd65-d62c3576cd59",
   "metadata": {},
   "source": [
    "22.Why is it important to scale variables in Multiple Linear Regression."
   ]
  },
  {
   "cell_type": "markdown",
   "id": "9dba1a5e-4796-4c69-94c6-af28f3e2baa8",
   "metadata": {},
   "source": [
    "ans.In regression, it is often recommended to scale the features so that the predictors have a mean of 0. This makes it easier to interpret the intercept term as the expected value of Y when the predictor values are set to their means"
   ]
  },
  {
   "cell_type": "markdown",
   "id": "7fb26df2-58f6-4751-834f-f086c8c14feb",
   "metadata": {},
   "source": [
    "23.What is polynomial regression."
   ]
  },
  {
   "cell_type": "markdown",
   "id": "e29eb52f-a52f-4c18-9eb0-bdfb3b45443e",
   "metadata": {},
   "source": [
    "ans.Polynomial regression is an extension of a standard linear regression model. Polynomial regression models the non-linear relationship between a predictor and an outcome variable using the Nth-degree polynomial of the predictor."
   ]
  },
  {
   "cell_type": "markdown",
   "id": "3b65a8cf-0be6-44ba-b8fb-40460a6669a7",
   "metadata": {},
   "source": [
    "https://upload.wikimedia.org/wikipedia/commons/thumb/8/8b/Polyreg_scheffe.svg/1024px-Polyreg_scheffe.svg.png"
   ]
  },
  {
   "attachments": {
    "d40eede6-4854-4d9a-902e-ba80106fe0fc.png": {
     "image/png": "[encoded data removed]"
    }
   },
   "cell_type": "markdown",
   "id": "43c054a8-7e45-4b44-a040-cfc9e0ae25f6",
   "metadata": {},
   "source": [
    "![machine-learning-polynomial-regression.png](attachment:d40eede6-4854-4d9a-902e-ba80106fe0fc.png)"
   ]
  },
  {
   "cell_type": "markdown",
   "id": "177a3550-d3b2-487d-9b08-10d4b5d8c212",
   "metadata": {},
   "source": [
    "25.How does polynomial regression differ from linear regression."
   ]
  },
  {
   "cell_type": "markdown",
   "id": "b317f3f4-0b7e-4079-88e5-24a32d99895b",
   "metadata": {},
   "source": [
    "ans.While both are used to predict a dependent variable based on independent variables, polynomial regression fits a non-linear relationship (curved line) to the data. In contrast, multiple linear regression fits a straight line, even if there are multiple independent variables."
   ]
  },
  {
   "cell_type": "markdown",
   "id": "cbc687a6-feda-4475-80ea-cbeaa257f68c",
   "metadata": {},
   "source": [
    "25.When is polynomial regression used."
   ]
  },
  {
   "cell_type": "markdown",
   "id": "09fd0353-c021-4f39-b86a-71c96214765d",
   "metadata": {},
   "source": [
    "ans.It is used when linear regression models may not adequately capture the complexity of the relationship. It can be useful in various fields, such as finance, physics, engineering, and social sciences, where there may be nonlinear relationships between variables.\n"
   ]
  },
  {
   "cell_type": "markdown",
   "id": "3153f1e6-412c-494d-941a-09564fc1df68",
   "metadata": {},
   "source": [
    "26.What is the general equation for polynomial regression."
   ]
  },
  {
   "cell_type": "markdown",
   "id": "ce754a85-57f6-4b17-8895-b099f510afa9",
   "metadata": {},
   "source": [
    "ans.The general form of a polynomial regression equation of degree n is:"
   ]
  },
  {
   "cell_type": "markdown",
   "id": "93e18edd-06dd-4dbc-868a-27d75dbca345",
   "metadata": {},
   "source": [
    "y=β \n",
    "0\n",
    "​\n",
    " +β \n",
    "1\n",
    "​\n",
    " x+β \n",
    "2\n",
    "​\n",
    " x \n",
    "2\n",
    " +…+β \n",
    "n\n",
    "​\n",
    " x \n",
    "n\n",
    " +ϵ"
   ]
  },
  {
   "cell_type": "markdown",
   "id": "cbcde1c2-f60b-4eaa-a668-11dbe90a80fc",
   "metadata": {},
   "source": [
    "27.Can polynomial regression be applied to multiple variables."
   ]
  },
  {
   "cell_type": "markdown",
   "id": "635d3916-151a-489f-bd8d-ac509e8131ee",
   "metadata": {},
   "source": [
    "ans.What is Multivariate Polynomial Regression? Multivariate polynomial regression is an extension of linear regression that allows for multiple input variables and non-linear relationships between the input variables and the target variable."
   ]
  },
  {
   "cell_type": "markdown",
   "id": "cbc0b3e8-af6f-434c-9ee8-6c6ded57292e",
   "metadata": {},
   "source": [
    "28.What are the limitations of polynomial regression."
   ]
  },
  {
   "cell_type": "markdown",
   "id": "39af4fa7-7d71-40af-b395-d1161eface6e",
   "metadata": {},
   "source": [
    "ans.Overfitting: Higher-degree polynomial models are susceptible to overfitting, where the model fits the training data too closely and loses generalization ability. Careful model selection and regularization techniques are required to mitigate this."
   ]
  },
  {
   "cell_type": "markdown",
   "id": "d9fa9db3-da81-4a62-afcb-d516f0ac7801",
   "metadata": {},
   "source": [
    "29. What methods can be used to evaluate model fit when selecting the degree of a polynomial."
   ]
  },
  {
   "cell_type": "markdown",
   "id": "3e64459d-fa7c-4aa9-993e-d85adfedfce7",
   "metadata": {},
   "source": [
    "ans.The solution is to have a separate validation set on which we can evaluate the model for each polynomial degree. If we fit the model using the original data (training set) but evaluate it using the validation set, the model will overfit to the noise in the training set but not in the validation set"
   ]
  },
  {
   "cell_type": "markdown",
   "id": "da794ebf-693c-4f29-902d-c801c52fa6be",
   "metadata": {},
   "source": [
    "30.Why is visualization important in polynomial regression."
   ]
  },
  {
   "cell_type": "markdown",
   "id": "ed2e34c9-399f-4a09-a3be-79b1074cb05c",
   "metadata": {},
   "source": [
    "ans.visualisation is important in polynomial regrsiion to get insight of data."
   ]
  },
  {
   "cell_type": "markdown",
   "id": "d1bcafef-4a6e-4008-90d2-c038f6f865f9",
   "metadata": {},
   "source": [
    "31. How is polynomial regression implemented in Python?"
   ]
  },
  {
   "cell_type": "raw",
   "id": "c51b535a-9bf8-4220-8492-cf18b3c3975f",
   "metadata": {},
   "source": [
    "# Fitting Linear Regression to the dataset\n",
    "from sklearn.linear_model import LinearRegression\n",
    "lin = LinearRegression()\n",
    " \n",
    "lin.fit(X, y)"
   ]
  },
  {
   "cell_type": "code",
   "execution_count": null,
   "id": "240d61a9-ecc0-4092-a2d3-cc6042f5a43f",
   "metadata": {},
   "outputs": [],
   "source": []
  }
 ],
 "metadata": {
  "kernelspec": {
   "display_name": "Python 3 (ipykernel)",
   "language": "python",
   "name": "python3"
  },
  "language_info": {
   "codemirror_mode": {
    "name": "ipython",
    "version": 3
   },
   "file_extension": ".py",
   "mimetype": "text/x-python",
   "name": "python",
   "nbconvert_exporter": "python",
   "pygments_lexer": "ipython3",
   "version": "3.12.7"
  }
 },
 "nbformat": 4,
 "nbformat_minor": 5
}
