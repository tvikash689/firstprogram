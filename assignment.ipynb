{
  "nbformat": 4,
  "nbformat_minor": 0,
  "metadata": {
    "colab": {
      "provenance": []
    },
    "kernelspec": {
      "name": "python3",
      "display_name": "Python 3"
    },
    "language_info": {
      "name": "python"
    }
  },
  "cells": [
    {
      "cell_type": "code",
      "execution_count": 6,
      "metadata": {
        "colab": {
          "base_uri": "https://localhost:8080/"
        },
        "id": "ZRacLFeCyST6",
        "outputId": "98d4eb9a-8e4e-481e-9e73-4f2d171136c5"
      },
      "outputs": [
        {
          "output_type": "stream",
          "name": "stdout",
          "text": [
            "prime\n",
            "not prime\n",
            "[(1, 5), (2, 8), (3, 2), (4, 1)]\n"
          ]
        }
      ],
      "source": [
        "#1.write a function that takes a list as input and return the sum of all even numbers in the list.\n",
        "def add(numbers):\n",
        "  even_sum=0\n",
        "\n",
        "  for num in numbers:\n",
        "\n",
        "      if num % 2 == 0:\n",
        "       even_sum += num\n",
        "  return even_sum\n",
        "add({1,2,3,5,6,20})\n",
        "\n",
        "\n",
        "#2.create a python function that accept the string and return the reverse of it.\n",
        "def reverse_string(a):\n",
        "  for i in a:\n",
        "    return a[::-1]\n",
        "reverse_string(\"vikash\")\n",
        "\n",
        "\n",
        "#3.implement a python that takes list of integers and return a new list containing square of each number.\n",
        "def square(a):\n",
        "  list=[]\n",
        "  for i in a:\n",
        "    list.append(i**2)\n",
        "  return list\n",
        "square([1,2,3,4,5])\n",
        "\n",
        "#4.write a python function that checks weather given number is prime or not from 1 to 200.\n",
        "def check_prime(number):\n",
        "\n",
        "  for i in range(2,number):\n",
        "    if number % i == 0:\n",
        "      print(\"not prime\")\n",
        "      break\n",
        "    else:\n",
        "      print(\"prime\")\n",
        "check_prime(201)\n",
        "\n",
        "\n",
        "#5.create an iterator class in python that generates fibonacci sequence up to specified number of times.\n",
        "\n",
        "def feb(n):\n",
        "  a,b=0,1\n",
        "  for i in range(n):\n",
        "    yield a\n",
        "    a,b=b,a+b\n",
        "\n",
        "\n",
        "#6.write a generator function in python that yields the power of 2 up to a given exponent.\n",
        "def square_number_generator(n):\n",
        "  for i in range(n):\n",
        "    yield i**2\n",
        "\n",
        "a=square_number_generator(5)\n",
        "next(a)\n",
        "next(a)\n",
        "next(a)\n",
        "next(a)\n",
        "next(a)\n",
        "\n",
        "#7.implement a generator function that reads file line by line and yield each line as a string.\n",
        "\n",
        "\n",
        "\n",
        "\n",
        "\n",
        "\n",
        "\n",
        "\n",
        "\n",
        "\n",
        "#8.use lambda function in python to sort a list of tuples based on second element of each tuple.\n",
        "\n",
        "tuple_list=[(1,5),(3,2),(2,8),(4,1)]\n",
        "sorted_list=sorted(tuple_list,key=lambda x:x[:1])\n",
        "\n",
        "print(sorted_list)\n",
        "\n",
        "\n",
        "#9."
      ]
    }
  ]
}