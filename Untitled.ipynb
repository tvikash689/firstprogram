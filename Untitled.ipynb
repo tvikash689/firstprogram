{
 "cells": [
  {
   "cell_type": "code",
   "execution_count": 382,
   "id": "0ab07543-1e08-4db5-bd5b-099d75861378",
   "metadata": {},
   "outputs": [],
   "source": [
    "import pandas as pd\n",
    "import numpy as np\n",
    "import matplotlib.pyplot as plt\n",
    "import seaborn as sns"
   ]
  },
  {
   "cell_type": "code",
   "execution_count": 383,
   "id": "026bfbe4-760d-415e-b167-3321bf1f92b4",
   "metadata": {},
   "outputs": [],
   "source": [
    "df=pd.read_csv(\"BIKE DETAILS.csv\")"
   ]
  },
  {
   "cell_type": "markdown",
   "id": "7bee3981-20ca-462d-99bb-d08a4ea1dc53",
   "metadata": {},
   "source": [
    "1.What is the range of selling prices in the dataset.?"
   ]
  },
  {
   "cell_type": "code",
   "execution_count": 384,
   "id": "409fed57-2a19-4535-8359-f648e2a3d216",
   "metadata": {},
   "outputs": [],
   "source": [
    "a=df[\"selling_price\"].min()"
   ]
  },
  {
   "cell_type": "code",
   "execution_count": 385,
   "id": "c3616d42-3746-4b12-bbde-5f439a1a6a60",
   "metadata": {},
   "outputs": [],
   "source": [
    "b=df[\"selling_price\"].max()"
   ]
  },
  {
   "cell_type": "code",
   "execution_count": 386,
   "id": "aa1593f0-38da-4a43-aa33-1dffc5332daa",
   "metadata": {},
   "outputs": [],
   "source": [
    "range_of_selling_price=b-a"
   ]
  },
  {
   "cell_type": "code",
   "execution_count": 387,
   "id": "e64a4b43-df45-442b-b199-b6fdbaa23f4d",
   "metadata": {},
   "outputs": [
    {
     "data": {
      "text/plain": [
       "755000"
      ]
     },
     "execution_count": 387,
     "metadata": {},
     "output_type": "execute_result"
    }
   ],
   "source": [
    "range_of_selling_price"
   ]
  },
  {
   "cell_type": "markdown",
   "id": "143f63ec-b8fe-403d-9af3-0f8f3b48d798",
   "metadata": {},
   "source": [
    "2.%B What is the median selling price for bikes in the dataset."
   ]
  },
  {
   "cell_type": "code",
   "execution_count": 388,
   "id": "be67b639-359c-432a-ae9c-0a65d01fb375",
   "metadata": {},
   "outputs": [
    {
     "data": {
      "text/plain": [
       "45000.0"
      ]
     },
     "execution_count": 388,
     "metadata": {},
     "output_type": "execute_result"
    }
   ],
   "source": [
    "df[\"selling_price\"].median()"
   ]
  },
  {
   "cell_type": "markdown",
   "id": "aa77fd3e-5f84-4be5-8b19-2936bf320010",
   "metadata": {},
   "source": [
    "3.\"B What is the most common seller type."
   ]
  },
  {
   "cell_type": "markdown",
   "id": "f2d048bb-5a7d-481f-bf1a-f8cbb9212dca",
   "metadata": {},
   "source": [
    "df"
   ]
  },
  {
   "cell_type": "code",
   "execution_count": 389,
   "id": "de8a12fb-1c61-475e-b09b-a0f49467c2ab",
   "metadata": {},
   "outputs": [
    {
     "data": {
      "text/plain": [
       "seller_type\n",
       "Individual    1055\n",
       "Dealer           6\n",
       "Name: count, dtype: int64"
      ]
     },
     "execution_count": 389,
     "metadata": {},
     "output_type": "execute_result"
    }
   ],
   "source": [
    "df[\"seller_type\"].value_counts()"
   ]
  },
  {
   "cell_type": "markdown",
   "id": "b2239568-8cb6-4c52-b7eb-2c60e61bb540",
   "metadata": {},
   "source": [
    "4.B How many bikes have driven more than 50,000 kilometersD"
   ]
  },
  {
   "cell_type": "markdown",
   "id": "78c98802-0f9c-4f49-84d1-733645c7f811",
   "metadata": {},
   "source": [
    "df"
   ]
  },
  {
   "cell_type": "markdown",
   "id": "142c25c2-5359-4168-a597-ec6468c6610d",
   "metadata": {},
   "source": [
    "df[\"km_driven\"]>50000"
   ]
  },
  {
   "cell_type": "code",
   "execution_count": 390,
   "id": "a7c427ee-93cd-49c5-ad63-29f2ee830164",
   "metadata": {},
   "outputs": [
    {
     "data": {
      "text/plain": [
       "170"
      ]
     },
     "execution_count": 390,
     "metadata": {},
     "output_type": "execute_result"
    }
   ],
   "source": [
    "len(df[df[\"km_driven\"]>50000])"
   ]
  },
  {
   "cell_type": "markdown",
   "id": "6d932494-e355-44f4-a799-63a3d4d9d644",
   "metadata": {},
   "source": [
    "5. What is the average km_driven value for each ownership typeD"
   ]
  },
  {
   "cell_type": "code",
   "execution_count": 391,
   "id": "4ccad62c-4d23-4bd7-bd5b-7db20998abf0",
   "metadata": {},
   "outputs": [
    {
     "data": {
      "text/plain": [
       "34359.83317624882"
      ]
     },
     "execution_count": 391,
     "metadata": {},
     "output_type": "execute_result"
    }
   ],
   "source": [
    "np.mean(df[\"km_driven\"])"
   ]
  },
  {
   "cell_type": "markdown",
   "id": "b02a85d5-cb9a-400e-b55e-a973defe9413",
   "metadata": {},
   "source": [
    "6.\u0017B What proportion of bikes are from the year 2015 or olderD"
   ]
  },
  {
   "cell_type": "code",
   "execution_count": 392,
   "id": "058647a3-065c-408b-9d17-0e65fbac2d96",
   "metadata": {},
   "outputs": [
    {
     "data": {
      "text/html": [
       "<div>\n",
       "<style scoped>\n",
       "    .dataframe tbody tr th:only-of-type {\n",
       "        vertical-align: middle;\n",
       "    }\n",
       "\n",
       "    .dataframe tbody tr th {\n",
       "        vertical-align: top;\n",
       "    }\n",
       "\n",
       "    .dataframe thead th {\n",
       "        text-align: right;\n",
       "    }\n",
       "</style>\n",
       "<table border=\"1\" class=\"dataframe\">\n",
       "  <thead>\n",
       "    <tr style=\"text-align: right;\">\n",
       "      <th></th>\n",
       "      <th>name</th>\n",
       "      <th>selling_price</th>\n",
       "      <th>year</th>\n",
       "      <th>seller_type</th>\n",
       "      <th>owner</th>\n",
       "      <th>km_driven</th>\n",
       "      <th>ex_showroom_price</th>\n",
       "    </tr>\n",
       "  </thead>\n",
       "  <tbody>\n",
       "    <tr>\n",
       "      <th>0</th>\n",
       "      <td>Royal Enfield Classic 350</td>\n",
       "      <td>175000</td>\n",
       "      <td>2019</td>\n",
       "      <td>Individual</td>\n",
       "      <td>1st owner</td>\n",
       "      <td>350</td>\n",
       "      <td>NaN</td>\n",
       "    </tr>\n",
       "    <tr>\n",
       "      <th>1</th>\n",
       "      <td>Honda Dio</td>\n",
       "      <td>45000</td>\n",
       "      <td>2017</td>\n",
       "      <td>Individual</td>\n",
       "      <td>1st owner</td>\n",
       "      <td>5650</td>\n",
       "      <td>NaN</td>\n",
       "    </tr>\n",
       "    <tr>\n",
       "      <th>2</th>\n",
       "      <td>Royal Enfield Classic Gunmetal Grey</td>\n",
       "      <td>150000</td>\n",
       "      <td>2018</td>\n",
       "      <td>Individual</td>\n",
       "      <td>1st owner</td>\n",
       "      <td>12000</td>\n",
       "      <td>148114.0</td>\n",
       "    </tr>\n",
       "    <tr>\n",
       "      <th>3</th>\n",
       "      <td>Yamaha Fazer FI V 2.0 [2016-2018]</td>\n",
       "      <td>65000</td>\n",
       "      <td>2015</td>\n",
       "      <td>Individual</td>\n",
       "      <td>1st owner</td>\n",
       "      <td>23000</td>\n",
       "      <td>89643.0</td>\n",
       "    </tr>\n",
       "    <tr>\n",
       "      <th>4</th>\n",
       "      <td>Yamaha SZ [2013-2014]</td>\n",
       "      <td>20000</td>\n",
       "      <td>2011</td>\n",
       "      <td>Individual</td>\n",
       "      <td>2nd owner</td>\n",
       "      <td>21000</td>\n",
       "      <td>NaN</td>\n",
       "    </tr>\n",
       "    <tr>\n",
       "      <th>...</th>\n",
       "      <td>...</td>\n",
       "      <td>...</td>\n",
       "      <td>...</td>\n",
       "      <td>...</td>\n",
       "      <td>...</td>\n",
       "      <td>...</td>\n",
       "      <td>...</td>\n",
       "    </tr>\n",
       "    <tr>\n",
       "      <th>1056</th>\n",
       "      <td>Activa 3g</td>\n",
       "      <td>17000</td>\n",
       "      <td>2010</td>\n",
       "      <td>Individual</td>\n",
       "      <td>1st owner</td>\n",
       "      <td>500000</td>\n",
       "      <td>52000.0</td>\n",
       "    </tr>\n",
       "    <tr>\n",
       "      <th>1057</th>\n",
       "      <td>Honda CB twister</td>\n",
       "      <td>16000</td>\n",
       "      <td>2012</td>\n",
       "      <td>Individual</td>\n",
       "      <td>1st owner</td>\n",
       "      <td>33000</td>\n",
       "      <td>51000.0</td>\n",
       "    </tr>\n",
       "    <tr>\n",
       "      <th>1058</th>\n",
       "      <td>Bajaj Discover 125</td>\n",
       "      <td>15000</td>\n",
       "      <td>2013</td>\n",
       "      <td>Individual</td>\n",
       "      <td>2nd owner</td>\n",
       "      <td>35000</td>\n",
       "      <td>57000.0</td>\n",
       "    </tr>\n",
       "    <tr>\n",
       "      <th>1059</th>\n",
       "      <td>Honda CB Shine</td>\n",
       "      <td>12000</td>\n",
       "      <td>2009</td>\n",
       "      <td>Individual</td>\n",
       "      <td>1st owner</td>\n",
       "      <td>53000</td>\n",
       "      <td>58000.0</td>\n",
       "    </tr>\n",
       "    <tr>\n",
       "      <th>1060</th>\n",
       "      <td>Bajaj Pulsar 150</td>\n",
       "      <td>10000</td>\n",
       "      <td>2008</td>\n",
       "      <td>Individual</td>\n",
       "      <td>1st owner</td>\n",
       "      <td>92233</td>\n",
       "      <td>75000.0</td>\n",
       "    </tr>\n",
       "  </tbody>\n",
       "</table>\n",
       "<p>1061 rows × 7 columns</p>\n",
       "</div>"
      ],
      "text/plain": [
       "                                     name  selling_price  year seller_type  \\\n",
       "0               Royal Enfield Classic 350         175000  2019  Individual   \n",
       "1                               Honda Dio          45000  2017  Individual   \n",
       "2     Royal Enfield Classic Gunmetal Grey         150000  2018  Individual   \n",
       "3       Yamaha Fazer FI V 2.0 [2016-2018]          65000  2015  Individual   \n",
       "4                   Yamaha SZ [2013-2014]          20000  2011  Individual   \n",
       "...                                   ...            ...   ...         ...   \n",
       "1056                            Activa 3g          17000  2010  Individual   \n",
       "1057                     Honda CB twister          16000  2012  Individual   \n",
       "1058                   Bajaj Discover 125          15000  2013  Individual   \n",
       "1059                       Honda CB Shine          12000  2009  Individual   \n",
       "1060                     Bajaj Pulsar 150          10000  2008  Individual   \n",
       "\n",
       "          owner  km_driven  ex_showroom_price  \n",
       "0     1st owner        350                NaN  \n",
       "1     1st owner       5650                NaN  \n",
       "2     1st owner      12000           148114.0  \n",
       "3     1st owner      23000            89643.0  \n",
       "4     2nd owner      21000                NaN  \n",
       "...         ...        ...                ...  \n",
       "1056  1st owner     500000            52000.0  \n",
       "1057  1st owner      33000            51000.0  \n",
       "1058  2nd owner      35000            57000.0  \n",
       "1059  1st owner      53000            58000.0  \n",
       "1060  1st owner      92233            75000.0  \n",
       "\n",
       "[1061 rows x 7 columns]"
      ]
     },
     "execution_count": 392,
     "metadata": {},
     "output_type": "execute_result"
    }
   ],
   "source": [
    "df"
   ]
  },
  {
   "cell_type": "code",
   "execution_count": 393,
   "id": "82e6da3e-7b18-4525-9627-68e7ceb7f052",
   "metadata": {},
   "outputs": [
    {
     "data": {
      "text/plain": [
       "0        True\n",
       "1        True\n",
       "2        True\n",
       "3       False\n",
       "4       False\n",
       "        ...  \n",
       "1056    False\n",
       "1057    False\n",
       "1058    False\n",
       "1059    False\n",
       "1060    False\n",
       "Name: year, Length: 1061, dtype: bool"
      ]
     },
     "execution_count": 393,
     "metadata": {},
     "output_type": "execute_result"
    }
   ],
   "source": [
    "df[\"year\"]>2015"
   ]
  },
  {
   "cell_type": "code",
   "execution_count": 394,
   "id": "32309f30-3c1c-40ee-9e02-4574dc4f33b7",
   "metadata": {},
   "outputs": [
    {
     "data": {
      "text/plain": [
       "460"
      ]
     },
     "execution_count": 394,
     "metadata": {},
     "output_type": "execute_result"
    }
   ],
   "source": [
    "len(df[df[\"year\"]>2015])"
   ]
  },
  {
   "cell_type": "markdown",
   "id": "35c932a1-3885-4740-9e87-4e36d4739537",
   "metadata": {},
   "source": [
    "7. What is the trend of missing values across the datasetD"
   ]
  },
  {
   "cell_type": "code",
   "execution_count": 395,
   "id": "f140a350-bd3d-49a1-8807-0f9d31114a8a",
   "metadata": {},
   "outputs": [
    {
     "name": "stdout",
     "output_type": "stream",
     "text": [
      "<class 'pandas.core.frame.DataFrame'>\n",
      "RangeIndex: 1061 entries, 0 to 1060\n",
      "Data columns (total 7 columns):\n",
      " #   Column             Non-Null Count  Dtype  \n",
      "---  ------             --------------  -----  \n",
      " 0   name               1061 non-null   object \n",
      " 1   selling_price      1061 non-null   int64  \n",
      " 2   year               1061 non-null   int64  \n",
      " 3   seller_type        1061 non-null   object \n",
      " 4   owner              1061 non-null   object \n",
      " 5   km_driven          1061 non-null   int64  \n",
      " 6   ex_showroom_price  626 non-null    float64\n",
      "dtypes: float64(1), int64(3), object(3)\n",
      "memory usage: 58.2+ KB\n"
     ]
    }
   ],
   "source": [
    "df.info()"
   ]
  },
  {
   "cell_type": "code",
   "execution_count": 396,
   "id": "9038bdf9-2997-4a54-b846-274bd4e5ac38",
   "metadata": {},
   "outputs": [
    {
     "data": {
      "text/plain": [
       "435"
      ]
     },
     "execution_count": 396,
     "metadata": {},
     "output_type": "execute_result"
    }
   ],
   "source": [
    "df[\"ex_showroom_price\"].isnull().sum()"
   ]
  },
  {
   "cell_type": "markdown",
   "id": "1a7a4a9e-89d8-4693-bde3-ee80acb8bd4b",
   "metadata": {},
   "source": [
    "8. What is the highest ex_showroom_price recorded, and for which bike."
   ]
  },
  {
   "cell_type": "code",
   "execution_count": 397,
   "id": "0f96e340-8fdd-4a2f-9dfa-38cdca16eedd",
   "metadata": {},
   "outputs": [
    {
     "data": {
      "text/html": [
       "<div>\n",
       "<style scoped>\n",
       "    .dataframe tbody tr th:only-of-type {\n",
       "        vertical-align: middle;\n",
       "    }\n",
       "\n",
       "    .dataframe tbody tr th {\n",
       "        vertical-align: top;\n",
       "    }\n",
       "\n",
       "    .dataframe thead th {\n",
       "        text-align: right;\n",
       "    }\n",
       "</style>\n",
       "<table border=\"1\" class=\"dataframe\">\n",
       "  <thead>\n",
       "    <tr style=\"text-align: right;\">\n",
       "      <th></th>\n",
       "      <th>name</th>\n",
       "      <th>selling_price</th>\n",
       "      <th>year</th>\n",
       "      <th>seller_type</th>\n",
       "      <th>owner</th>\n",
       "      <th>km_driven</th>\n",
       "      <th>ex_showroom_price</th>\n",
       "    </tr>\n",
       "  </thead>\n",
       "  <tbody>\n",
       "    <tr>\n",
       "      <th>0</th>\n",
       "      <td>Royal Enfield Classic 350</td>\n",
       "      <td>175000</td>\n",
       "      <td>2019</td>\n",
       "      <td>Individual</td>\n",
       "      <td>1st owner</td>\n",
       "      <td>350</td>\n",
       "      <td>NaN</td>\n",
       "    </tr>\n",
       "    <tr>\n",
       "      <th>1</th>\n",
       "      <td>Honda Dio</td>\n",
       "      <td>45000</td>\n",
       "      <td>2017</td>\n",
       "      <td>Individual</td>\n",
       "      <td>1st owner</td>\n",
       "      <td>5650</td>\n",
       "      <td>NaN</td>\n",
       "    </tr>\n",
       "    <tr>\n",
       "      <th>2</th>\n",
       "      <td>Royal Enfield Classic Gunmetal Grey</td>\n",
       "      <td>150000</td>\n",
       "      <td>2018</td>\n",
       "      <td>Individual</td>\n",
       "      <td>1st owner</td>\n",
       "      <td>12000</td>\n",
       "      <td>148114.0</td>\n",
       "    </tr>\n",
       "    <tr>\n",
       "      <th>3</th>\n",
       "      <td>Yamaha Fazer FI V 2.0 [2016-2018]</td>\n",
       "      <td>65000</td>\n",
       "      <td>2015</td>\n",
       "      <td>Individual</td>\n",
       "      <td>1st owner</td>\n",
       "      <td>23000</td>\n",
       "      <td>89643.0</td>\n",
       "    </tr>\n",
       "    <tr>\n",
       "      <th>4</th>\n",
       "      <td>Yamaha SZ [2013-2014]</td>\n",
       "      <td>20000</td>\n",
       "      <td>2011</td>\n",
       "      <td>Individual</td>\n",
       "      <td>2nd owner</td>\n",
       "      <td>21000</td>\n",
       "      <td>NaN</td>\n",
       "    </tr>\n",
       "    <tr>\n",
       "      <th>...</th>\n",
       "      <td>...</td>\n",
       "      <td>...</td>\n",
       "      <td>...</td>\n",
       "      <td>...</td>\n",
       "      <td>...</td>\n",
       "      <td>...</td>\n",
       "      <td>...</td>\n",
       "    </tr>\n",
       "    <tr>\n",
       "      <th>1056</th>\n",
       "      <td>Activa 3g</td>\n",
       "      <td>17000</td>\n",
       "      <td>2010</td>\n",
       "      <td>Individual</td>\n",
       "      <td>1st owner</td>\n",
       "      <td>500000</td>\n",
       "      <td>52000.0</td>\n",
       "    </tr>\n",
       "    <tr>\n",
       "      <th>1057</th>\n",
       "      <td>Honda CB twister</td>\n",
       "      <td>16000</td>\n",
       "      <td>2012</td>\n",
       "      <td>Individual</td>\n",
       "      <td>1st owner</td>\n",
       "      <td>33000</td>\n",
       "      <td>51000.0</td>\n",
       "    </tr>\n",
       "    <tr>\n",
       "      <th>1058</th>\n",
       "      <td>Bajaj Discover 125</td>\n",
       "      <td>15000</td>\n",
       "      <td>2013</td>\n",
       "      <td>Individual</td>\n",
       "      <td>2nd owner</td>\n",
       "      <td>35000</td>\n",
       "      <td>57000.0</td>\n",
       "    </tr>\n",
       "    <tr>\n",
       "      <th>1059</th>\n",
       "      <td>Honda CB Shine</td>\n",
       "      <td>12000</td>\n",
       "      <td>2009</td>\n",
       "      <td>Individual</td>\n",
       "      <td>1st owner</td>\n",
       "      <td>53000</td>\n",
       "      <td>58000.0</td>\n",
       "    </tr>\n",
       "    <tr>\n",
       "      <th>1060</th>\n",
       "      <td>Bajaj Pulsar 150</td>\n",
       "      <td>10000</td>\n",
       "      <td>2008</td>\n",
       "      <td>Individual</td>\n",
       "      <td>1st owner</td>\n",
       "      <td>92233</td>\n",
       "      <td>75000.0</td>\n",
       "    </tr>\n",
       "  </tbody>\n",
       "</table>\n",
       "<p>1061 rows × 7 columns</p>\n",
       "</div>"
      ],
      "text/plain": [
       "                                     name  selling_price  year seller_type  \\\n",
       "0               Royal Enfield Classic 350         175000  2019  Individual   \n",
       "1                               Honda Dio          45000  2017  Individual   \n",
       "2     Royal Enfield Classic Gunmetal Grey         150000  2018  Individual   \n",
       "3       Yamaha Fazer FI V 2.0 [2016-2018]          65000  2015  Individual   \n",
       "4                   Yamaha SZ [2013-2014]          20000  2011  Individual   \n",
       "...                                   ...            ...   ...         ...   \n",
       "1056                            Activa 3g          17000  2010  Individual   \n",
       "1057                     Honda CB twister          16000  2012  Individual   \n",
       "1058                   Bajaj Discover 125          15000  2013  Individual   \n",
       "1059                       Honda CB Shine          12000  2009  Individual   \n",
       "1060                     Bajaj Pulsar 150          10000  2008  Individual   \n",
       "\n",
       "          owner  km_driven  ex_showroom_price  \n",
       "0     1st owner        350                NaN  \n",
       "1     1st owner       5650                NaN  \n",
       "2     1st owner      12000           148114.0  \n",
       "3     1st owner      23000            89643.0  \n",
       "4     2nd owner      21000                NaN  \n",
       "...         ...        ...                ...  \n",
       "1056  1st owner     500000            52000.0  \n",
       "1057  1st owner      33000            51000.0  \n",
       "1058  2nd owner      35000            57000.0  \n",
       "1059  1st owner      53000            58000.0  \n",
       "1060  1st owner      92233            75000.0  \n",
       "\n",
       "[1061 rows x 7 columns]"
      ]
     },
     "execution_count": 397,
     "metadata": {},
     "output_type": "execute_result"
    }
   ],
   "source": [
    "df"
   ]
  },
  {
   "cell_type": "code",
   "execution_count": 398,
   "id": "cbdedf82-431b-4446-8c33-5098392d5ae7",
   "metadata": {},
   "outputs": [
    {
     "data": {
      "text/plain": [
       "1278000.0"
      ]
     },
     "execution_count": 398,
     "metadata": {},
     "output_type": "execute_result"
    }
   ],
   "source": [
    "df[\"ex_showroom_price\"].max()"
   ]
  },
  {
   "cell_type": "code",
   "execution_count": 399,
   "id": "af7a2601-4d82-468f-bc80-289ed88d5c71",
   "metadata": {},
   "outputs": [
    {
     "data": {
      "text/html": [
       "<div>\n",
       "<style scoped>\n",
       "    .dataframe tbody tr th:only-of-type {\n",
       "        vertical-align: middle;\n",
       "    }\n",
       "\n",
       "    .dataframe tbody tr th {\n",
       "        vertical-align: top;\n",
       "    }\n",
       "\n",
       "    .dataframe thead th {\n",
       "        text-align: right;\n",
       "    }\n",
       "</style>\n",
       "<table border=\"1\" class=\"dataframe\">\n",
       "  <thead>\n",
       "    <tr style=\"text-align: right;\">\n",
       "      <th></th>\n",
       "      <th>name</th>\n",
       "      <th>selling_price</th>\n",
       "      <th>year</th>\n",
       "      <th>seller_type</th>\n",
       "      <th>owner</th>\n",
       "      <th>km_driven</th>\n",
       "      <th>ex_showroom_price</th>\n",
       "    </tr>\n",
       "  </thead>\n",
       "  <tbody>\n",
       "    <tr>\n",
       "      <th>134</th>\n",
       "      <td>Harley-Davidson Street Bob</td>\n",
       "      <td>750000</td>\n",
       "      <td>2013</td>\n",
       "      <td>Individual</td>\n",
       "      <td>2nd owner</td>\n",
       "      <td>12000</td>\n",
       "      <td>1278000.0</td>\n",
       "    </tr>\n",
       "  </tbody>\n",
       "</table>\n",
       "</div>"
      ],
      "text/plain": [
       "                           name  selling_price  year seller_type      owner  \\\n",
       "134  Harley-Davidson Street Bob         750000  2013  Individual  2nd owner   \n",
       "\n",
       "     km_driven  ex_showroom_price  \n",
       "134      12000          1278000.0  "
      ]
     },
     "execution_count": 399,
     "metadata": {},
     "output_type": "execute_result"
    }
   ],
   "source": [
    "df[df[\"ex_showroom_price\"]==1278000]"
   ]
  },
  {
   "cell_type": "markdown",
   "id": "ae428319-ace9-478f-9f8b-6cc9e4980546",
   "metadata": {},
   "source": [
    "9.5B What is the total number of bikes listed by each seller type."
   ]
  },
  {
   "cell_type": "code",
   "execution_count": 400,
   "id": "4bdcc843-f232-4b44-b932-615d1f2a8a17",
   "metadata": {},
   "outputs": [
    {
     "data": {
      "text/html": [
       "<div>\n",
       "<style scoped>\n",
       "    .dataframe tbody tr th:only-of-type {\n",
       "        vertical-align: middle;\n",
       "    }\n",
       "\n",
       "    .dataframe tbody tr th {\n",
       "        vertical-align: top;\n",
       "    }\n",
       "\n",
       "    .dataframe thead th {\n",
       "        text-align: right;\n",
       "    }\n",
       "</style>\n",
       "<table border=\"1\" class=\"dataframe\">\n",
       "  <thead>\n",
       "    <tr style=\"text-align: right;\">\n",
       "      <th></th>\n",
       "      <th>name</th>\n",
       "      <th>selling_price</th>\n",
       "      <th>year</th>\n",
       "      <th>seller_type</th>\n",
       "      <th>owner</th>\n",
       "      <th>km_driven</th>\n",
       "      <th>ex_showroom_price</th>\n",
       "    </tr>\n",
       "  </thead>\n",
       "  <tbody>\n",
       "    <tr>\n",
       "      <th>0</th>\n",
       "      <td>Royal Enfield Classic 350</td>\n",
       "      <td>175000</td>\n",
       "      <td>2019</td>\n",
       "      <td>Individual</td>\n",
       "      <td>1st owner</td>\n",
       "      <td>350</td>\n",
       "      <td>NaN</td>\n",
       "    </tr>\n",
       "    <tr>\n",
       "      <th>1</th>\n",
       "      <td>Honda Dio</td>\n",
       "      <td>45000</td>\n",
       "      <td>2017</td>\n",
       "      <td>Individual</td>\n",
       "      <td>1st owner</td>\n",
       "      <td>5650</td>\n",
       "      <td>NaN</td>\n",
       "    </tr>\n",
       "    <tr>\n",
       "      <th>2</th>\n",
       "      <td>Royal Enfield Classic Gunmetal Grey</td>\n",
       "      <td>150000</td>\n",
       "      <td>2018</td>\n",
       "      <td>Individual</td>\n",
       "      <td>1st owner</td>\n",
       "      <td>12000</td>\n",
       "      <td>148114.0</td>\n",
       "    </tr>\n",
       "    <tr>\n",
       "      <th>3</th>\n",
       "      <td>Yamaha Fazer FI V 2.0 [2016-2018]</td>\n",
       "      <td>65000</td>\n",
       "      <td>2015</td>\n",
       "      <td>Individual</td>\n",
       "      <td>1st owner</td>\n",
       "      <td>23000</td>\n",
       "      <td>89643.0</td>\n",
       "    </tr>\n",
       "    <tr>\n",
       "      <th>4</th>\n",
       "      <td>Yamaha SZ [2013-2014]</td>\n",
       "      <td>20000</td>\n",
       "      <td>2011</td>\n",
       "      <td>Individual</td>\n",
       "      <td>2nd owner</td>\n",
       "      <td>21000</td>\n",
       "      <td>NaN</td>\n",
       "    </tr>\n",
       "    <tr>\n",
       "      <th>...</th>\n",
       "      <td>...</td>\n",
       "      <td>...</td>\n",
       "      <td>...</td>\n",
       "      <td>...</td>\n",
       "      <td>...</td>\n",
       "      <td>...</td>\n",
       "      <td>...</td>\n",
       "    </tr>\n",
       "    <tr>\n",
       "      <th>1056</th>\n",
       "      <td>Activa 3g</td>\n",
       "      <td>17000</td>\n",
       "      <td>2010</td>\n",
       "      <td>Individual</td>\n",
       "      <td>1st owner</td>\n",
       "      <td>500000</td>\n",
       "      <td>52000.0</td>\n",
       "    </tr>\n",
       "    <tr>\n",
       "      <th>1057</th>\n",
       "      <td>Honda CB twister</td>\n",
       "      <td>16000</td>\n",
       "      <td>2012</td>\n",
       "      <td>Individual</td>\n",
       "      <td>1st owner</td>\n",
       "      <td>33000</td>\n",
       "      <td>51000.0</td>\n",
       "    </tr>\n",
       "    <tr>\n",
       "      <th>1058</th>\n",
       "      <td>Bajaj Discover 125</td>\n",
       "      <td>15000</td>\n",
       "      <td>2013</td>\n",
       "      <td>Individual</td>\n",
       "      <td>2nd owner</td>\n",
       "      <td>35000</td>\n",
       "      <td>57000.0</td>\n",
       "    </tr>\n",
       "    <tr>\n",
       "      <th>1059</th>\n",
       "      <td>Honda CB Shine</td>\n",
       "      <td>12000</td>\n",
       "      <td>2009</td>\n",
       "      <td>Individual</td>\n",
       "      <td>1st owner</td>\n",
       "      <td>53000</td>\n",
       "      <td>58000.0</td>\n",
       "    </tr>\n",
       "    <tr>\n",
       "      <th>1060</th>\n",
       "      <td>Bajaj Pulsar 150</td>\n",
       "      <td>10000</td>\n",
       "      <td>2008</td>\n",
       "      <td>Individual</td>\n",
       "      <td>1st owner</td>\n",
       "      <td>92233</td>\n",
       "      <td>75000.0</td>\n",
       "    </tr>\n",
       "  </tbody>\n",
       "</table>\n",
       "<p>1061 rows × 7 columns</p>\n",
       "</div>"
      ],
      "text/plain": [
       "                                     name  selling_price  year seller_type  \\\n",
       "0               Royal Enfield Classic 350         175000  2019  Individual   \n",
       "1                               Honda Dio          45000  2017  Individual   \n",
       "2     Royal Enfield Classic Gunmetal Grey         150000  2018  Individual   \n",
       "3       Yamaha Fazer FI V 2.0 [2016-2018]          65000  2015  Individual   \n",
       "4                   Yamaha SZ [2013-2014]          20000  2011  Individual   \n",
       "...                                   ...            ...   ...         ...   \n",
       "1056                            Activa 3g          17000  2010  Individual   \n",
       "1057                     Honda CB twister          16000  2012  Individual   \n",
       "1058                   Bajaj Discover 125          15000  2013  Individual   \n",
       "1059                       Honda CB Shine          12000  2009  Individual   \n",
       "1060                     Bajaj Pulsar 150          10000  2008  Individual   \n",
       "\n",
       "          owner  km_driven  ex_showroom_price  \n",
       "0     1st owner        350                NaN  \n",
       "1     1st owner       5650                NaN  \n",
       "2     1st owner      12000           148114.0  \n",
       "3     1st owner      23000            89643.0  \n",
       "4     2nd owner      21000                NaN  \n",
       "...         ...        ...                ...  \n",
       "1056  1st owner     500000            52000.0  \n",
       "1057  1st owner      33000            51000.0  \n",
       "1058  2nd owner      35000            57000.0  \n",
       "1059  1st owner      53000            58000.0  \n",
       "1060  1st owner      92233            75000.0  \n",
       "\n",
       "[1061 rows x 7 columns]"
      ]
     },
     "execution_count": 400,
     "metadata": {},
     "output_type": "execute_result"
    }
   ],
   "source": [
    "df"
   ]
  },
  {
   "cell_type": "code",
   "execution_count": 401,
   "id": "216d314e-278b-427f-8ed5-de6bd33f2c16",
   "metadata": {},
   "outputs": [
    {
     "data": {
      "text/plain": [
       "seller_type\n",
       "Individual    1055\n",
       "Dealer           6\n",
       "Name: count, dtype: int64"
      ]
     },
     "execution_count": 401,
     "metadata": {},
     "output_type": "execute_result"
    }
   ],
   "source": [
    "df[\"seller_type\"].value_counts()"
   ]
  },
  {
   "cell_type": "markdown",
   "id": "a8f6a516-bbea-462c-80c6-816592a49587",
   "metadata": {},
   "source": [
    "10.8;B What is the relationship between selling_price and km_driven for first-owner bikesD"
   ]
  },
  {
   "cell_type": "code",
   "execution_count": 402,
   "id": "dd969196-d133-4c5e-a0e7-c959c65cdc44",
   "metadata": {},
   "outputs": [
    {
     "data": {
      "text/plain": [
       "owner\n",
       "1st owner    924\n",
       "2nd owner    123\n",
       "3rd owner     11\n",
       "4th owner      3\n",
       "Name: count, dtype: int64"
      ]
     },
     "execution_count": 402,
     "metadata": {},
     "output_type": "execute_result"
    }
   ],
   "source": [
    "df[\"owner\"].value_counts()"
   ]
  },
  {
   "cell_type": "code",
   "execution_count": 403,
   "id": "0cdac849-9206-487d-a0c8-4b9222424fa8",
   "metadata": {},
   "outputs": [],
   "source": [
    "groupby=df.groupby(\"owner\")"
   ]
  },
  {
   "cell_type": "code",
   "execution_count": 404,
   "id": "8e916745-b98d-4528-91f9-914fa396d6ec",
   "metadata": {},
   "outputs": [
    {
     "data": {
      "text/plain": [
       "owner\n",
       "1st owner     60022.813853\n",
       "2nd owner     55666.658537\n",
       "3rd owner     55727.272727\n",
       "4th owner    118333.333333\n",
       "Name: selling_price, dtype: float64"
      ]
     },
     "execution_count": 404,
     "metadata": {},
     "output_type": "execute_result"
    }
   ],
   "source": [
    "groupby[\"selling_price\"].mean()"
   ]
  },
  {
   "cell_type": "code",
   "execution_count": 405,
   "id": "a524d248-5c8a-45b6-947c-2d0e51e245e6",
   "metadata": {},
   "outputs": [
    {
     "data": {
      "text/plain": [
       "owner\n",
       "1st owner     32816.583333\n",
       "2nd owner     39288.991870\n",
       "3rd owner     33292.181818\n",
       "4th owner    311500.000000\n",
       "Name: km_driven, dtype: float64"
      ]
     },
     "execution_count": 405,
     "metadata": {},
     "output_type": "execute_result"
    }
   ],
   "source": [
    "groupby[\"km_driven\"].mean()"
   ]
  },
  {
   "cell_type": "code",
   "execution_count": null,
   "id": "ee06fdca-f0fe-4157-bb91-cae75c27ca71",
   "metadata": {},
   "outputs": [],
   "source": []
  },
  {
   "cell_type": "markdown",
   "id": "4bb57282-d6d0-41c7-b0a1-b5b386e72386",
   "metadata": {},
   "source": [
    "11.88B Identify and remove outliers in the km_driven column using the IQR method."
   ]
  },
  {
   "cell_type": "code",
   "execution_count": 406,
   "id": "8695b39b-f7ca-4fe0-820e-36bc65ce2e90",
   "metadata": {},
   "outputs": [
    {
     "data": {
      "text/plain": [
       "dtype('int64')"
      ]
     },
     "execution_count": 406,
     "metadata": {},
     "output_type": "execute_result"
    }
   ],
   "source": [
    "df[\"km_driven\"].dtype"
   ]
  },
  {
   "cell_type": "code",
   "execution_count": 407,
   "id": "8da6e54a-1372-4b78-a61c-b0a733d6e724",
   "metadata": {},
   "outputs": [],
   "source": [
    "Q1=df[\"km_driven\"].quantile(0.25)"
   ]
  },
  {
   "cell_type": "code",
   "execution_count": 408,
   "id": "ed0430f1-b487-42d6-85c7-66fbc6ce3421",
   "metadata": {},
   "outputs": [],
   "source": [
    "Q3=df[\"km_driven\"].quantile(0.75)"
   ]
  },
  {
   "cell_type": "code",
   "execution_count": 409,
   "id": "093e9111-7cb6-460c-b368-2d5dc0f05533",
   "metadata": {},
   "outputs": [],
   "source": [
    "IQR=Q3-Q1"
   ]
  },
  {
   "cell_type": "code",
   "execution_count": 410,
   "id": "21cb40e1-d2e5-4bfe-8aa5-67c147ab1eef",
   "metadata": {},
   "outputs": [
    {
     "data": {
      "text/plain": [
       "29500.0"
      ]
     },
     "execution_count": 410,
     "metadata": {},
     "output_type": "execute_result"
    }
   ],
   "source": [
    "IQR"
   ]
  },
  {
   "cell_type": "code",
   "execution_count": 411,
   "id": "4470f2da-fecb-4a36-899c-e202a3319a6e",
   "metadata": {},
   "outputs": [],
   "source": [
    "lower_fence=Q1+1.5*IQR\n",
    "upper_fence=Q3+1.5*IQR"
   ]
  },
  {
   "cell_type": "code",
   "execution_count": 412,
   "id": "f3445ec8-d021-4efd-9766-fc61d3cc8645",
   "metadata": {},
   "outputs": [
    {
     "ename": "TypeError",
     "evalue": "Cannot perform 'rand_' with a dtyped [int64] array and scalar of type [bool]",
     "output_type": "error",
     "traceback": [
      "\u001b[1;31m---------------------------------------------------------------------------\u001b[0m",
      "\u001b[1;31mTypeError\u001b[0m                                 Traceback (most recent call last)",
      "File \u001b[1;32mC:\\ProgramData\\anaconda3\\Lib\\site-packages\\pandas\\core\\ops\\array_ops.py:362\u001b[0m, in \u001b[0;36mna_logical_op\u001b[1;34m(x, y, op)\u001b[0m\n\u001b[0;32m    353\u001b[0m \u001b[38;5;28;01mtry\u001b[39;00m:\n\u001b[0;32m    354\u001b[0m     \u001b[38;5;66;03m# For exposition, write:\u001b[39;00m\n\u001b[0;32m    355\u001b[0m     \u001b[38;5;66;03m#  yarr = isinstance(y, np.ndarray)\u001b[39;00m\n\u001b[1;32m   (...)\u001b[0m\n\u001b[0;32m    360\u001b[0m     \u001b[38;5;66;03m# Then Cases where this goes through without raising include:\u001b[39;00m\n\u001b[0;32m    361\u001b[0m     \u001b[38;5;66;03m#  (xint or xbool) and (yint or bool)\u001b[39;00m\n\u001b[1;32m--> 362\u001b[0m     result \u001b[38;5;241m=\u001b[39m op(x, y)\n\u001b[0;32m    363\u001b[0m \u001b[38;5;28;01mexcept\u001b[39;00m \u001b[38;5;167;01mTypeError\u001b[39;00m:\n",
      "File \u001b[1;32mC:\\ProgramData\\anaconda3\\Lib\\site-packages\\pandas\\core\\roperator.py:54\u001b[0m, in \u001b[0;36mrand_\u001b[1;34m(left, right)\u001b[0m\n\u001b[0;32m     53\u001b[0m \u001b[38;5;28;01mdef\u001b[39;00m \u001b[38;5;21mrand_\u001b[39m(left, right):\n\u001b[1;32m---> 54\u001b[0m     \u001b[38;5;28;01mreturn\u001b[39;00m operator\u001b[38;5;241m.\u001b[39mand_(right, left)\n",
      "\u001b[1;31mTypeError\u001b[0m: ufunc 'bitwise_and' not supported for the input types, and the inputs could not be safely coerced to any supported types according to the casting rule ''safe''",
      "\nDuring handling of the above exception, another exception occurred:\n",
      "\u001b[1;31mValueError\u001b[0m                                Traceback (most recent call last)",
      "File \u001b[1;32mC:\\ProgramData\\anaconda3\\Lib\\site-packages\\pandas\\core\\ops\\array_ops.py:376\u001b[0m, in \u001b[0;36mna_logical_op\u001b[1;34m(x, y, op)\u001b[0m\n\u001b[0;32m    375\u001b[0m \u001b[38;5;28;01mtry\u001b[39;00m:\n\u001b[1;32m--> 376\u001b[0m     result \u001b[38;5;241m=\u001b[39m libops\u001b[38;5;241m.\u001b[39mscalar_binop(x, y, op)\n\u001b[0;32m    377\u001b[0m \u001b[38;5;28;01mexcept\u001b[39;00m (\n\u001b[0;32m    378\u001b[0m     \u001b[38;5;167;01mTypeError\u001b[39;00m,\n\u001b[0;32m    379\u001b[0m     \u001b[38;5;167;01mValueError\u001b[39;00m,\n\u001b[1;32m   (...)\u001b[0m\n\u001b[0;32m    382\u001b[0m     \u001b[38;5;167;01mNotImplementedError\u001b[39;00m,\n\u001b[0;32m    383\u001b[0m ) \u001b[38;5;28;01mas\u001b[39;00m err:\n",
      "File \u001b[1;32mops.pyx:180\u001b[0m, in \u001b[0;36mpandas._libs.ops.scalar_binop\u001b[1;34m()\u001b[0m\n",
      "\u001b[1;31mValueError\u001b[0m: Buffer dtype mismatch, expected 'Python object' but got 'long long'",
      "\nThe above exception was the direct cause of the following exception:\n",
      "\u001b[1;31mTypeError\u001b[0m                                 Traceback (most recent call last)",
      "Cell \u001b[1;32mIn[412], line 1\u001b[0m\n\u001b[1;32m----> 1\u001b[0m df[df[\u001b[38;5;124m\"\u001b[39m\u001b[38;5;124mkm_driven\u001b[39m\u001b[38;5;124m\"\u001b[39m]\u001b[38;5;241m>\u001b[39m\u001b[38;5;241m=\u001b[39mlower_fence \u001b[38;5;241m&\u001b[39m df[\u001b[38;5;124m\"\u001b[39m\u001b[38;5;124mkm_driven\u001b[39m\u001b[38;5;124m\"\u001b[39m]\u001b[38;5;241m<\u001b[39m\u001b[38;5;241m=\u001b[39mupper_fence]\n",
      "File \u001b[1;32mC:\\ProgramData\\anaconda3\\Lib\\site-packages\\pandas\\core\\generic.py:2171\u001b[0m, in \u001b[0;36mNDFrame.__array_ufunc__\u001b[1;34m(self, ufunc, method, *inputs, **kwargs)\u001b[0m\n\u001b[0;32m   2167\u001b[0m \u001b[38;5;129m@final\u001b[39m\n\u001b[0;32m   2168\u001b[0m \u001b[38;5;28;01mdef\u001b[39;00m \u001b[38;5;21m__array_ufunc__\u001b[39m(\n\u001b[0;32m   2169\u001b[0m     \u001b[38;5;28mself\u001b[39m, ufunc: np\u001b[38;5;241m.\u001b[39mufunc, method: \u001b[38;5;28mstr\u001b[39m, \u001b[38;5;241m*\u001b[39minputs: Any, \u001b[38;5;241m*\u001b[39m\u001b[38;5;241m*\u001b[39mkwargs: Any\n\u001b[0;32m   2170\u001b[0m ):\n\u001b[1;32m-> 2171\u001b[0m     \u001b[38;5;28;01mreturn\u001b[39;00m arraylike\u001b[38;5;241m.\u001b[39marray_ufunc(\u001b[38;5;28mself\u001b[39m, ufunc, method, \u001b[38;5;241m*\u001b[39minputs, \u001b[38;5;241m*\u001b[39m\u001b[38;5;241m*\u001b[39mkwargs)\n",
      "File \u001b[1;32mC:\\ProgramData\\anaconda3\\Lib\\site-packages\\pandas\\core\\arraylike.py:276\u001b[0m, in \u001b[0;36marray_ufunc\u001b[1;34m(self, ufunc, method, *inputs, **kwargs)\u001b[0m\n\u001b[0;32m    273\u001b[0m kwargs \u001b[38;5;241m=\u001b[39m _standardize_out_kwarg(\u001b[38;5;241m*\u001b[39m\u001b[38;5;241m*\u001b[39mkwargs)\n\u001b[0;32m    275\u001b[0m \u001b[38;5;66;03m# for binary ops, use our custom dunder methods\u001b[39;00m\n\u001b[1;32m--> 276\u001b[0m result \u001b[38;5;241m=\u001b[39m maybe_dispatch_ufunc_to_dunder_op(\u001b[38;5;28mself\u001b[39m, ufunc, method, \u001b[38;5;241m*\u001b[39minputs, \u001b[38;5;241m*\u001b[39m\u001b[38;5;241m*\u001b[39mkwargs)\n\u001b[0;32m    277\u001b[0m \u001b[38;5;28;01mif\u001b[39;00m result \u001b[38;5;129;01mis\u001b[39;00m \u001b[38;5;129;01mnot\u001b[39;00m \u001b[38;5;28mNotImplemented\u001b[39m:\n\u001b[0;32m    278\u001b[0m     \u001b[38;5;28;01mreturn\u001b[39;00m result\n",
      "File \u001b[1;32mops_dispatch.pyx:113\u001b[0m, in \u001b[0;36mpandas._libs.ops_dispatch.maybe_dispatch_ufunc_to_dunder_op\u001b[1;34m()\u001b[0m\n",
      "File \u001b[1;32mC:\\ProgramData\\anaconda3\\Lib\\site-packages\\pandas\\core\\ops\\common.py:76\u001b[0m, in \u001b[0;36m_unpack_zerodim_and_defer.<locals>.new_method\u001b[1;34m(self, other)\u001b[0m\n\u001b[0;32m     72\u001b[0m             \u001b[38;5;28;01mreturn\u001b[39;00m \u001b[38;5;28mNotImplemented\u001b[39m\n\u001b[0;32m     74\u001b[0m other \u001b[38;5;241m=\u001b[39m item_from_zerodim(other)\n\u001b[1;32m---> 76\u001b[0m \u001b[38;5;28;01mreturn\u001b[39;00m method(\u001b[38;5;28mself\u001b[39m, other)\n",
      "File \u001b[1;32mC:\\ProgramData\\anaconda3\\Lib\\site-packages\\pandas\\core\\arraylike.py:74\u001b[0m, in \u001b[0;36mOpsMixin.__rand__\u001b[1;34m(self, other)\u001b[0m\n\u001b[0;32m     72\u001b[0m \u001b[38;5;129m@unpack_zerodim_and_defer\u001b[39m(\u001b[38;5;124m\"\u001b[39m\u001b[38;5;124m__rand__\u001b[39m\u001b[38;5;124m\"\u001b[39m)\n\u001b[0;32m     73\u001b[0m \u001b[38;5;28;01mdef\u001b[39;00m \u001b[38;5;21m__rand__\u001b[39m(\u001b[38;5;28mself\u001b[39m, other):\n\u001b[1;32m---> 74\u001b[0m     \u001b[38;5;28;01mreturn\u001b[39;00m \u001b[38;5;28mself\u001b[39m\u001b[38;5;241m.\u001b[39m_logical_method(other, roperator\u001b[38;5;241m.\u001b[39mrand_)\n",
      "File \u001b[1;32mC:\\ProgramData\\anaconda3\\Lib\\site-packages\\pandas\\core\\series.py:6130\u001b[0m, in \u001b[0;36mSeries._logical_method\u001b[1;34m(self, other, op)\u001b[0m\n\u001b[0;32m   6127\u001b[0m lvalues \u001b[38;5;241m=\u001b[39m \u001b[38;5;28mself\u001b[39m\u001b[38;5;241m.\u001b[39m_values\n\u001b[0;32m   6128\u001b[0m rvalues \u001b[38;5;241m=\u001b[39m extract_array(other, extract_numpy\u001b[38;5;241m=\u001b[39m\u001b[38;5;28;01mTrue\u001b[39;00m, extract_range\u001b[38;5;241m=\u001b[39m\u001b[38;5;28;01mTrue\u001b[39;00m)\n\u001b[1;32m-> 6130\u001b[0m res_values \u001b[38;5;241m=\u001b[39m ops\u001b[38;5;241m.\u001b[39mlogical_op(lvalues, rvalues, op)\n\u001b[0;32m   6131\u001b[0m \u001b[38;5;28;01mreturn\u001b[39;00m \u001b[38;5;28mself\u001b[39m\u001b[38;5;241m.\u001b[39m_construct_result(res_values, name\u001b[38;5;241m=\u001b[39mres_name)\n",
      "File \u001b[1;32mC:\\ProgramData\\anaconda3\\Lib\\site-packages\\pandas\\core\\ops\\array_ops.py:454\u001b[0m, in \u001b[0;36mlogical_op\u001b[1;34m(left, right, op)\u001b[0m\n\u001b[0;32m    450\u001b[0m \u001b[38;5;28;01melse\u001b[39;00m:\n\u001b[0;32m    451\u001b[0m     \u001b[38;5;66;03m# i.e. scalar\u001b[39;00m\n\u001b[0;32m    452\u001b[0m     is_other_int_dtype \u001b[38;5;241m=\u001b[39m lib\u001b[38;5;241m.\u001b[39mis_integer(rvalues)\n\u001b[1;32m--> 454\u001b[0m res_values \u001b[38;5;241m=\u001b[39m na_logical_op(lvalues, rvalues, op)\n\u001b[0;32m    456\u001b[0m \u001b[38;5;66;03m# For int vs int `^`, `|`, `&` are bitwise operators and return\u001b[39;00m\n\u001b[0;32m    457\u001b[0m \u001b[38;5;66;03m#   integer dtypes.  Otherwise these are boolean ops\u001b[39;00m\n\u001b[0;32m    458\u001b[0m \u001b[38;5;28;01mif\u001b[39;00m \u001b[38;5;129;01mnot\u001b[39;00m (left\u001b[38;5;241m.\u001b[39mdtype\u001b[38;5;241m.\u001b[39mkind \u001b[38;5;129;01min\u001b[39;00m \u001b[38;5;124m\"\u001b[39m\u001b[38;5;124miu\u001b[39m\u001b[38;5;124m\"\u001b[39m \u001b[38;5;129;01mand\u001b[39;00m is_other_int_dtype):\n",
      "File \u001b[1;32mC:\\ProgramData\\anaconda3\\Lib\\site-packages\\pandas\\core\\ops\\array_ops.py:385\u001b[0m, in \u001b[0;36mna_logical_op\u001b[1;34m(x, y, op)\u001b[0m\n\u001b[0;32m    377\u001b[0m         \u001b[38;5;28;01mexcept\u001b[39;00m (\n\u001b[0;32m    378\u001b[0m             \u001b[38;5;167;01mTypeError\u001b[39;00m,\n\u001b[0;32m    379\u001b[0m             \u001b[38;5;167;01mValueError\u001b[39;00m,\n\u001b[1;32m   (...)\u001b[0m\n\u001b[0;32m    382\u001b[0m             \u001b[38;5;167;01mNotImplementedError\u001b[39;00m,\n\u001b[0;32m    383\u001b[0m         ) \u001b[38;5;28;01mas\u001b[39;00m err:\n\u001b[0;32m    384\u001b[0m             typ \u001b[38;5;241m=\u001b[39m \u001b[38;5;28mtype\u001b[39m(y)\u001b[38;5;241m.\u001b[39m\u001b[38;5;18m__name__\u001b[39m\n\u001b[1;32m--> 385\u001b[0m             \u001b[38;5;28;01mraise\u001b[39;00m \u001b[38;5;167;01mTypeError\u001b[39;00m(\n\u001b[0;32m    386\u001b[0m                 \u001b[38;5;124mf\u001b[39m\u001b[38;5;124m\"\u001b[39m\u001b[38;5;124mCannot perform \u001b[39m\u001b[38;5;124m'\u001b[39m\u001b[38;5;132;01m{\u001b[39;00mop\u001b[38;5;241m.\u001b[39m\u001b[38;5;18m__name__\u001b[39m\u001b[38;5;132;01m}\u001b[39;00m\u001b[38;5;124m'\u001b[39m\u001b[38;5;124m with a dtyped [\u001b[39m\u001b[38;5;132;01m{\u001b[39;00mx\u001b[38;5;241m.\u001b[39mdtype\u001b[38;5;132;01m}\u001b[39;00m\u001b[38;5;124m] array \u001b[39m\u001b[38;5;124m\"\u001b[39m\n\u001b[0;32m    387\u001b[0m                 \u001b[38;5;124mf\u001b[39m\u001b[38;5;124m\"\u001b[39m\u001b[38;5;124mand scalar of type [\u001b[39m\u001b[38;5;132;01m{\u001b[39;00mtyp\u001b[38;5;132;01m}\u001b[39;00m\u001b[38;5;124m]\u001b[39m\u001b[38;5;124m\"\u001b[39m\n\u001b[0;32m    388\u001b[0m             ) \u001b[38;5;28;01mfrom\u001b[39;00m \u001b[38;5;21;01merr\u001b[39;00m\n\u001b[0;32m    390\u001b[0m \u001b[38;5;28;01mreturn\u001b[39;00m result\u001b[38;5;241m.\u001b[39mreshape(x\u001b[38;5;241m.\u001b[39mshape)\n",
      "\u001b[1;31mTypeError\u001b[0m: Cannot perform 'rand_' with a dtyped [int64] array and scalar of type [bool]"
     ]
    }
   ],
   "source": [
    "df[df[\"km_driven\"]>=lower_fence & df[\"km_driven\"]<=upper_fence]"
   ]
  },
  {
   "cell_type": "markdown",
   "id": "a6d7123a-56e0-4d94-88a7-8c6a87cd48e3",
   "metadata": {},
   "source": [
    "12.Perform a bivariate analysis to visualize the relationship between year and selling_priceB"
   ]
  },
  {
   "cell_type": "code",
   "execution_count": null,
   "id": "d37d44ad-2f67-4669-b9cd-0f6b86b874f5",
   "metadata": {},
   "outputs": [],
   "source": [
    "df"
   ]
  },
  {
   "cell_type": "code",
   "execution_count": null,
   "id": "48d6f8ee-6504-4d5a-b3e0-e2be471832e9",
   "metadata": {},
   "outputs": [],
   "source": [
    "df[\"year\"]\n",
    "df[\"selling_price\"]\n",
    "plt.scatter(df[\"year\"],df[\"selling_price\"])"
   ]
  },
  {
   "cell_type": "markdown",
   "id": "f2a51091-e15e-42c8-9613-2202847606a1",
   "metadata": {},
   "source": [
    "B What is the average depreciation in selling price based on the bike's age (current year - manufacturing\n",
    "year)"
   ]
  },
  {
   "cell_type": "markdown",
   "id": "24207f25-f91d-4440-aac6-5f40c91eca4f",
   "metadata": {},
   "source": [
    "13.Which bike names are priced significantly above the average price for their manufacturing year."
   ]
  },
  {
   "cell_type": "code",
   "execution_count": null,
   "id": "c524035c-2dcd-41b7-b7d6-e8f5ed76f867",
   "metadata": {},
   "outputs": [],
   "source": [
    "df[\"selling_price\"].mean()"
   ]
  },
  {
   "cell_type": "code",
   "execution_count": null,
   "id": "8e65c790-5736-4d42-9110-1cc09c455e80",
   "metadata": {},
   "outputs": [],
   "source": [
    "df[\"selling_price\"]>59638"
   ]
  },
  {
   "cell_type": "code",
   "execution_count": null,
   "id": "759e02e8-f3b2-4311-9896-98ba0496c6f2",
   "metadata": {},
   "outputs": [],
   "source": [
    "len(df[df[\"selling_price\"]>59638])"
   ]
  },
  {
   "cell_type": "markdown",
   "id": "663bc295-dbda-4946-9b65-0125e58795b4",
   "metadata": {},
   "source": [
    "14.8+B Develop a correlation matrix for numeric columns and visualize it using a heatmap."
   ]
  },
  {
   "cell_type": "code",
   "execution_count": 413,
   "id": "b05ae7fe-cffa-4be6-98f6-5d03e3910649",
   "metadata": {},
   "outputs": [
    {
     "data": {
      "text/html": [
       "<div>\n",
       "<style scoped>\n",
       "    .dataframe tbody tr th:only-of-type {\n",
       "        vertical-align: middle;\n",
       "    }\n",
       "\n",
       "    .dataframe tbody tr th {\n",
       "        vertical-align: top;\n",
       "    }\n",
       "\n",
       "    .dataframe thead th {\n",
       "        text-align: right;\n",
       "    }\n",
       "</style>\n",
       "<table border=\"1\" class=\"dataframe\">\n",
       "  <thead>\n",
       "    <tr style=\"text-align: right;\">\n",
       "      <th></th>\n",
       "      <th>name</th>\n",
       "      <th>selling_price</th>\n",
       "      <th>year</th>\n",
       "      <th>seller_type</th>\n",
       "      <th>owner</th>\n",
       "      <th>km_driven</th>\n",
       "      <th>ex_showroom_price</th>\n",
       "    </tr>\n",
       "  </thead>\n",
       "  <tbody>\n",
       "    <tr>\n",
       "      <th>0</th>\n",
       "      <td>Royal Enfield Classic 350</td>\n",
       "      <td>175000</td>\n",
       "      <td>2019</td>\n",
       "      <td>Individual</td>\n",
       "      <td>1st owner</td>\n",
       "      <td>350</td>\n",
       "      <td>NaN</td>\n",
       "    </tr>\n",
       "    <tr>\n",
       "      <th>1</th>\n",
       "      <td>Honda Dio</td>\n",
       "      <td>45000</td>\n",
       "      <td>2017</td>\n",
       "      <td>Individual</td>\n",
       "      <td>1st owner</td>\n",
       "      <td>5650</td>\n",
       "      <td>NaN</td>\n",
       "    </tr>\n",
       "    <tr>\n",
       "      <th>2</th>\n",
       "      <td>Royal Enfield Classic Gunmetal Grey</td>\n",
       "      <td>150000</td>\n",
       "      <td>2018</td>\n",
       "      <td>Individual</td>\n",
       "      <td>1st owner</td>\n",
       "      <td>12000</td>\n",
       "      <td>148114.0</td>\n",
       "    </tr>\n",
       "    <tr>\n",
       "      <th>3</th>\n",
       "      <td>Yamaha Fazer FI V 2.0 [2016-2018]</td>\n",
       "      <td>65000</td>\n",
       "      <td>2015</td>\n",
       "      <td>Individual</td>\n",
       "      <td>1st owner</td>\n",
       "      <td>23000</td>\n",
       "      <td>89643.0</td>\n",
       "    </tr>\n",
       "    <tr>\n",
       "      <th>4</th>\n",
       "      <td>Yamaha SZ [2013-2014]</td>\n",
       "      <td>20000</td>\n",
       "      <td>2011</td>\n",
       "      <td>Individual</td>\n",
       "      <td>2nd owner</td>\n",
       "      <td>21000</td>\n",
       "      <td>NaN</td>\n",
       "    </tr>\n",
       "    <tr>\n",
       "      <th>...</th>\n",
       "      <td>...</td>\n",
       "      <td>...</td>\n",
       "      <td>...</td>\n",
       "      <td>...</td>\n",
       "      <td>...</td>\n",
       "      <td>...</td>\n",
       "      <td>...</td>\n",
       "    </tr>\n",
       "    <tr>\n",
       "      <th>1056</th>\n",
       "      <td>Activa 3g</td>\n",
       "      <td>17000</td>\n",
       "      <td>2010</td>\n",
       "      <td>Individual</td>\n",
       "      <td>1st owner</td>\n",
       "      <td>500000</td>\n",
       "      <td>52000.0</td>\n",
       "    </tr>\n",
       "    <tr>\n",
       "      <th>1057</th>\n",
       "      <td>Honda CB twister</td>\n",
       "      <td>16000</td>\n",
       "      <td>2012</td>\n",
       "      <td>Individual</td>\n",
       "      <td>1st owner</td>\n",
       "      <td>33000</td>\n",
       "      <td>51000.0</td>\n",
       "    </tr>\n",
       "    <tr>\n",
       "      <th>1058</th>\n",
       "      <td>Bajaj Discover 125</td>\n",
       "      <td>15000</td>\n",
       "      <td>2013</td>\n",
       "      <td>Individual</td>\n",
       "      <td>2nd owner</td>\n",
       "      <td>35000</td>\n",
       "      <td>57000.0</td>\n",
       "    </tr>\n",
       "    <tr>\n",
       "      <th>1059</th>\n",
       "      <td>Honda CB Shine</td>\n",
       "      <td>12000</td>\n",
       "      <td>2009</td>\n",
       "      <td>Individual</td>\n",
       "      <td>1st owner</td>\n",
       "      <td>53000</td>\n",
       "      <td>58000.0</td>\n",
       "    </tr>\n",
       "    <tr>\n",
       "      <th>1060</th>\n",
       "      <td>Bajaj Pulsar 150</td>\n",
       "      <td>10000</td>\n",
       "      <td>2008</td>\n",
       "      <td>Individual</td>\n",
       "      <td>1st owner</td>\n",
       "      <td>92233</td>\n",
       "      <td>75000.0</td>\n",
       "    </tr>\n",
       "  </tbody>\n",
       "</table>\n",
       "<p>1061 rows × 7 columns</p>\n",
       "</div>"
      ],
      "text/plain": [
       "                                     name  selling_price  year seller_type  \\\n",
       "0               Royal Enfield Classic 350         175000  2019  Individual   \n",
       "1                               Honda Dio          45000  2017  Individual   \n",
       "2     Royal Enfield Classic Gunmetal Grey         150000  2018  Individual   \n",
       "3       Yamaha Fazer FI V 2.0 [2016-2018]          65000  2015  Individual   \n",
       "4                   Yamaha SZ [2013-2014]          20000  2011  Individual   \n",
       "...                                   ...            ...   ...         ...   \n",
       "1056                            Activa 3g          17000  2010  Individual   \n",
       "1057                     Honda CB twister          16000  2012  Individual   \n",
       "1058                   Bajaj Discover 125          15000  2013  Individual   \n",
       "1059                       Honda CB Shine          12000  2009  Individual   \n",
       "1060                     Bajaj Pulsar 150          10000  2008  Individual   \n",
       "\n",
       "          owner  km_driven  ex_showroom_price  \n",
       "0     1st owner        350                NaN  \n",
       "1     1st owner       5650                NaN  \n",
       "2     1st owner      12000           148114.0  \n",
       "3     1st owner      23000            89643.0  \n",
       "4     2nd owner      21000                NaN  \n",
       "...         ...        ...                ...  \n",
       "1056  1st owner     500000            52000.0  \n",
       "1057  1st owner      33000            51000.0  \n",
       "1058  2nd owner      35000            57000.0  \n",
       "1059  1st owner      53000            58000.0  \n",
       "1060  1st owner      92233            75000.0  \n",
       "\n",
       "[1061 rows x 7 columns]"
      ]
     },
     "execution_count": 413,
     "metadata": {},
     "output_type": "execute_result"
    }
   ],
   "source": [
    "df"
   ]
  },
  {
   "cell_type": "code",
   "execution_count": 414,
   "id": "9adece7f-9d1b-4224-b4ad-168c2d8b2bc3",
   "metadata": {},
   "outputs": [],
   "source": [
    "df1=df[[\"selling_price\",\"year\",\"km_driven\"]]"
   ]
  },
  {
   "cell_type": "code",
   "execution_count": 415,
   "id": "7106e644-6b32-4e17-9958-cdde055e5530",
   "metadata": {},
   "outputs": [
    {
     "data": {
      "text/html": [
       "<div>\n",
       "<style scoped>\n",
       "    .dataframe tbody tr th:only-of-type {\n",
       "        vertical-align: middle;\n",
       "    }\n",
       "\n",
       "    .dataframe tbody tr th {\n",
       "        vertical-align: top;\n",
       "    }\n",
       "\n",
       "    .dataframe thead th {\n",
       "        text-align: right;\n",
       "    }\n",
       "</style>\n",
       "<table border=\"1\" class=\"dataframe\">\n",
       "  <thead>\n",
       "    <tr style=\"text-align: right;\">\n",
       "      <th></th>\n",
       "      <th>selling_price</th>\n",
       "      <th>year</th>\n",
       "      <th>km_driven</th>\n",
       "    </tr>\n",
       "  </thead>\n",
       "  <tbody>\n",
       "    <tr>\n",
       "      <th>selling_price</th>\n",
       "      <td>1.000000</td>\n",
       "      <td>0.402188</td>\n",
       "      <td>-0.212937</td>\n",
       "    </tr>\n",
       "    <tr>\n",
       "      <th>year</th>\n",
       "      <td>0.402188</td>\n",
       "      <td>1.000000</td>\n",
       "      <td>-0.288675</td>\n",
       "    </tr>\n",
       "    <tr>\n",
       "      <th>km_driven</th>\n",
       "      <td>-0.212937</td>\n",
       "      <td>-0.288675</td>\n",
       "      <td>1.000000</td>\n",
       "    </tr>\n",
       "  </tbody>\n",
       "</table>\n",
       "</div>"
      ],
      "text/plain": [
       "               selling_price      year  km_driven\n",
       "selling_price       1.000000  0.402188  -0.212937\n",
       "year                0.402188  1.000000  -0.288675\n",
       "km_driven          -0.212937 -0.288675   1.000000"
      ]
     },
     "execution_count": 415,
     "metadata": {},
     "output_type": "execute_result"
    }
   ],
   "source": [
    "df1.corr()"
   ]
  },
  {
   "cell_type": "code",
   "execution_count": 416,
   "id": "fafabc12-b484-4316-817e-94f25748ec12",
   "metadata": {},
   "outputs": [
    {
     "data": {
      "text/plain": [
       "<Axes: >"
      ]
     },
     "execution_count": 416,
     "metadata": {},
     "output_type": "execute_result"
    },
    {
     "data": {
      "image/png": "[encoded data removed]",
      "text/plain": [
       "<Figure size 640x480 with 2 Axes>"
      ]
     },
     "metadata": {},
     "output_type": "display_data"
    }
   ],
   "source": [
    "sns.heatmap(df1)"
   ]
  },
  {
   "cell_type": "code",
   "execution_count": 417,
   "id": "4ed1b92e-38e8-4270-96d5-595abd9a1e9f",
   "metadata": {},
   "outputs": [],
   "source": [
    "###eda"
   ]
  },
  {
   "cell_type": "markdown",
   "id": "a4b16dbe-e6e2-4f8e-ab42-3b7dd22025ec",
   "metadata": {},
   "source": [
    "##EDA2"
   ]
  },
  {
   "cell_type": "code",
   "execution_count": 418,
   "id": "471d8263-c8cd-41dd-8279-366a917140fe",
   "metadata": {},
   "outputs": [],
   "source": [
    "df=pd.read_csv(\"Car Sale.csv\")"
   ]
  },
  {
   "cell_type": "code",
   "execution_count": 419,
   "id": "24569bdf-d713-4fc5-9d4f-827a04aa3a90",
   "metadata": {},
   "outputs": [
    {
     "data": {
      "text/html": [
       "<div>\n",
       "<style scoped>\n",
       "    .dataframe tbody tr th:only-of-type {\n",
       "        vertical-align: middle;\n",
       "    }\n",
       "\n",
       "    .dataframe tbody tr th {\n",
       "        vertical-align: top;\n",
       "    }\n",
       "\n",
       "    .dataframe thead th {\n",
       "        text-align: right;\n",
       "    }\n",
       "</style>\n",
       "<table border=\"1\" class=\"dataframe\">\n",
       "  <thead>\n",
       "    <tr style=\"text-align: right;\">\n",
       "      <th></th>\n",
       "      <th>Car_id</th>\n",
       "      <th>Date</th>\n",
       "      <th>Customer Name</th>\n",
       "      <th>Gender</th>\n",
       "      <th>Annual Income</th>\n",
       "      <th>Dealer_Name</th>\n",
       "      <th>Company</th>\n",
       "      <th>Model</th>\n",
       "      <th>Engine</th>\n",
       "      <th>Transmission</th>\n",
       "      <th>Color</th>\n",
       "      <th>Price ($)</th>\n",
       "      <th>Dealer_No</th>\n",
       "      <th>Body Style</th>\n",
       "      <th>Phone</th>\n",
       "      <th>Dealer_Region</th>\n",
       "    </tr>\n",
       "  </thead>\n",
       "  <tbody>\n",
       "    <tr>\n",
       "      <th>0</th>\n",
       "      <td>C_CND_000001</td>\n",
       "      <td>1/2/2022</td>\n",
       "      <td>Geraldine</td>\n",
       "      <td>Male</td>\n",
       "      <td>13500</td>\n",
       "      <td>Buddy Storbeck's Diesel Service Inc</td>\n",
       "      <td>Ford</td>\n",
       "      <td>Expedition</td>\n",
       "      <td>DoubleÂ Overhead Camshaft</td>\n",
       "      <td>Auto</td>\n",
       "      <td>Black</td>\n",
       "      <td>26000</td>\n",
       "      <td>06457-3834</td>\n",
       "      <td>SUV</td>\n",
       "      <td>8264678</td>\n",
       "      <td>Middletown</td>\n",
       "    </tr>\n",
       "    <tr>\n",
       "      <th>1</th>\n",
       "      <td>C_CND_000002</td>\n",
       "      <td>1/2/2022</td>\n",
       "      <td>Gia</td>\n",
       "      <td>Male</td>\n",
       "      <td>1480000</td>\n",
       "      <td>C &amp; M Motors Inc</td>\n",
       "      <td>Dodge</td>\n",
       "      <td>Durango</td>\n",
       "      <td>DoubleÂ Overhead Camshaft</td>\n",
       "      <td>Auto</td>\n",
       "      <td>Black</td>\n",
       "      <td>19000</td>\n",
       "      <td>60504-7114</td>\n",
       "      <td>SUV</td>\n",
       "      <td>6848189</td>\n",
       "      <td>Aurora</td>\n",
       "    </tr>\n",
       "    <tr>\n",
       "      <th>2</th>\n",
       "      <td>C_CND_000003</td>\n",
       "      <td>1/2/2022</td>\n",
       "      <td>Gianna</td>\n",
       "      <td>Male</td>\n",
       "      <td>1035000</td>\n",
       "      <td>Capitol KIA</td>\n",
       "      <td>Cadillac</td>\n",
       "      <td>Eldorado</td>\n",
       "      <td>Overhead Camshaft</td>\n",
       "      <td>Manual</td>\n",
       "      <td>Red</td>\n",
       "      <td>31500</td>\n",
       "      <td>38701-8047</td>\n",
       "      <td>Passenger</td>\n",
       "      <td>7298798</td>\n",
       "      <td>Greenville</td>\n",
       "    </tr>\n",
       "    <tr>\n",
       "      <th>3</th>\n",
       "      <td>C_CND_000004</td>\n",
       "      <td>1/2/2022</td>\n",
       "      <td>Giselle</td>\n",
       "      <td>Male</td>\n",
       "      <td>13500</td>\n",
       "      <td>Chrysler of Tri-Cities</td>\n",
       "      <td>Toyota</td>\n",
       "      <td>Celica</td>\n",
       "      <td>Overhead Camshaft</td>\n",
       "      <td>Manual</td>\n",
       "      <td>Pale White</td>\n",
       "      <td>14000</td>\n",
       "      <td>99301-3882</td>\n",
       "      <td>SUV</td>\n",
       "      <td>6257557</td>\n",
       "      <td>Pasco</td>\n",
       "    </tr>\n",
       "    <tr>\n",
       "      <th>4</th>\n",
       "      <td>C_CND_000005</td>\n",
       "      <td>1/2/2022</td>\n",
       "      <td>Grace</td>\n",
       "      <td>Male</td>\n",
       "      <td>1465000</td>\n",
       "      <td>Chrysler Plymouth</td>\n",
       "      <td>Acura</td>\n",
       "      <td>TL</td>\n",
       "      <td>DoubleÂ Overhead Camshaft</td>\n",
       "      <td>Auto</td>\n",
       "      <td>Red</td>\n",
       "      <td>24500</td>\n",
       "      <td>53546-9427</td>\n",
       "      <td>Hatchback</td>\n",
       "      <td>7081483</td>\n",
       "      <td>Janesville</td>\n",
       "    </tr>\n",
       "    <tr>\n",
       "      <th>...</th>\n",
       "      <td>...</td>\n",
       "      <td>...</td>\n",
       "      <td>...</td>\n",
       "      <td>...</td>\n",
       "      <td>...</td>\n",
       "      <td>...</td>\n",
       "      <td>...</td>\n",
       "      <td>...</td>\n",
       "      <td>...</td>\n",
       "      <td>...</td>\n",
       "      <td>...</td>\n",
       "      <td>...</td>\n",
       "      <td>...</td>\n",
       "      <td>...</td>\n",
       "      <td>...</td>\n",
       "      <td>...</td>\n",
       "    </tr>\n",
       "    <tr>\n",
       "      <th>23901</th>\n",
       "      <td>C_CND_023902</td>\n",
       "      <td>12/31/2023</td>\n",
       "      <td>Martin</td>\n",
       "      <td>Male</td>\n",
       "      <td>13500</td>\n",
       "      <td>C &amp; M Motors Inc</td>\n",
       "      <td>Plymouth</td>\n",
       "      <td>Voyager</td>\n",
       "      <td>Overhead Camshaft</td>\n",
       "      <td>Manual</td>\n",
       "      <td>Red</td>\n",
       "      <td>12000</td>\n",
       "      <td>60504-7114</td>\n",
       "      <td>Passenger</td>\n",
       "      <td>8583598</td>\n",
       "      <td>Pasco</td>\n",
       "    </tr>\n",
       "    <tr>\n",
       "      <th>23902</th>\n",
       "      <td>C_CND_023903</td>\n",
       "      <td>12/31/2023</td>\n",
       "      <td>Jimmy</td>\n",
       "      <td>Female</td>\n",
       "      <td>900000</td>\n",
       "      <td>Ryder Truck Rental and Leasing</td>\n",
       "      <td>Chevrolet</td>\n",
       "      <td>Prizm</td>\n",
       "      <td>DoubleÂ Overhead Camshaft</td>\n",
       "      <td>Auto</td>\n",
       "      <td>Black</td>\n",
       "      <td>16000</td>\n",
       "      <td>06457-3834</td>\n",
       "      <td>Hardtop</td>\n",
       "      <td>7914229</td>\n",
       "      <td>Middletown</td>\n",
       "    </tr>\n",
       "    <tr>\n",
       "      <th>23903</th>\n",
       "      <td>C_CND_023904</td>\n",
       "      <td>12/31/2023</td>\n",
       "      <td>Emma</td>\n",
       "      <td>Male</td>\n",
       "      <td>705000</td>\n",
       "      <td>Chrysler of Tri-Cities</td>\n",
       "      <td>BMW</td>\n",
       "      <td>328i</td>\n",
       "      <td>Overhead Camshaft</td>\n",
       "      <td>Manual</td>\n",
       "      <td>Red</td>\n",
       "      <td>21000</td>\n",
       "      <td>99301-3882</td>\n",
       "      <td>Sedan</td>\n",
       "      <td>7659127</td>\n",
       "      <td>Scottsdale</td>\n",
       "    </tr>\n",
       "    <tr>\n",
       "      <th>23904</th>\n",
       "      <td>C_CND_023905</td>\n",
       "      <td>12/31/2023</td>\n",
       "      <td>Victoire</td>\n",
       "      <td>Male</td>\n",
       "      <td>13500</td>\n",
       "      <td>Chrysler Plymouth</td>\n",
       "      <td>Chevrolet</td>\n",
       "      <td>Metro</td>\n",
       "      <td>DoubleÂ Overhead Camshaft</td>\n",
       "      <td>Auto</td>\n",
       "      <td>Black</td>\n",
       "      <td>31000</td>\n",
       "      <td>53546-9427</td>\n",
       "      <td>Passenger</td>\n",
       "      <td>6030764</td>\n",
       "      <td>Austin</td>\n",
       "    </tr>\n",
       "    <tr>\n",
       "      <th>23905</th>\n",
       "      <td>C_CND_023906</td>\n",
       "      <td>12/31/2023</td>\n",
       "      <td>Donovan</td>\n",
       "      <td>Male</td>\n",
       "      <td>1225000</td>\n",
       "      <td>Pars Auto Sales</td>\n",
       "      <td>Lexus</td>\n",
       "      <td>ES300</td>\n",
       "      <td>DoubleÂ Overhead Camshaft</td>\n",
       "      <td>Auto</td>\n",
       "      <td>Pale White</td>\n",
       "      <td>27500</td>\n",
       "      <td>38701-8047</td>\n",
       "      <td>Hardtop</td>\n",
       "      <td>7020564</td>\n",
       "      <td>Middletown</td>\n",
       "    </tr>\n",
       "  </tbody>\n",
       "</table>\n",
       "<p>23906 rows × 16 columns</p>\n",
       "</div>"
      ],
      "text/plain": [
       "             Car_id        Date Customer Name  Gender  Annual Income  \\\n",
       "0      C_CND_000001    1/2/2022     Geraldine    Male          13500   \n",
       "1      C_CND_000002    1/2/2022           Gia    Male        1480000   \n",
       "2      C_CND_000003    1/2/2022        Gianna    Male        1035000   \n",
       "3      C_CND_000004    1/2/2022       Giselle    Male          13500   \n",
       "4      C_CND_000005    1/2/2022         Grace    Male        1465000   \n",
       "...             ...         ...           ...     ...            ...   \n",
       "23901  C_CND_023902  12/31/2023        Martin    Male          13500   \n",
       "23902  C_CND_023903  12/31/2023         Jimmy  Female         900000   \n",
       "23903  C_CND_023904  12/31/2023          Emma    Male         705000   \n",
       "23904  C_CND_023905  12/31/2023      Victoire    Male          13500   \n",
       "23905  C_CND_023906  12/31/2023       Donovan    Male        1225000   \n",
       "\n",
       "                               Dealer_Name    Company       Model  \\\n",
       "0      Buddy Storbeck's Diesel Service Inc       Ford  Expedition   \n",
       "1                         C & M Motors Inc      Dodge     Durango   \n",
       "2                              Capitol KIA   Cadillac    Eldorado   \n",
       "3                   Chrysler of Tri-Cities     Toyota      Celica   \n",
       "4                        Chrysler Plymouth      Acura          TL   \n",
       "...                                    ...        ...         ...   \n",
       "23901                     C & M Motors Inc   Plymouth     Voyager   \n",
       "23902       Ryder Truck Rental and Leasing  Chevrolet       Prizm   \n",
       "23903               Chrysler of Tri-Cities        BMW        328i   \n",
       "23904                    Chrysler Plymouth  Chevrolet       Metro   \n",
       "23905                      Pars Auto Sales      Lexus       ES300   \n",
       "\n",
       "                          Engine Transmission       Color  Price ($)  \\\n",
       "0      DoubleÂ Overhead Camshaft         Auto       Black      26000   \n",
       "1      DoubleÂ Overhead Camshaft         Auto       Black      19000   \n",
       "2              Overhead Camshaft       Manual         Red      31500   \n",
       "3              Overhead Camshaft       Manual  Pale White      14000   \n",
       "4      DoubleÂ Overhead Camshaft         Auto         Red      24500   \n",
       "...                          ...          ...         ...        ...   \n",
       "23901          Overhead Camshaft       Manual         Red      12000   \n",
       "23902  DoubleÂ Overhead Camshaft         Auto       Black      16000   \n",
       "23903          Overhead Camshaft       Manual         Red      21000   \n",
       "23904  DoubleÂ Overhead Camshaft         Auto       Black      31000   \n",
       "23905  DoubleÂ Overhead Camshaft         Auto  Pale White      27500   \n",
       "\n",
       "       Dealer_No  Body Style    Phone Dealer_Region  \n",
       "0      06457-3834        SUV  8264678    Middletown  \n",
       "1      60504-7114        SUV  6848189        Aurora  \n",
       "2      38701-8047  Passenger  7298798    Greenville  \n",
       "3      99301-3882        SUV  6257557         Pasco  \n",
       "4      53546-9427  Hatchback  7081483    Janesville  \n",
       "...           ...        ...      ...           ...  \n",
       "23901  60504-7114  Passenger  8583598         Pasco  \n",
       "23902  06457-3834    Hardtop  7914229    Middletown  \n",
       "23903  99301-3882      Sedan  7659127    Scottsdale  \n",
       "23904  53546-9427  Passenger  6030764        Austin  \n",
       "23905  38701-8047    Hardtop  7020564    Middletown  \n",
       "\n",
       "[23906 rows x 16 columns]"
      ]
     },
     "execution_count": 419,
     "metadata": {},
     "output_type": "execute_result"
    }
   ],
   "source": [
    "df"
   ]
  },
  {
   "cell_type": "code",
   "execution_count": 420,
   "id": "6ea662c8-41ca-4ca3-a644-45a819cf52c1",
   "metadata": {},
   "outputs": [
    {
     "name": "stdout",
     "output_type": "stream",
     "text": [
      "<class 'pandas.core.frame.DataFrame'>\n",
      "RangeIndex: 23906 entries, 0 to 23905\n",
      "Data columns (total 16 columns):\n",
      " #   Column         Non-Null Count  Dtype \n",
      "---  ------         --------------  ----- \n",
      " 0   Car_id         23906 non-null  object\n",
      " 1   Date           23906 non-null  object\n",
      " 2   Customer Name  23905 non-null  object\n",
      " 3   Gender         23906 non-null  object\n",
      " 4   Annual Income  23906 non-null  int64 \n",
      " 5   Dealer_Name    23906 non-null  object\n",
      " 6   Company        23906 non-null  object\n",
      " 7   Model          23906 non-null  object\n",
      " 8   Engine         23906 non-null  object\n",
      " 9   Transmission   23906 non-null  object\n",
      " 10  Color          23906 non-null  object\n",
      " 11  Price ($)      23906 non-null  int64 \n",
      " 12  Dealer_No      23906 non-null  object\n",
      " 13  Body Style     23906 non-null  object\n",
      " 14  Phone          23906 non-null  int64 \n",
      " 15  Dealer_Region  23906 non-null  object\n",
      "dtypes: int64(3), object(13)\n",
      "memory usage: 2.9+ MB\n"
     ]
    }
   ],
   "source": [
    "df.info()"
   ]
  },
  {
   "cell_type": "code",
   "execution_count": 421,
   "id": "c22ba7e5-2b63-4e8c-b561-d2b4b78c9d3c",
   "metadata": {},
   "outputs": [
    {
     "data": {
      "text/plain": [
       "Car_id           object\n",
       "Date             object\n",
       "Customer Name    object\n",
       "Gender           object\n",
       "Annual Income     int64\n",
       "Dealer_Name      object\n",
       "Company          object\n",
       "Model            object\n",
       "Engine           object\n",
       "Transmission     object\n",
       "Color            object\n",
       "Price ($)         int64\n",
       "Dealer_No        object\n",
       "Body Style       object\n",
       "Phone             int64\n",
       "Dealer_Region    object\n",
       "dtype: object"
      ]
     },
     "execution_count": 421,
     "metadata": {},
     "output_type": "execute_result"
    }
   ],
   "source": [
    "df.dtypes"
   ]
  },
  {
   "cell_type": "code",
   "execution_count": 422,
   "id": "3da2af6b-71e0-49f7-8b7a-9534109bb94f",
   "metadata": {},
   "outputs": [
    {
     "data": {
      "text/html": [
       "<div>\n",
       "<style scoped>\n",
       "    .dataframe tbody tr th:only-of-type {\n",
       "        vertical-align: middle;\n",
       "    }\n",
       "\n",
       "    .dataframe tbody tr th {\n",
       "        vertical-align: top;\n",
       "    }\n",
       "\n",
       "    .dataframe thead th {\n",
       "        text-align: right;\n",
       "    }\n",
       "</style>\n",
       "<table border=\"1\" class=\"dataframe\">\n",
       "  <thead>\n",
       "    <tr style=\"text-align: right;\">\n",
       "      <th></th>\n",
       "      <th>Car_id</th>\n",
       "      <th>Date</th>\n",
       "      <th>Customer Name</th>\n",
       "      <th>Gender</th>\n",
       "      <th>Annual Income</th>\n",
       "      <th>Dealer_Name</th>\n",
       "      <th>Company</th>\n",
       "      <th>Model</th>\n",
       "      <th>Engine</th>\n",
       "      <th>Transmission</th>\n",
       "      <th>Color</th>\n",
       "      <th>Price ($)</th>\n",
       "      <th>Dealer_No</th>\n",
       "      <th>Body Style</th>\n",
       "      <th>Phone</th>\n",
       "      <th>Dealer_Region</th>\n",
       "    </tr>\n",
       "  </thead>\n",
       "  <tbody>\n",
       "    <tr>\n",
       "      <th>0</th>\n",
       "      <td>C_CND_000001</td>\n",
       "      <td>1/2/2022</td>\n",
       "      <td>Geraldine</td>\n",
       "      <td>Male</td>\n",
       "      <td>13500</td>\n",
       "      <td>Buddy Storbeck's Diesel Service Inc</td>\n",
       "      <td>Ford</td>\n",
       "      <td>Expedition</td>\n",
       "      <td>DoubleÂ Overhead Camshaft</td>\n",
       "      <td>Auto</td>\n",
       "      <td>Black</td>\n",
       "      <td>26000</td>\n",
       "      <td>06457-3834</td>\n",
       "      <td>SUV</td>\n",
       "      <td>8264678</td>\n",
       "      <td>Middletown</td>\n",
       "    </tr>\n",
       "    <tr>\n",
       "      <th>1</th>\n",
       "      <td>C_CND_000002</td>\n",
       "      <td>1/2/2022</td>\n",
       "      <td>Gia</td>\n",
       "      <td>Male</td>\n",
       "      <td>1480000</td>\n",
       "      <td>C &amp; M Motors Inc</td>\n",
       "      <td>Dodge</td>\n",
       "      <td>Durango</td>\n",
       "      <td>DoubleÂ Overhead Camshaft</td>\n",
       "      <td>Auto</td>\n",
       "      <td>Black</td>\n",
       "      <td>19000</td>\n",
       "      <td>60504-7114</td>\n",
       "      <td>SUV</td>\n",
       "      <td>6848189</td>\n",
       "      <td>Aurora</td>\n",
       "    </tr>\n",
       "    <tr>\n",
       "      <th>2</th>\n",
       "      <td>C_CND_000003</td>\n",
       "      <td>1/2/2022</td>\n",
       "      <td>Gianna</td>\n",
       "      <td>Male</td>\n",
       "      <td>1035000</td>\n",
       "      <td>Capitol KIA</td>\n",
       "      <td>Cadillac</td>\n",
       "      <td>Eldorado</td>\n",
       "      <td>Overhead Camshaft</td>\n",
       "      <td>Manual</td>\n",
       "      <td>Red</td>\n",
       "      <td>31500</td>\n",
       "      <td>38701-8047</td>\n",
       "      <td>Passenger</td>\n",
       "      <td>7298798</td>\n",
       "      <td>Greenville</td>\n",
       "    </tr>\n",
       "    <tr>\n",
       "      <th>3</th>\n",
       "      <td>C_CND_000004</td>\n",
       "      <td>1/2/2022</td>\n",
       "      <td>Giselle</td>\n",
       "      <td>Male</td>\n",
       "      <td>13500</td>\n",
       "      <td>Chrysler of Tri-Cities</td>\n",
       "      <td>Toyota</td>\n",
       "      <td>Celica</td>\n",
       "      <td>Overhead Camshaft</td>\n",
       "      <td>Manual</td>\n",
       "      <td>Pale White</td>\n",
       "      <td>14000</td>\n",
       "      <td>99301-3882</td>\n",
       "      <td>SUV</td>\n",
       "      <td>6257557</td>\n",
       "      <td>Pasco</td>\n",
       "    </tr>\n",
       "    <tr>\n",
       "      <th>4</th>\n",
       "      <td>C_CND_000005</td>\n",
       "      <td>1/2/2022</td>\n",
       "      <td>Grace</td>\n",
       "      <td>Male</td>\n",
       "      <td>1465000</td>\n",
       "      <td>Chrysler Plymouth</td>\n",
       "      <td>Acura</td>\n",
       "      <td>TL</td>\n",
       "      <td>DoubleÂ Overhead Camshaft</td>\n",
       "      <td>Auto</td>\n",
       "      <td>Red</td>\n",
       "      <td>24500</td>\n",
       "      <td>53546-9427</td>\n",
       "      <td>Hatchback</td>\n",
       "      <td>7081483</td>\n",
       "      <td>Janesville</td>\n",
       "    </tr>\n",
       "  </tbody>\n",
       "</table>\n",
       "</div>"
      ],
      "text/plain": [
       "         Car_id      Date Customer Name Gender  Annual Income  \\\n",
       "0  C_CND_000001  1/2/2022     Geraldine   Male          13500   \n",
       "1  C_CND_000002  1/2/2022           Gia   Male        1480000   \n",
       "2  C_CND_000003  1/2/2022        Gianna   Male        1035000   \n",
       "3  C_CND_000004  1/2/2022       Giselle   Male          13500   \n",
       "4  C_CND_000005  1/2/2022         Grace   Male        1465000   \n",
       "\n",
       "                           Dealer_Name   Company       Model  \\\n",
       "0  Buddy Storbeck's Diesel Service Inc      Ford  Expedition   \n",
       "1                     C & M Motors Inc     Dodge     Durango   \n",
       "2                          Capitol KIA  Cadillac    Eldorado   \n",
       "3               Chrysler of Tri-Cities    Toyota      Celica   \n",
       "4                    Chrysler Plymouth     Acura          TL   \n",
       "\n",
       "                      Engine Transmission       Color  Price ($)  Dealer_No   \\\n",
       "0  DoubleÂ Overhead Camshaft         Auto       Black      26000  06457-3834   \n",
       "1  DoubleÂ Overhead Camshaft         Auto       Black      19000  60504-7114   \n",
       "2          Overhead Camshaft       Manual         Red      31500  38701-8047   \n",
       "3          Overhead Camshaft       Manual  Pale White      14000  99301-3882   \n",
       "4  DoubleÂ Overhead Camshaft         Auto         Red      24500  53546-9427   \n",
       "\n",
       "  Body Style    Phone Dealer_Region  \n",
       "0        SUV  8264678    Middletown  \n",
       "1        SUV  6848189        Aurora  \n",
       "2  Passenger  7298798    Greenville  \n",
       "3        SUV  6257557         Pasco  \n",
       "4  Hatchback  7081483    Janesville  "
      ]
     },
     "execution_count": 422,
     "metadata": {},
     "output_type": "execute_result"
    }
   ],
   "source": [
    "df.head()"
   ]
  },
  {
   "cell_type": "markdown",
   "id": "1c92c193-7dd9-4c2d-a22e-e148210a1b68",
   "metadata": {},
   "source": [
    "1._\u0014 What is the average selling price of cars for each dealer, and how does it compare across different dealersE"
   ]
  },
  {
   "cell_type": "code",
   "execution_count": 423,
   "id": "c484beca-b1b2-463d-b818-d79600b44764",
   "metadata": {},
   "outputs": [
    {
     "data": {
      "text/plain": [
       "Dealer_Name\n",
       "Progressive Shippers Cooperative Association No    1318\n",
       "Rabun Used Car Sales                               1313\n",
       "Race Car Help                                      1253\n",
       "Saab-Belle Dodge                                   1251\n",
       "Star Enterprises Inc                               1249\n",
       "Tri-State Mack Inc                                 1249\n",
       "Ryder Truck Rental and Leasing                     1248\n",
       "U-Haul CO                                          1247\n",
       "Scrivener Performance Engineering                  1246\n",
       "Suburban Ford                                      1243\n",
       "Nebo Chevrolet                                      633\n",
       "Pars Auto Sales                                     630\n",
       "New Castle Ford Lincoln Mercury                     629\n",
       "McKinney Dodge Chrysler Jeep                        629\n",
       "Hatfield Volkswagen                                 629\n",
       "Gartner Buick Hyundai Saab                          628\n",
       "Pitre Buick-Pontiac-Gmc of Scottsdale               628\n",
       "Capitol KIA                                         628\n",
       "Clay Johnson Auto Sales                             627\n",
       "Iceberg Rentals                                     627\n",
       "Buddy Storbeck's Diesel Service Inc                 627\n",
       "Motor Vehicle Branch Office                         626\n",
       "Chrysler of Tri-Cities                              626\n",
       "C & M Motors Inc                                    625\n",
       "Enterprise Rent A Car                               625\n",
       "Chrysler Plymouth                                   625\n",
       "Diehl Motor CO Inc                                  624\n",
       "Classic Chevy                                       623\n",
       "Name: count, dtype: int64"
      ]
     },
     "execution_count": 423,
     "metadata": {},
     "output_type": "execute_result"
    }
   ],
   "source": [
    "df[\"Dealer_Name\"].value_counts()"
   ]
  },
  {
   "cell_type": "code",
   "execution_count": 424,
   "id": "1e1f0226-4634-4d6a-9e5d-0387f82564cc",
   "metadata": {},
   "outputs": [],
   "source": [
    "group_by=df.groupby(\"Dealer_Name\")[\"Price ($)\"]"
   ]
  },
  {
   "cell_type": "code",
   "execution_count": 425,
   "id": "fed0ff47-49cb-4d96-a88b-c5296e258709",
   "metadata": {},
   "outputs": [
    {
     "data": {
      "text/plain": [
       "Dealer_Name\n",
       "Buddy Storbeck's Diesel Service Inc                27217.261563\n",
       "C & M Motors Inc                                   28111.755200\n",
       "Capitol KIA                                        28189.703822\n",
       "Chrysler Plymouth                                  27555.526400\n",
       "Chrysler of Tri-Cities                             28123.091054\n",
       "Classic Chevy                                      28602.014446\n",
       "Clay Johnson Auto Sales                            27816.027113\n",
       "Diehl Motor CO Inc                                 27993.929487\n",
       "Enterprise Rent A Car                              28312.580800\n",
       "Gartner Buick Hyundai Saab                         28247.621019\n",
       "Hatfield Volkswagen                                27853.712242\n",
       "Iceberg Rentals                                    28522.958533\n",
       "McKinney Dodge Chrysler Jeep                       27684.096979\n",
       "Motor Vehicle Branch Office                        27956.739617\n",
       "Nebo Chevrolet                                     27818.889415\n",
       "New Castle Ford Lincoln Mercury                    27867.131955\n",
       "Pars Auto Sales                                    28013.060317\n",
       "Pitre Buick-Pontiac-Gmc of Scottsdale              27404.248408\n",
       "Progressive Shippers Cooperative Association No    27884.264036\n",
       "Rabun Used Car Sales                               28527.536177\n",
       "Race Car Help                                      28163.372706\n",
       "Ryder Truck Rental and Leasing                     27914.988782\n",
       "Saab-Belle Dodge                                   28190.139888\n",
       "Scrivener Performance Engineering                  28297.371589\n",
       "Star Enterprises Inc                               28113.055244\n",
       "Suburban Ford                                      28112.206758\n",
       "Tri-State Mack Inc                                 28095.562050\n",
       "U-Haul CO                                          28769.919006\n",
       "Name: Price ($), dtype: float64"
      ]
     },
     "execution_count": 425,
     "metadata": {},
     "output_type": "execute_result"
    }
   ],
   "source": [
    "group_by.mean()"
   ]
  },
  {
   "cell_type": "markdown",
   "id": "4b58d3a4-8a73-4316-8692-fecf026858c8",
   "metadata": {},
   "source": [
    "2.Which car brand (Company) has the highest variation in prices, and what does this tell us about the pricing\n",
    "trends."
   ]
  },
  {
   "cell_type": "code",
   "execution_count": 426,
   "id": "4cd25d83-1441-405c-b8fc-eb3360a67e58",
   "metadata": {},
   "outputs": [
    {
     "data": {
      "text/plain": [
       "Dealer_Name\n",
       "Buddy Storbeck's Diesel Service Inc                1.998470e+08\n",
       "C & M Motors Inc                                   2.046472e+08\n",
       "Capitol KIA                                        2.261182e+08\n",
       "Chrysler Plymouth                                  2.096213e+08\n",
       "Chrysler of Tri-Cities                             2.225011e+08\n",
       "Classic Chevy                                      2.344256e+08\n",
       "Clay Johnson Auto Sales                            2.041775e+08\n",
       "Diehl Motor CO Inc                                 2.029742e+08\n",
       "Enterprise Rent A Car                              2.245158e+08\n",
       "Gartner Buick Hyundai Saab                         2.234576e+08\n",
       "Hatfield Volkswagen                                2.126111e+08\n",
       "Iceberg Rentals                                    2.254917e+08\n",
       "McKinney Dodge Chrysler Jeep                       2.260068e+08\n",
       "Motor Vehicle Branch Office                        2.236922e+08\n",
       "Nebo Chevrolet                                     2.196244e+08\n",
       "New Castle Ford Lincoln Mercury                    2.020130e+08\n",
       "Pars Auto Sales                                    2.106358e+08\n",
       "Pitre Buick-Pontiac-Gmc of Scottsdale              1.866337e+08\n",
       "Progressive Shippers Cooperative Association No    2.131315e+08\n",
       "Rabun Used Car Sales                               2.354538e+08\n",
       "Race Car Help                                      2.280749e+08\n",
       "Ryder Truck Rental and Leasing                     2.180869e+08\n",
       "Saab-Belle Dodge                                   2.166986e+08\n",
       "Scrivener Performance Engineering                  2.353944e+08\n",
       "Star Enterprises Inc                               2.172838e+08\n",
       "Suburban Ford                                      2.112798e+08\n",
       "Tri-State Mack Inc                                 2.221287e+08\n",
       "U-Haul CO                                          2.306637e+08\n",
       "Name: Price ($), dtype: float64"
      ]
     },
     "execution_count": 426,
     "metadata": {},
     "output_type": "execute_result"
    }
   ],
   "source": [
    "group_by.var()"
   ]
  },
  {
   "cell_type": "code",
   "execution_count": 427,
   "id": "605f2bac-6c11-4534-bba0-808514c6221c",
   "metadata": {},
   "outputs": [],
   "source": [
    "#U-Haul CO has highest variation"
   ]
  },
  {
   "cell_type": "markdown",
   "id": "81601e91-105a-4df1-a09d-f00bc2722541",
   "metadata": {},
   "source": [
    "3.What is the distribution of car prices for each transmission type, and how do the interquartile ranges\n",
    "compare."
   ]
  },
  {
   "cell_type": "code",
   "execution_count": null,
   "id": "9bb3da1e-275c-4480-8c3c-cfa7f37be934",
   "metadata": {},
   "outputs": [],
   "source": []
  },
  {
   "cell_type": "code",
   "execution_count": 428,
   "id": "9e064c75-44a6-4708-9efa-d429a9ed9a5b",
   "metadata": {},
   "outputs": [],
   "source": [
    "groupby=df.groupby(\"Transmission\")[\"Price ($)\"]"
   ]
  },
  {
   "cell_type": "code",
   "execution_count": 429,
   "id": "52070f91-f40a-4c88-959f-3bb00fead106",
   "metadata": {},
   "outputs": [
    {
     "data": {
      "text/plain": [
       "Transmission\n",
       "Auto      28248.525972\n",
       "Manual    27914.710631\n",
       "Name: Price ($), dtype: float64"
      ]
     },
     "execution_count": 429,
     "metadata": {},
     "output_type": "execute_result"
    }
   ],
   "source": [
    "groupby.mean()"
   ]
  },
  {
   "cell_type": "markdown",
   "id": "098b1697-d583-4206-8c65-c45b582287c3",
   "metadata": {},
   "source": [
    "4.What is the distribution of car prices across different regions."
   ]
  },
  {
   "cell_type": "code",
   "execution_count": 430,
   "id": "080de515-4159-4b6f-b926-6708c76c099c",
   "metadata": {},
   "outputs": [],
   "source": [
    "groupby=df.groupby(\"Dealer_Region\")[\"Price ($)\"]"
   ]
  },
  {
   "cell_type": "code",
   "execution_count": 431,
   "id": "dbac9f85-40c7-4876-af9e-ff51d44f01e0",
   "metadata": {},
   "outputs": [
    {
     "data": {
      "text/plain": [
       "Dealer_Region\n",
       "Aurora        28334.626837\n",
       "Austin        28341.603628\n",
       "Greenville    28180.819054\n",
       "Janesville    27833.350955\n",
       "Middletown    27856.338875\n",
       "Pasco         28119.039923\n",
       "Scottsdale    27954.958928\n",
       "Name: Price ($), dtype: float64"
      ]
     },
     "execution_count": 431,
     "metadata": {},
     "output_type": "execute_result"
    }
   ],
   "source": [
    "groupby.mean()"
   ]
  },
  {
   "cell_type": "markdown",
   "id": "27eeeee8-bf8b-4afd-a17f-de7a3cec9971",
   "metadata": {},
   "source": [
    "6.;\u0014 How does the average selling price of cars vary by customer gender and annual incomeE"
   ]
  },
  {
   "cell_type": "code",
   "execution_count": 432,
   "id": "2b654f1c-b2f7-4fc9-b8cb-cf7646351d18",
   "metadata": {},
   "outputs": [
    {
     "data": {
      "text/plain": [
       "Car_id           object\n",
       "Date             object\n",
       "Customer Name    object\n",
       "Gender           object\n",
       "Annual Income     int64\n",
       "Dealer_Name      object\n",
       "Company          object\n",
       "Model            object\n",
       "Engine           object\n",
       "Transmission     object\n",
       "Color            object\n",
       "Price ($)         int64\n",
       "Dealer_No        object\n",
       "Body Style       object\n",
       "Phone             int64\n",
       "Dealer_Region    object\n",
       "dtype: object"
      ]
     },
     "execution_count": 432,
     "metadata": {},
     "output_type": "execute_result"
    }
   ],
   "source": [
    "df.dtypes"
   ]
  },
  {
   "cell_type": "code",
   "execution_count": 433,
   "id": "fbd722a5-ef46-451d-9d44-9cfc307caa0a",
   "metadata": {},
   "outputs": [],
   "source": [
    "groupby=df.groupby(\"Gender\")[\"Price ($)\"]"
   ]
  },
  {
   "cell_type": "code",
   "execution_count": 434,
   "id": "5d06efbb-3a24-494d-94cc-5653bf0d3271",
   "metadata": {},
   "outputs": [
    {
     "data": {
      "text/plain": [
       "Gender\n",
       "Female    28277.265270\n",
       "Male      28039.429407\n",
       "Name: Price ($), dtype: float64"
      ]
     },
     "execution_count": 434,
     "metadata": {},
     "output_type": "execute_result"
    }
   ],
   "source": [
    "groupby.mean()"
   ]
  },
  {
   "cell_type": "code",
   "execution_count": 435,
   "id": "f8ce4e27-a26c-4308-a8bc-97b3842fb2c1",
   "metadata": {},
   "outputs": [],
   "source": [
    "groupby=df.groupby(\"Annual Income\")[\"Price ($)\"]"
   ]
  },
  {
   "cell_type": "code",
   "execution_count": 436,
   "id": "d6982cb5-7bb7-4442-bd73-f4e3d1f11dde",
   "metadata": {},
   "outputs": [
    {
     "data": {
      "text/plain": [
       "Annual Income\n",
       "10080       22801.000000\n",
       "13500       27878.981415\n",
       "24000       61001.000000\n",
       "85000       43000.000000\n",
       "106000      46001.000000\n",
       "                ...     \n",
       "6600000     39000.000000\n",
       "6800000     15000.000000\n",
       "7650000     21000.000000\n",
       "8000000     85000.000000\n",
       "11200000    26001.000000\n",
       "Name: Price ($), Length: 2508, dtype: float64"
      ]
     },
     "execution_count": 436,
     "metadata": {},
     "output_type": "execute_result"
    }
   ],
   "source": [
    "groupby.mean()"
   ]
  },
  {
   "cell_type": "markdown",
   "id": "98337e4b-9fe8-416b-b6c9-45d0ae923f47",
   "metadata": {},
   "source": [
    "7\u0014 What is the distribution of car prices by region, and how does the number of cars sold vary by regionE"
   ]
  },
  {
   "cell_type": "code",
   "execution_count": 437,
   "id": "10fcc5d2-c573-466b-9452-305831b7d39b",
   "metadata": {},
   "outputs": [],
   "source": [
    "groupby=df.groupby(\"Dealer_Region\")[\"Price ($)\"]"
   ]
  },
  {
   "cell_type": "code",
   "execution_count": 438,
   "id": "47e1c42f-2d4a-4dd9-9a5a-3e97db7b0b60",
   "metadata": {},
   "outputs": [
    {
     "data": {
      "text/plain": [
       "Dealer_Region\n",
       "Aurora        28334.626837\n",
       "Austin        28341.603628\n",
       "Greenville    28180.819054\n",
       "Janesville    27833.350955\n",
       "Middletown    27856.338875\n",
       "Pasco         28119.039923\n",
       "Scottsdale    27954.958928\n",
       "Name: Price ($), dtype: float64"
      ]
     },
     "execution_count": 438,
     "metadata": {},
     "output_type": "execute_result"
    }
   ],
   "source": [
    "groupby.mean()"
   ]
  },
  {
   "cell_type": "code",
   "execution_count": 439,
   "id": "b0a935ec-fe10-4719-af58-a0043d501da9",
   "metadata": {},
   "outputs": [
    {
     "data": {
      "text/plain": [
       "Dealer_Region\n",
       "Aurora        3130\n",
       "Austin        4135\n",
       "Greenville    3128\n",
       "Janesville    3821\n",
       "Middletown    3128\n",
       "Pasco         3131\n",
       "Scottsdale    3433\n",
       "Name: Price ($), dtype: int64"
      ]
     },
     "execution_count": 439,
     "metadata": {},
     "output_type": "execute_result"
    }
   ],
   "source": [
    "groupby.count()"
   ]
  },
  {
   "cell_type": "markdown",
   "id": "7801e0df-2cf9-4da7-96d0-dc3c31a951b5",
   "metadata": {},
   "source": [
    "8.I\u0014 How does the average car price differ between cars with different engine sizes."
   ]
  },
  {
   "cell_type": "code",
   "execution_count": 440,
   "id": "5a5a4c83-e222-4ac6-8876-2278f07b820d",
   "metadata": {},
   "outputs": [],
   "source": [
    "groupby=df.groupby(\"Engine\")[\"Price ($)\"]"
   ]
  },
  {
   "cell_type": "code",
   "execution_count": 441,
   "id": "a902a960-470f-43e5-80e1-e2c8ba9bc1bc",
   "metadata": {},
   "outputs": [
    {
     "data": {
      "text/plain": [
       "Engine\n",
       "DoubleÂ Overhead Camshaft    28248.525972\n",
       "Overhead Camshaft            27914.710631\n",
       "Name: Price ($), dtype: float64"
      ]
     },
     "execution_count": 441,
     "metadata": {},
     "output_type": "execute_result"
    }
   ],
   "source": [
    "groupby.mean()"
   ]
  },
  {
   "cell_type": "markdown",
   "id": "67b7c339-31a4-400e-87b9-296812d71c51",
   "metadata": {},
   "source": [
    "9\u0014 How do car prices vary based on the customer’s annual income bracketE"
   ]
  },
  {
   "cell_type": "code",
   "execution_count": 442,
   "id": "defbe699-7b96-40b8-9e40-3a49641959b1",
   "metadata": {},
   "outputs": [],
   "source": [
    "groupby=df.groupby(\"Annual Income\")[\"Price ($)\"]"
   ]
  },
  {
   "cell_type": "code",
   "execution_count": 443,
   "id": "662d2403-e174-41f2-a6d8-ea603792b7b1",
   "metadata": {},
   "outputs": [
    {
     "data": {
      "text/plain": [
       "Annual Income\n",
       "10080                NaN\n",
       "13500       2.221518e+08\n",
       "24000                NaN\n",
       "85000                NaN\n",
       "106000               NaN\n",
       "                ...     \n",
       "6600000              NaN\n",
       "6800000              NaN\n",
       "7650000              NaN\n",
       "8000000              NaN\n",
       "11200000             NaN\n",
       "Name: Price ($), Length: 2508, dtype: float64"
      ]
     },
     "execution_count": 443,
     "metadata": {},
     "output_type": "execute_result"
    }
   ],
   "source": [
    "groupby.var()"
   ]
  },
  {
   "cell_type": "markdown",
   "id": "12643963-edc7-47f6-82f6-5bf14681eca3",
   "metadata": {},
   "source": [
    "10._V\u0014 What are the top 5 car models with the highest number of sales, and how does their price distribution lookE"
   ]
  },
  {
   "cell_type": "code",
   "execution_count": 444,
   "id": "9b92f98e-098f-4b43-ac07-919b92898094",
   "metadata": {},
   "outputs": [],
   "source": [
    "groupby=df.groupby(\"Model\")[\"Price ($)\"]"
   ]
  },
  {
   "cell_type": "code",
   "execution_count": 445,
   "id": "9679066f-937f-48a4-9e23-5f2b13d967da",
   "metadata": {},
   "outputs": [
    {
     "data": {
      "text/plain": [
       "Model\n",
       "3-Sep       171\n",
       "3000GT      303\n",
       "300M        243\n",
       "323i        260\n",
       "328i        206\n",
       "           ... \n",
       "Viper       240\n",
       "Voyager     181\n",
       "Windstar    121\n",
       "Wrangler    164\n",
       "Xterra       92\n",
       "Name: Price ($), Length: 154, dtype: int64"
      ]
     },
     "execution_count": 445,
     "metadata": {},
     "output_type": "execute_result"
    }
   ],
   "source": [
    "groupby.count()"
   ]
  },
  {
   "cell_type": "markdown",
   "id": "46cda318-85b1-4b3c-895c-be6cafface81",
   "metadata": {},
   "source": [
    "11.How does car price vary with engine size across different car colors, and which colors have the highest price\n",
    "variationE"
   ]
  },
  {
   "cell_type": "code",
   "execution_count": 446,
   "id": "042e875b-b640-45c3-9b00-5645dbd67ea6",
   "metadata": {},
   "outputs": [],
   "source": [
    "groupby=df.groupby(\"Engine\")[\"Price ($)\"]"
   ]
  },
  {
   "cell_type": "code",
   "execution_count": 447,
   "id": "ba1e4aca-d49a-4db3-a65b-9373cc87030a",
   "metadata": {},
   "outputs": [
    {
     "data": {
      "text/plain": [
       "Engine\n",
       "DoubleÂ Overhead Camshaft    1.889819e+08\n",
       "Overhead Camshaft            2.516307e+08\n",
       "Name: Price ($), dtype: float64"
      ]
     },
     "execution_count": 447,
     "metadata": {},
     "output_type": "execute_result"
    }
   ],
   "source": [
    "groupby.var()"
   ]
  },
  {
   "cell_type": "code",
   "execution_count": 448,
   "id": "cb0fc5a5-21a8-4f21-812f-331865157569",
   "metadata": {},
   "outputs": [],
   "source": [
    "groupby=df.groupby(\"Color\")[\"Price ($)\"]"
   ]
  },
  {
   "cell_type": "code",
   "execution_count": 449,
   "id": "a34ad0fc-6d3f-4ac2-b63c-edeb8c95535d",
   "metadata": {},
   "outputs": [
    {
     "data": {
      "text/plain": [
       "Color\n",
       "Black         2.336638e+08\n",
       "Pale White    1.981717e+08\n",
       "Red           2.408506e+08\n",
       "Name: Price ($), dtype: float64"
      ]
     },
     "execution_count": 449,
     "metadata": {},
     "output_type": "execute_result"
    }
   ],
   "source": [
    "groupby.var() #black has highest price variation"
   ]
  },
  {
   "cell_type": "markdown",
   "id": "0d5f96f7-c7aa-4917-8d7f-9ba031589db3",
   "metadata": {},
   "source": [
    "12. Is there any seasonal trend in car sales based on the date of saleE"
   ]
  },
  {
   "cell_type": "code",
   "execution_count": 450,
   "id": "e99ccfb8-44ef-4e8c-a818-82ad5cc5e220",
   "metadata": {},
   "outputs": [],
   "source": [
    "groupby=df.groupby(\"Date\")[\"Price ($)\"]"
   ]
  },
  {
   "cell_type": "code",
   "execution_count": 451,
   "id": "f79f8695-7f0d-4f58-868a-63ee5d84dd33",
   "metadata": {},
   "outputs": [],
   "source": [
    "data=groupby.count()"
   ]
  },
  {
   "cell_type": "code",
   "execution_count": 452,
   "id": "d4c6e16a-f396-405d-a876-81073f63c640",
   "metadata": {},
   "outputs": [
    {
     "data": {
      "text/plain": [
       "Date\n",
       "1/10/2022      5\n",
       "1/10/2023     15\n",
       "1/11/2023     20\n",
       "1/12/2022     30\n",
       "1/13/2022     20\n",
       "            ... \n",
       "9/6/2023      40\n",
       "9/7/2022      70\n",
       "9/8/2022      20\n",
       "9/8/2023     105\n",
       "9/9/2023      15\n",
       "Name: Price ($), Length: 612, dtype: int64"
      ]
     },
     "execution_count": 452,
     "metadata": {},
     "output_type": "execute_result"
    }
   ],
   "source": [
    "data"
   ]
  },
  {
   "cell_type": "code",
   "execution_count": 453,
   "id": "0db5d1fe-2ae8-4337-8655-dbc500fe7644",
   "metadata": {},
   "outputs": [],
   "source": [
    "df1=pd.DataFrame(data)"
   ]
  },
  {
   "cell_type": "code",
   "execution_count": 454,
   "id": "c3e35353-b169-4682-b2ee-ff0ca385de03",
   "metadata": {},
   "outputs": [
    {
     "data": {
      "text/plain": [
       "Date\n",
       "1/10/2022      5\n",
       "1/10/2023     15\n",
       "1/11/2023     20\n",
       "1/12/2022     30\n",
       "1/13/2022     20\n",
       "            ... \n",
       "9/6/2023      40\n",
       "9/7/2022      70\n",
       "9/8/2022      20\n",
       "9/8/2023     105\n",
       "9/9/2023      15\n",
       "Name: Price ($), Length: 612, dtype: int64"
      ]
     },
     "execution_count": 454,
     "metadata": {},
     "output_type": "execute_result"
    }
   ],
   "source": [
    "df1[\"Price ($)\"]"
   ]
  },
  {
   "cell_type": "code",
   "execution_count": 455,
   "id": "8e848af6-e877-4ed3-bea0-6ee3ee01e994",
   "metadata": {},
   "outputs": [],
   "source": [
    "df1=df1.reset_index()"
   ]
  },
  {
   "cell_type": "code",
   "execution_count": 456,
   "id": "b12ef991-7b10-43d6-b951-7f9c4d12940f",
   "metadata": {},
   "outputs": [
    {
     "data": {
      "text/html": [
       "<div>\n",
       "<style scoped>\n",
       "    .dataframe tbody tr th:only-of-type {\n",
       "        vertical-align: middle;\n",
       "    }\n",
       "\n",
       "    .dataframe tbody tr th {\n",
       "        vertical-align: top;\n",
       "    }\n",
       "\n",
       "    .dataframe thead th {\n",
       "        text-align: right;\n",
       "    }\n",
       "</style>\n",
       "<table border=\"1\" class=\"dataframe\">\n",
       "  <thead>\n",
       "    <tr style=\"text-align: right;\">\n",
       "      <th></th>\n",
       "      <th>Date</th>\n",
       "      <th>Price ($)</th>\n",
       "    </tr>\n",
       "  </thead>\n",
       "  <tbody>\n",
       "    <tr>\n",
       "      <th>0</th>\n",
       "      <td>1/10/2022</td>\n",
       "      <td>5</td>\n",
       "    </tr>\n",
       "    <tr>\n",
       "      <th>1</th>\n",
       "      <td>1/10/2023</td>\n",
       "      <td>15</td>\n",
       "    </tr>\n",
       "    <tr>\n",
       "      <th>2</th>\n",
       "      <td>1/11/2023</td>\n",
       "      <td>20</td>\n",
       "    </tr>\n",
       "    <tr>\n",
       "      <th>3</th>\n",
       "      <td>1/12/2022</td>\n",
       "      <td>30</td>\n",
       "    </tr>\n",
       "    <tr>\n",
       "      <th>4</th>\n",
       "      <td>1/13/2022</td>\n",
       "      <td>20</td>\n",
       "    </tr>\n",
       "    <tr>\n",
       "      <th>...</th>\n",
       "      <td>...</td>\n",
       "      <td>...</td>\n",
       "    </tr>\n",
       "    <tr>\n",
       "      <th>607</th>\n",
       "      <td>9/6/2023</td>\n",
       "      <td>40</td>\n",
       "    </tr>\n",
       "    <tr>\n",
       "      <th>608</th>\n",
       "      <td>9/7/2022</td>\n",
       "      <td>70</td>\n",
       "    </tr>\n",
       "    <tr>\n",
       "      <th>609</th>\n",
       "      <td>9/8/2022</td>\n",
       "      <td>20</td>\n",
       "    </tr>\n",
       "    <tr>\n",
       "      <th>610</th>\n",
       "      <td>9/8/2023</td>\n",
       "      <td>105</td>\n",
       "    </tr>\n",
       "    <tr>\n",
       "      <th>611</th>\n",
       "      <td>9/9/2023</td>\n",
       "      <td>15</td>\n",
       "    </tr>\n",
       "  </tbody>\n",
       "</table>\n",
       "<p>612 rows × 2 columns</p>\n",
       "</div>"
      ],
      "text/plain": [
       "          Date  Price ($)\n",
       "0    1/10/2022          5\n",
       "1    1/10/2023         15\n",
       "2    1/11/2023         20\n",
       "3    1/12/2022         30\n",
       "4    1/13/2022         20\n",
       "..         ...        ...\n",
       "607   9/6/2023         40\n",
       "608   9/7/2022         70\n",
       "609   9/8/2022         20\n",
       "610   9/8/2023        105\n",
       "611   9/9/2023         15\n",
       "\n",
       "[612 rows x 2 columns]"
      ]
     },
     "execution_count": 456,
     "metadata": {},
     "output_type": "execute_result"
    }
   ],
   "source": [
    "df1"
   ]
  },
  {
   "cell_type": "code",
   "execution_count": 457,
   "id": "8f06e746-116c-4d2e-87ea-1382e8212ffc",
   "metadata": {},
   "outputs": [
    {
     "data": {
      "text/plain": [
       "<matplotlib.collections.PathCollection at 0x25c35327f50>"
      ]
     },
     "execution_count": 457,
     "metadata": {},
     "output_type": "execute_result"
    },
    {
     "data": {
      "image/png": "[encoded data removed]",
      "text/plain": [
       "<Figure size 640x480 with 1 Axes>"
      ]
     },
     "metadata": {},
     "output_type": "display_data"
    }
   ],
   "source": [
    "plt.scatter(df1[\"Date\"],df1[\"Price ($)\"])"
   ]
  },
  {
   "cell_type": "code",
   "execution_count": 458,
   "id": "bc46766e-8ec0-4a89-aa56-d36e3e1877f2",
   "metadata": {},
   "outputs": [],
   "source": [
    "#insight data is equally distributed"
   ]
  },
  {
   "cell_type": "markdown",
   "id": "d5d1ab6b-fa36-4d96-aa88-f85549da4de5",
   "metadata": {},
   "source": [
    "\u0014 How does the car price distribution change when considering different combinations of body style and\n",
    "transmission typeE"
   ]
  },
  {
   "cell_type": "code",
   "execution_count": 459,
   "id": "6cd33938-a638-4bb9-861a-ad04ba1ddd84",
   "metadata": {},
   "outputs": [
    {
     "data": {
      "text/plain": [
       "Car_id           object\n",
       "Date             object\n",
       "Customer Name    object\n",
       "Gender           object\n",
       "Annual Income     int64\n",
       "Dealer_Name      object\n",
       "Company          object\n",
       "Model            object\n",
       "Engine           object\n",
       "Transmission     object\n",
       "Color            object\n",
       "Price ($)         int64\n",
       "Dealer_No        object\n",
       "Body Style       object\n",
       "Phone             int64\n",
       "Dealer_Region    object\n",
       "dtype: object"
      ]
     },
     "execution_count": 459,
     "metadata": {},
     "output_type": "execute_result"
    }
   ],
   "source": [
    "df.dtypes"
   ]
  },
  {
   "cell_type": "code",
   "execution_count": 460,
   "id": "45484a1a-a484-4adc-bc4e-54762cdff34e",
   "metadata": {},
   "outputs": [],
   "source": [
    "groupby=df.groupby(\"Body Style\")[\"Price ($)\"]\n",
    "groupby1=df.groupby(\"Transmission\")[\"Price ($)\"]"
   ]
  },
  {
   "cell_type": "code",
   "execution_count": 461,
   "id": "60492e60-59a9-406f-a1ed-39ba6411365a",
   "metadata": {},
   "outputs": [
    {
     "data": {
      "text/plain": [
       "Transmission\n",
       "Auto      1.889819e+08\n",
       "Manual    2.516307e+08\n",
       "Name: Price ($), dtype: float64"
      ]
     },
     "execution_count": 461,
     "metadata": {},
     "output_type": "execute_result"
    }
   ],
   "source": [
    "groupby.var()\n",
    "groupby1.var()"
   ]
  },
  {
   "cell_type": "markdown",
   "id": "dcabddf5-4830-4d02-b9b1-27e35e9bc822",
   "metadata": {},
   "source": [
    "14What is the correlation between car price, engine size, and annual income of customers, and how do these\n",
    "features interact."
   ]
  },
  {
   "cell_type": "code",
   "execution_count": 462,
   "id": "f7e8a99d-5717-456d-9f55-271523f59bbe",
   "metadata": {},
   "outputs": [],
   "source": [
    "df2=df[[\"Price ($)\",\"Annual Income\"]]"
   ]
  },
  {
   "cell_type": "code",
   "execution_count": 463,
   "id": "d96d30e2-4257-4bb1-9f52-93e66040291d",
   "metadata": {},
   "outputs": [
    {
     "data": {
      "text/html": [
       "<div>\n",
       "<style scoped>\n",
       "    .dataframe tbody tr th:only-of-type {\n",
       "        vertical-align: middle;\n",
       "    }\n",
       "\n",
       "    .dataframe tbody tr th {\n",
       "        vertical-align: top;\n",
       "    }\n",
       "\n",
       "    .dataframe thead th {\n",
       "        text-align: right;\n",
       "    }\n",
       "</style>\n",
       "<table border=\"1\" class=\"dataframe\">\n",
       "  <thead>\n",
       "    <tr style=\"text-align: right;\">\n",
       "      <th></th>\n",
       "      <th>Price ($)</th>\n",
       "      <th>Annual Income</th>\n",
       "    </tr>\n",
       "  </thead>\n",
       "  <tbody>\n",
       "    <tr>\n",
       "      <th>0</th>\n",
       "      <td>26000</td>\n",
       "      <td>13500</td>\n",
       "    </tr>\n",
       "    <tr>\n",
       "      <th>1</th>\n",
       "      <td>19000</td>\n",
       "      <td>1480000</td>\n",
       "    </tr>\n",
       "    <tr>\n",
       "      <th>2</th>\n",
       "      <td>31500</td>\n",
       "      <td>1035000</td>\n",
       "    </tr>\n",
       "    <tr>\n",
       "      <th>3</th>\n",
       "      <td>14000</td>\n",
       "      <td>13500</td>\n",
       "    </tr>\n",
       "    <tr>\n",
       "      <th>4</th>\n",
       "      <td>24500</td>\n",
       "      <td>1465000</td>\n",
       "    </tr>\n",
       "    <tr>\n",
       "      <th>...</th>\n",
       "      <td>...</td>\n",
       "      <td>...</td>\n",
       "    </tr>\n",
       "    <tr>\n",
       "      <th>23901</th>\n",
       "      <td>12000</td>\n",
       "      <td>13500</td>\n",
       "    </tr>\n",
       "    <tr>\n",
       "      <th>23902</th>\n",
       "      <td>16000</td>\n",
       "      <td>900000</td>\n",
       "    </tr>\n",
       "    <tr>\n",
       "      <th>23903</th>\n",
       "      <td>21000</td>\n",
       "      <td>705000</td>\n",
       "    </tr>\n",
       "    <tr>\n",
       "      <th>23904</th>\n",
       "      <td>31000</td>\n",
       "      <td>13500</td>\n",
       "    </tr>\n",
       "    <tr>\n",
       "      <th>23905</th>\n",
       "      <td>27500</td>\n",
       "      <td>1225000</td>\n",
       "    </tr>\n",
       "  </tbody>\n",
       "</table>\n",
       "<p>23906 rows × 2 columns</p>\n",
       "</div>"
      ],
      "text/plain": [
       "       Price ($)  Annual Income\n",
       "0          26000          13500\n",
       "1          19000        1480000\n",
       "2          31500        1035000\n",
       "3          14000          13500\n",
       "4          24500        1465000\n",
       "...          ...            ...\n",
       "23901      12000          13500\n",
       "23902      16000         900000\n",
       "23903      21000         705000\n",
       "23904      31000          13500\n",
       "23905      27500        1225000\n",
       "\n",
       "[23906 rows x 2 columns]"
      ]
     },
     "execution_count": 463,
     "metadata": {},
     "output_type": "execute_result"
    }
   ],
   "source": [
    "df2"
   ]
  },
  {
   "cell_type": "code",
   "execution_count": 464,
   "id": "1994636c-0cae-4d7c-86d7-ff35e873cf18",
   "metadata": {},
   "outputs": [
    {
     "data": {
      "text/html": [
       "<div>\n",
       "<style scoped>\n",
       "    .dataframe tbody tr th:only-of-type {\n",
       "        vertical-align: middle;\n",
       "    }\n",
       "\n",
       "    .dataframe tbody tr th {\n",
       "        vertical-align: top;\n",
       "    }\n",
       "\n",
       "    .dataframe thead th {\n",
       "        text-align: right;\n",
       "    }\n",
       "</style>\n",
       "<table border=\"1\" class=\"dataframe\">\n",
       "  <thead>\n",
       "    <tr style=\"text-align: right;\">\n",
       "      <th></th>\n",
       "      <th>Price ($)</th>\n",
       "      <th>Annual Income</th>\n",
       "    </tr>\n",
       "  </thead>\n",
       "  <tbody>\n",
       "    <tr>\n",
       "      <th>Price ($)</th>\n",
       "      <td>1.000000</td>\n",
       "      <td>0.012065</td>\n",
       "    </tr>\n",
       "    <tr>\n",
       "      <th>Annual Income</th>\n",
       "      <td>0.012065</td>\n",
       "      <td>1.000000</td>\n",
       "    </tr>\n",
       "  </tbody>\n",
       "</table>\n",
       "</div>"
      ],
      "text/plain": [
       "               Price ($)  Annual Income\n",
       "Price ($)       1.000000       0.012065\n",
       "Annual Income   0.012065       1.000000"
      ]
     },
     "execution_count": 464,
     "metadata": {},
     "output_type": "execute_result"
    }
   ],
   "source": [
    "df2.corr()"
   ]
  },
  {
   "cell_type": "code",
   "execution_count": 465,
   "id": "5f3817fa-7fc6-4b26-9ae8-08b5da54510d",
   "metadata": {},
   "outputs": [],
   "source": [
    "#insight it is corelated by 0.012065"
   ]
  },
  {
   "cell_type": "markdown",
   "id": "83352e4e-b974-484b-a1ac-1484df54c951",
   "metadata": {},
   "source": [
    "15 How does the average car price vary across different car models and engine types?"
   ]
  },
  {
   "cell_type": "code",
   "execution_count": 466,
   "id": "f3ffaa86-e73f-4a03-8791-e66a01cdbdef",
   "metadata": {},
   "outputs": [],
   "source": [
    "groupby=df.groupby(\"Model\")[\"Price ($)\"]"
   ]
  },
  {
   "cell_type": "code",
   "execution_count": 467,
   "id": "2c154ce7-1282-410d-8f9d-778a14fe16a1",
   "metadata": {},
   "outputs": [
    {
     "data": {
      "text/plain": [
       "Model\n",
       "3-Sep       37986.380117\n",
       "3000GT      22282.250825\n",
       "300M        21394.888889\n",
       "323i        17355.634615\n",
       "328i        27821.359223\n",
       "                ...     \n",
       "Viper       30905.258333\n",
       "Voyager     31491.110497\n",
       "Windstar    23682.842975\n",
       "Wrangler    20134.548780\n",
       "Xterra      18901.076087\n",
       "Name: Price ($), Length: 154, dtype: float64"
      ]
     },
     "execution_count": 467,
     "metadata": {},
     "output_type": "execute_result"
    }
   ],
   "source": [
    "groupby.mean()"
   ]
  },
  {
   "cell_type": "code",
   "execution_count": 468,
   "id": "31be1812-9ee0-4fc1-8a7c-350f21b2ee3f",
   "metadata": {},
   "outputs": [],
   "source": [
    "groupby2=df.groupby(\"Engine\")[\"Price ($)\"]"
   ]
  },
  {
   "cell_type": "code",
   "execution_count": 469,
   "id": "756cade7-7407-4b7a-bbc5-c81aa91207c5",
   "metadata": {},
   "outputs": [
    {
     "data": {
      "text/plain": [
       "Engine\n",
       "DoubleÂ Overhead Camshaft    28248.525972\n",
       "Overhead Camshaft            27914.710631\n",
       "Name: Price ($), dtype: float64"
      ]
     },
     "execution_count": 469,
     "metadata": {},
     "output_type": "execute_result"
    }
   ],
   "source": [
    "groupby2.mean()"
   ]
  },
  {
   "cell_type": "code",
   "execution_count": 470,
   "id": "06ea304a-8a66-4b2e-9180-6c7d3d0f41d4",
   "metadata": {},
   "outputs": [],
   "source": [
    "####EDA"
   ]
  },
  {
   "cell_type": "markdown",
   "id": "ec5e183b-d123-4c89-9db4-ce62774e1941",
   "metadata": {},
   "source": [
    "###EDA 3"
   ]
  },
  {
   "cell_type": "code",
   "execution_count": 471,
   "id": "5fadb41e-db93-4eae-96d0-97d52eba68cf",
   "metadata": {},
   "outputs": [],
   "source": [
    "df=pd.read_csv(\"amazon.csv\")"
   ]
  },
  {
   "cell_type": "code",
   "execution_count": 472,
   "id": "d928194c-ffde-4a56-9871-0355764dbed4",
   "metadata": {},
   "outputs": [
    {
     "data": {
      "text/html": [
       "<div>\n",
       "<style scoped>\n",
       "    .dataframe tbody tr th:only-of-type {\n",
       "        vertical-align: middle;\n",
       "    }\n",
       "\n",
       "    .dataframe tbody tr th {\n",
       "        vertical-align: top;\n",
       "    }\n",
       "\n",
       "    .dataframe thead th {\n",
       "        text-align: right;\n",
       "    }\n",
       "</style>\n",
       "<table border=\"1\" class=\"dataframe\">\n",
       "  <thead>\n",
       "    <tr style=\"text-align: right;\">\n",
       "      <th></th>\n",
       "      <th>product_id</th>\n",
       "      <th>product_name</th>\n",
       "      <th>category</th>\n",
       "      <th>discounted_price</th>\n",
       "      <th>actual_price</th>\n",
       "      <th>discount_percentage</th>\n",
       "      <th>rating</th>\n",
       "      <th>rating_count</th>\n",
       "      <th>about_product</th>\n",
       "      <th>user_id</th>\n",
       "      <th>user_name</th>\n",
       "      <th>review_id</th>\n",
       "      <th>review_title</th>\n",
       "      <th>review_content</th>\n",
       "      <th>img_link</th>\n",
       "      <th>product_link</th>\n",
       "    </tr>\n",
       "  </thead>\n",
       "  <tbody>\n",
       "    <tr>\n",
       "      <th>133</th>\n",
       "      <td>B09X79PP8F</td>\n",
       "      <td>MI 2-in-1 USB Type C Cable (Micro USB to Type ...</td>\n",
       "      <td>Computers&amp;Accessories|Accessories&amp;Peripherals|...</td>\n",
       "      <td>₹179</td>\n",
       "      <td>₹299</td>\n",
       "      <td>40%</td>\n",
       "      <td>3.9</td>\n",
       "      <td>81</td>\n",
       "      <td>Fast Charging and Data Transfer|High Quality D...</td>\n",
       "      <td>AEDMOT4JJAD7UCEFLEA76Y526CGQ,AHEXPGZ2QS4MXA5LD...</td>\n",
       "      <td>Amazon Customer,Amrit V.,Mahender singh,pala p...</td>\n",
       "      <td>R3HWZS22FT40ZO,R2AEYDZRIEO82E,R8M1T6I3PDMWQ,R2...</td>\n",
       "      <td>Very useful,Good Product,Good,Very very short ...</td>\n",
       "      <td>The 2 in 1 charger is very much useful as ther...</td>\n",
       "      <td>https://m.media-amazon.com/images/I/21fnxCjCF1...</td>\n",
       "      <td>https://www.amazon.in/USB-Cable-Micro-Type-30c...</td>\n",
       "    </tr>\n",
       "    <tr>\n",
       "      <th>253</th>\n",
       "      <td>B08N1WL9XW</td>\n",
       "      <td>FLiX (Beetel) 3in1 (Type C|Micro|Iphone Lighte...</td>\n",
       "      <td>Computers&amp;Accessories|Accessories&amp;Peripherals|...</td>\n",
       "      <td>₹182</td>\n",
       "      <td>₹599</td>\n",
       "      <td>70%</td>\n",
       "      <td>4.0</td>\n",
       "      <td>9,378</td>\n",
       "      <td>Proudly Made In India|Blazing Charging - All c...</td>\n",
       "      <td>AHIKJUDTVJ4T6DV6IUGFYZ5LXMPA,AE55KTFVNXYFD5FPY...</td>\n",
       "      <td>$@|\\|TO$|-|,Sethu madhav,Akash Thakur,Burger P...</td>\n",
       "      <td>R3F4T5TRYPTMIG,R3DQIEC603E7AY,R1O4Z15FD40PV5,R...</td>\n",
       "      <td>Worked on iPhone 7 and didn’t work on XR,Good ...</td>\n",
       "      <td>Worked on iPhone 7 and didn’t work on iPhone X...</td>\n",
       "      <td>https://m.media-amazon.com/images/W/WEBP_40237...</td>\n",
       "      <td>https://www.amazon.in/FLiX-Textured-charging-L...</td>\n",
       "    </tr>\n",
       "  </tbody>\n",
       "</table>\n",
       "</div>"
      ],
      "text/plain": [
       "     product_id                                       product_name  \\\n",
       "133  B09X79PP8F  MI 2-in-1 USB Type C Cable (Micro USB to Type ...   \n",
       "253  B08N1WL9XW  FLiX (Beetel) 3in1 (Type C|Micro|Iphone Lighte...   \n",
       "\n",
       "                                              category discounted_price  \\\n",
       "133  Computers&Accessories|Accessories&Peripherals|...             ₹179   \n",
       "253  Computers&Accessories|Accessories&Peripherals|...             ₹182   \n",
       "\n",
       "    actual_price discount_percentage rating rating_count  \\\n",
       "133         ₹299                 40%    3.9           81   \n",
       "253         ₹599                 70%    4.0        9,378   \n",
       "\n",
       "                                         about_product  \\\n",
       "133  Fast Charging and Data Transfer|High Quality D...   \n",
       "253  Proudly Made In India|Blazing Charging - All c...   \n",
       "\n",
       "                                               user_id  \\\n",
       "133  AEDMOT4JJAD7UCEFLEA76Y526CGQ,AHEXPGZ2QS4MXA5LD...   \n",
       "253  AHIKJUDTVJ4T6DV6IUGFYZ5LXMPA,AE55KTFVNXYFD5FPY...   \n",
       "\n",
       "                                             user_name  \\\n",
       "133  Amazon Customer,Amrit V.,Mahender singh,pala p...   \n",
       "253  $@|\\|TO$|-|,Sethu madhav,Akash Thakur,Burger P...   \n",
       "\n",
       "                                             review_id  \\\n",
       "133  R3HWZS22FT40ZO,R2AEYDZRIEO82E,R8M1T6I3PDMWQ,R2...   \n",
       "253  R3F4T5TRYPTMIG,R3DQIEC603E7AY,R1O4Z15FD40PV5,R...   \n",
       "\n",
       "                                          review_title  \\\n",
       "133  Very useful,Good Product,Good,Very very short ...   \n",
       "253  Worked on iPhone 7 and didn’t work on XR,Good ...   \n",
       "\n",
       "                                        review_content  \\\n",
       "133  The 2 in 1 charger is very much useful as ther...   \n",
       "253  Worked on iPhone 7 and didn’t work on iPhone X...   \n",
       "\n",
       "                                              img_link  \\\n",
       "133  https://m.media-amazon.com/images/I/21fnxCjCF1...   \n",
       "253  https://m.media-amazon.com/images/W/WEBP_40237...   \n",
       "\n",
       "                                          product_link  \n",
       "133  https://www.amazon.in/USB-Cable-Micro-Type-30c...  \n",
       "253  https://www.amazon.in/FLiX-Textured-charging-L...  "
      ]
     },
     "execution_count": 472,
     "metadata": {},
     "output_type": "execute_result"
    }
   ],
   "source": [
    "df.sample(2)"
   ]
  },
  {
   "cell_type": "code",
   "execution_count": 473,
   "id": "16d65a56-7ece-4113-a1ba-5e8c9f6a68dd",
   "metadata": {},
   "outputs": [
    {
     "data": {
      "text/plain": [
       "product_id             object\n",
       "product_name           object\n",
       "category               object\n",
       "discounted_price       object\n",
       "actual_price           object\n",
       "discount_percentage    object\n",
       "rating                 object\n",
       "rating_count           object\n",
       "about_product          object\n",
       "user_id                object\n",
       "user_name              object\n",
       "review_id              object\n",
       "review_title           object\n",
       "review_content         object\n",
       "img_link               object\n",
       "product_link           object\n",
       "dtype: object"
      ]
     },
     "execution_count": 473,
     "metadata": {},
     "output_type": "execute_result"
    }
   ],
   "source": [
    "df.dtypes"
   ]
  },
  {
   "cell_type": "markdown",
   "id": "8d8b230a-d9b4-4dfa-ba93-f1406fbeca90",
   "metadata": {},
   "source": [
    "1.What is the average rating for each product category."
   ]
  },
  {
   "cell_type": "code",
   "execution_count": 474,
   "id": "99dce7b0-5271-434e-84e4-937261755861",
   "metadata": {},
   "outputs": [
    {
     "data": {
      "text/html": [
       "<div>\n",
       "<style scoped>\n",
       "    .dataframe tbody tr th:only-of-type {\n",
       "        vertical-align: middle;\n",
       "    }\n",
       "\n",
       "    .dataframe tbody tr th {\n",
       "        vertical-align: top;\n",
       "    }\n",
       "\n",
       "    .dataframe thead th {\n",
       "        text-align: right;\n",
       "    }\n",
       "</style>\n",
       "<table border=\"1\" class=\"dataframe\">\n",
       "  <thead>\n",
       "    <tr style=\"text-align: right;\">\n",
       "      <th></th>\n",
       "      <th>product_id</th>\n",
       "      <th>product_name</th>\n",
       "      <th>category</th>\n",
       "      <th>discounted_price</th>\n",
       "      <th>actual_price</th>\n",
       "      <th>discount_percentage</th>\n",
       "      <th>rating</th>\n",
       "      <th>rating_count</th>\n",
       "      <th>about_product</th>\n",
       "      <th>user_id</th>\n",
       "      <th>user_name</th>\n",
       "      <th>review_id</th>\n",
       "      <th>review_title</th>\n",
       "      <th>review_content</th>\n",
       "      <th>img_link</th>\n",
       "      <th>product_link</th>\n",
       "    </tr>\n",
       "  </thead>\n",
       "  <tbody>\n",
       "    <tr>\n",
       "      <th>1279</th>\n",
       "      <td>B08L12N5H1</td>\n",
       "      <td>Eureka Forbes car Vac 100 Watts Powerful Sucti...</td>\n",
       "      <td>Home&amp;Kitchen|Kitchen&amp;HomeAppliances|Vacuum,Cle...</td>\n",
       "      <td>₹2,099</td>\n",
       "      <td>₹2,499</td>\n",
       "      <td>16%</td>\n",
       "      <td>|</td>\n",
       "      <td>992</td>\n",
       "      <td>No Installation is provided for this product|1...</td>\n",
       "      <td>AGTDSNT2FKVYEPDPXAA673AIS44A,AER2XFSWNN4LAUCJ5...</td>\n",
       "      <td>Divya,Dr Nefario,Deekshith,Preeti,Prasanth R,P...</td>\n",
       "      <td>R2KKTKM4M9RDVJ,R1O692MZOBTE79,R2WRSEWL56SOS4,R...</td>\n",
       "      <td>Decent product,doesn't pick up sand,Ok ok,Must...</td>\n",
       "      <td>Does the job well,doesn't work on sand. though...</td>\n",
       "      <td>https://m.media-amazon.com/images/W/WEBP_40237...</td>\n",
       "      <td>https://www.amazon.in/Eureka-Forbes-Vacuum-Cle...</td>\n",
       "    </tr>\n",
       "  </tbody>\n",
       "</table>\n",
       "</div>"
      ],
      "text/plain": [
       "      product_id                                       product_name  \\\n",
       "1279  B08L12N5H1  Eureka Forbes car Vac 100 Watts Powerful Sucti...   \n",
       "\n",
       "                                               category discounted_price  \\\n",
       "1279  Home&Kitchen|Kitchen&HomeAppliances|Vacuum,Cle...           ₹2,099   \n",
       "\n",
       "     actual_price discount_percentage rating rating_count  \\\n",
       "1279       ₹2,499                 16%      |          992   \n",
       "\n",
       "                                          about_product  \\\n",
       "1279  No Installation is provided for this product|1...   \n",
       "\n",
       "                                                user_id  \\\n",
       "1279  AGTDSNT2FKVYEPDPXAA673AIS44A,AER2XFSWNN4LAUCJ5...   \n",
       "\n",
       "                                              user_name  \\\n",
       "1279  Divya,Dr Nefario,Deekshith,Preeti,Prasanth R,P...   \n",
       "\n",
       "                                              review_id  \\\n",
       "1279  R2KKTKM4M9RDVJ,R1O692MZOBTE79,R2WRSEWL56SOS4,R...   \n",
       "\n",
       "                                           review_title  \\\n",
       "1279  Decent product,doesn't pick up sand,Ok ok,Must...   \n",
       "\n",
       "                                         review_content  \\\n",
       "1279  Does the job well,doesn't work on sand. though...   \n",
       "\n",
       "                                               img_link  \\\n",
       "1279  https://m.media-amazon.com/images/W/WEBP_40237...   \n",
       "\n",
       "                                           product_link  \n",
       "1279  https://www.amazon.in/Eureka-Forbes-Vacuum-Cle...  "
      ]
     },
     "execution_count": 474,
     "metadata": {},
     "output_type": "execute_result"
    }
   ],
   "source": [
    "df[df[\"rating\"]==\"|\"]"
   ]
  },
  {
   "cell_type": "code",
   "execution_count": 475,
   "id": "543efe1b-467b-403a-affa-10b8b1faf9ee",
   "metadata": {},
   "outputs": [],
   "source": [
    "df=df.drop(df.index[1279])"
   ]
  },
  {
   "cell_type": "code",
   "execution_count": 476,
   "id": "86f5cca7-2f77-46de-b148-b9496f95e985",
   "metadata": {},
   "outputs": [
    {
     "data": {
      "text/plain": [
       "array(['4.2', '4.0', '3.9', '4.1', '4.3', '4.4', '4.5', '3.7', '3.3',\n",
       "       '3.6', '3.4', '3.8', '3.5', '4.6', '3.2', '5.0', '4.7', '3.0',\n",
       "       '2.8', '4', '3.1', '4.8', '2.3', '2', '3', '2.6', '2.9'],\n",
       "      dtype=object)"
      ]
     },
     "execution_count": 476,
     "metadata": {},
     "output_type": "execute_result"
    }
   ],
   "source": [
    "df[\"rating\"].unique()"
   ]
  },
  {
   "cell_type": "code",
   "execution_count": 477,
   "id": "6363cf40-904e-4b65-9644-1630fe1876ee",
   "metadata": {},
   "outputs": [
    {
     "data": {
      "text/plain": [
       "product_id              object\n",
       "product_name            object\n",
       "category                object\n",
       "discounted_price        object\n",
       "actual_price            object\n",
       "discount_percentage     object\n",
       "rating                 float64\n",
       "rating_count            object\n",
       "about_product           object\n",
       "user_id                 object\n",
       "user_name               object\n",
       "review_id               object\n",
       "review_title            object\n",
       "review_content          object\n",
       "img_link                object\n",
       "product_link            object\n",
       "dtype: object"
      ]
     },
     "execution_count": 477,
     "metadata": {},
     "output_type": "execute_result"
    }
   ],
   "source": [
    "df[\"rating\"]=df[\"rating\"].astype(float)\n",
    "df.dtypes"
   ]
  },
  {
   "cell_type": "code",
   "execution_count": 478,
   "id": "f9619cd6-074f-4875-b1ad-116813c96a1e",
   "metadata": {},
   "outputs": [
    {
     "data": {
      "text/plain": [
       "category\n",
       "Car&Motorbike|CarAccessories|InteriorAccessories|AirPurifiers&Ionizers                                                    3.800000\n",
       "Computers&Accessories|Accessories&Peripherals|Adapters|USBtoUSBAdapters                                                   4.150000\n",
       "Computers&Accessories|Accessories&Peripherals|Audio&VideoAccessories|PCHeadsets                                           3.500000\n",
       "Computers&Accessories|Accessories&Peripherals|Audio&VideoAccessories|PCMicrophones                                        3.600000\n",
       "Computers&Accessories|Accessories&Peripherals|Audio&VideoAccessories|PCSpeakers                                           4.050000\n",
       "                                                                                                                            ...   \n",
       "OfficeProducts|OfficePaperProducts|Paper|Stationery|Pens,Pencils&WritingSupplies|Pens&Refills|GelInkRollerballPens        4.250000\n",
       "OfficeProducts|OfficePaperProducts|Paper|Stationery|Pens,Pencils&WritingSupplies|Pens&Refills|LiquidInkRollerballPens     4.150000\n",
       "OfficeProducts|OfficePaperProducts|Paper|Stationery|Pens,Pencils&WritingSupplies|Pens&Refills|RetractableBallpointPens    4.300000\n",
       "OfficeProducts|OfficePaperProducts|Paper|Stationery|Pens,Pencils&WritingSupplies|Pens&Refills|StickBallpointPens          4.133333\n",
       "Toys&Games|Arts&Crafts|Drawing&PaintingSupplies|ColouringPens&Markers                                                     4.300000\n",
       "Name: rating, Length: 211, dtype: float64"
      ]
     },
     "execution_count": 478,
     "metadata": {},
     "output_type": "execute_result"
    }
   ],
   "source": [
    "df.groupby(\"category\")[\"rating\"].mean()"
   ]
  },
  {
   "cell_type": "markdown",
   "id": "2c034a0a-f34d-4655-8a4c-e5e8f5a75457",
   "metadata": {},
   "source": [
    "2 What are the top rating_count products by category."
   ]
  },
  {
   "cell_type": "code",
   "execution_count": 479,
   "id": "08901993-8645-45a6-be55-b3a99009668b",
   "metadata": {},
   "outputs": [
    {
     "data": {
      "text/plain": [
       "0       24,269\n",
       "1       43,994\n",
       "2        7,928\n",
       "3       94,363\n",
       "4       16,905\n",
       "         ...  \n",
       "1460     1,090\n",
       "1461     4,118\n",
       "1462       468\n",
       "1463     8,031\n",
       "1464     6,987\n",
       "Name: rating_count, Length: 1464, dtype: object"
      ]
     },
     "execution_count": 479,
     "metadata": {},
     "output_type": "execute_result"
    }
   ],
   "source": [
    "df[\"rating_count\"]"
   ]
  },
  {
   "cell_type": "code",
   "execution_count": null,
   "id": "2e912b39-8958-4e1f-a4b3-11b430e1102c",
   "metadata": {},
   "outputs": [],
   "source": []
  },
  {
   "cell_type": "code",
   "execution_count": 480,
   "id": "645aa277-f32f-4aef-82da-3edd660193d9",
   "metadata": {},
   "outputs": [
    {
     "data": {
      "text/html": [
       "<div>\n",
       "<style scoped>\n",
       "    .dataframe tbody tr th:only-of-type {\n",
       "        vertical-align: middle;\n",
       "    }\n",
       "\n",
       "    .dataframe tbody tr th {\n",
       "        vertical-align: top;\n",
       "    }\n",
       "\n",
       "    .dataframe thead th {\n",
       "        text-align: right;\n",
       "    }\n",
       "</style>\n",
       "<table border=\"1\" class=\"dataframe\">\n",
       "  <thead>\n",
       "    <tr style=\"text-align: right;\">\n",
       "      <th></th>\n",
       "      <th>count</th>\n",
       "      <th>unique</th>\n",
       "      <th>top</th>\n",
       "      <th>freq</th>\n",
       "    </tr>\n",
       "    <tr>\n",
       "      <th>category</th>\n",
       "      <th></th>\n",
       "      <th></th>\n",
       "      <th></th>\n",
       "      <th></th>\n",
       "    </tr>\n",
       "  </thead>\n",
       "  <tbody>\n",
       "    <tr>\n",
       "      <th>Car&amp;Motorbike|CarAccessories|InteriorAccessories|AirPurifiers&amp;Ionizers</th>\n",
       "      <td>1</td>\n",
       "      <td>1</td>\n",
       "      <td>1118</td>\n",
       "      <td>1</td>\n",
       "    </tr>\n",
       "    <tr>\n",
       "      <th>Computers&amp;Accessories|Accessories&amp;Peripherals|Adapters|USBtoUSBAdapters</th>\n",
       "      <td>2</td>\n",
       "      <td>2</td>\n",
       "      <td>4426</td>\n",
       "      <td>1</td>\n",
       "    </tr>\n",
       "    <tr>\n",
       "      <th>Computers&amp;Accessories|Accessories&amp;Peripherals|Audio&amp;VideoAccessories|PCHeadsets</th>\n",
       "      <td>1</td>\n",
       "      <td>1</td>\n",
       "      <td>7222</td>\n",
       "      <td>1</td>\n",
       "    </tr>\n",
       "    <tr>\n",
       "      <th>Computers&amp;Accessories|Accessories&amp;Peripherals|Audio&amp;VideoAccessories|PCMicrophones</th>\n",
       "      <td>2</td>\n",
       "      <td>2</td>\n",
       "      <td>14969</td>\n",
       "      <td>1</td>\n",
       "    </tr>\n",
       "    <tr>\n",
       "      <th>Computers&amp;Accessories|Accessories&amp;Peripherals|Audio&amp;VideoAccessories|PCSpeakers</th>\n",
       "      <td>2</td>\n",
       "      <td>2</td>\n",
       "      <td>7352</td>\n",
       "      <td>1</td>\n",
       "    </tr>\n",
       "    <tr>\n",
       "      <th>...</th>\n",
       "      <td>...</td>\n",
       "      <td>...</td>\n",
       "      <td>...</td>\n",
       "      <td>...</td>\n",
       "    </tr>\n",
       "    <tr>\n",
       "      <th>OfficeProducts|OfficePaperProducts|Paper|Stationery|Pens,Pencils&amp;WritingSupplies|Pens&amp;Refills|GelInkRollerballPens</th>\n",
       "      <td>2</td>\n",
       "      <td>2</td>\n",
       "      <td>5792</td>\n",
       "      <td>1</td>\n",
       "    </tr>\n",
       "    <tr>\n",
       "      <th>OfficeProducts|OfficePaperProducts|Paper|Stationery|Pens,Pencils&amp;WritingSupplies|Pens&amp;Refills|LiquidInkRollerballPens</th>\n",
       "      <td>2</td>\n",
       "      <td>2</td>\n",
       "      <td>6199</td>\n",
       "      <td>1</td>\n",
       "    </tr>\n",
       "    <tr>\n",
       "      <th>OfficeProducts|OfficePaperProducts|Paper|Stationery|Pens,Pencils&amp;WritingSupplies|Pens&amp;Refills|RetractableBallpointPens</th>\n",
       "      <td>2</td>\n",
       "      <td>2</td>\n",
       "      <td>5719</td>\n",
       "      <td>1</td>\n",
       "    </tr>\n",
       "    <tr>\n",
       "      <th>OfficeProducts|OfficePaperProducts|Paper|Stationery|Pens,Pencils&amp;WritingSupplies|Pens&amp;Refills|StickBallpointPens</th>\n",
       "      <td>3</td>\n",
       "      <td>3</td>\n",
       "      <td>4308</td>\n",
       "      <td>1</td>\n",
       "    </tr>\n",
       "    <tr>\n",
       "      <th>Toys&amp;Games|Arts&amp;Crafts|Drawing&amp;PaintingSupplies|ColouringPens&amp;Markers</th>\n",
       "      <td>1</td>\n",
       "      <td>1</td>\n",
       "      <td>15867</td>\n",
       "      <td>1</td>\n",
       "    </tr>\n",
       "  </tbody>\n",
       "</table>\n",
       "<p>211 rows × 4 columns</p>\n",
       "</div>"
      ],
      "text/plain": [
       "                                                   count unique    top freq\n",
       "category                                                                   \n",
       "Car&Motorbike|CarAccessories|InteriorAccessorie...     1      1   1118    1\n",
       "Computers&Accessories|Accessories&Peripherals|A...     2      2   4426    1\n",
       "Computers&Accessories|Accessories&Peripherals|A...     1      1   7222    1\n",
       "Computers&Accessories|Accessories&Peripherals|A...     2      2  14969    1\n",
       "Computers&Accessories|Accessories&Peripherals|A...     2      2   7352    1\n",
       "...                                                  ...    ...    ...  ...\n",
       "OfficeProducts|OfficePaperProducts|Paper|Statio...     2      2   5792    1\n",
       "OfficeProducts|OfficePaperProducts|Paper|Statio...     2      2   6199    1\n",
       "OfficeProducts|OfficePaperProducts|Paper|Statio...     2      2   5719    1\n",
       "OfficeProducts|OfficePaperProducts|Paper|Statio...     3      3   4308    1\n",
       "Toys&Games|Arts&Crafts|Drawing&PaintingSupplies...     1      1  15867    1\n",
       "\n",
       "[211 rows x 4 columns]"
      ]
     },
     "execution_count": 480,
     "metadata": {},
     "output_type": "execute_result"
    }
   ],
   "source": [
    "df[\"rating_count\"]=df[\"rating_count\"].str.replace(\",\",\"\")\n",
    "groupby=df.groupby(\"category\")[\"rating_count\"]\n",
    "groupby.describe()"
   ]
  },
  {
   "cell_type": "markdown",
   "id": "3d7086d3-abe4-4535-8c71-8cda012bacf2",
   "metadata": {},
   "source": [
    "3.\u0004' What is the distribution of discounted prices vs. actual prices."
   ]
  },
  {
   "cell_type": "code",
   "execution_count": 481,
   "id": "93bd932b-7b5e-4c8d-b1d5-9b5cfaeab5be",
   "metadata": {},
   "outputs": [
    {
     "data": {
      "image/png": "[encoded data removed]",
      "text/plain": [
       "<Figure size 1200x500 with 1 Axes>"
      ]
     },
     "metadata": {},
     "output_type": "display_data"
    }
   ],
   "source": [
    "plt.figure(figsize=(12,5))\n",
    "plt.hist(df[\"discounted_price\"])\n",
    "plt.xlabel(\"discounted price\")\n",
    "plt.ylabel(\"frequency\")\n",
    "plt.show()"
   ]
  },
  {
   "cell_type": "code",
   "execution_count": 482,
   "id": "f15e9587-61f7-4274-948e-fe80fdae19b9",
   "metadata": {},
   "outputs": [],
   "source": [
    "#actual price distribution"
   ]
  },
  {
   "cell_type": "code",
   "execution_count": 483,
   "id": "5fca6f26-488a-4fb6-82d5-ee7a243574c0",
   "metadata": {},
   "outputs": [
    {
     "data": {
      "text/plain": [
       "Text(0, 0.5, 'frequency')"
      ]
     },
     "execution_count": 483,
     "metadata": {},
     "output_type": "execute_result"
    },
    {
     "data": {
      "image/png": "[encoded data removed]",
      "text/plain": [
       "<Figure size 640x480 with 1 Axes>"
      ]
     },
     "metadata": {},
     "output_type": "display_data"
    }
   ],
   "source": [
    "plt.figure()\n",
    "plt.hist(df[\"actual_price\"])\n",
    "plt.xlabel(\"actual price\")\n",
    "plt.ylabel(\"frequency\")"
   ]
  },
  {
   "cell_type": "markdown",
   "id": "768014cb-29b5-48a9-9073-ffd414f3b9c4",
   "metadata": {},
   "source": [
    "4.How does the average discount percentage vary across categoriesk"
   ]
  },
  {
   "cell_type": "code",
   "execution_count": 484,
   "id": "b5663a09-9415-4d6f-a655-50dc068d5959",
   "metadata": {},
   "outputs": [
    {
     "data": {
      "text/plain": [
       "product_id              object\n",
       "product_name            object\n",
       "category                object\n",
       "discounted_price        object\n",
       "actual_price            object\n",
       "discount_percentage     object\n",
       "rating                 float64\n",
       "rating_count            object\n",
       "about_product           object\n",
       "user_id                 object\n",
       "user_name               object\n",
       "review_id               object\n",
       "review_title            object\n",
       "review_content          object\n",
       "img_link                object\n",
       "product_link            object\n",
       "dtype: object"
      ]
     },
     "execution_count": 484,
     "metadata": {},
     "output_type": "execute_result"
    }
   ],
   "source": [
    "df[\"discount_percentage\"].dtype\n",
    "df.dtypes"
   ]
  },
  {
   "cell_type": "code",
   "execution_count": 485,
   "id": "2ff303b7-0934-4697-9de1-cd6d42c046c1",
   "metadata": {},
   "outputs": [
    {
     "ename": "TypeError",
     "evalue": "agg function failed [how->var,dtype->object]",
     "output_type": "error",
     "traceback": [
      "\u001b[1;31m---------------------------------------------------------------------------\u001b[0m",
      "\u001b[1;31mValueError\u001b[0m                                Traceback (most recent call last)",
      "File \u001b[1;32mC:\\ProgramData\\anaconda3\\Lib\\site-packages\\pandas\\core\\nanops.py:85\u001b[0m, in \u001b[0;36mdisallow.__call__.<locals>._f\u001b[1;34m(*args, **kwargs)\u001b[0m\n\u001b[0;32m     84\u001b[0m \u001b[38;5;28;01mtry\u001b[39;00m:\n\u001b[1;32m---> 85\u001b[0m     \u001b[38;5;28;01mreturn\u001b[39;00m f(\u001b[38;5;241m*\u001b[39margs, \u001b[38;5;241m*\u001b[39m\u001b[38;5;241m*\u001b[39mkwargs)\n\u001b[0;32m     86\u001b[0m \u001b[38;5;28;01mexcept\u001b[39;00m \u001b[38;5;167;01mValueError\u001b[39;00m \u001b[38;5;28;01mas\u001b[39;00m e:\n\u001b[0;32m     87\u001b[0m     \u001b[38;5;66;03m# we want to transform an object array\u001b[39;00m\n\u001b[0;32m     88\u001b[0m     \u001b[38;5;66;03m# ValueError message to the more typical TypeError\u001b[39;00m\n\u001b[0;32m     89\u001b[0m     \u001b[38;5;66;03m# e.g. this is normally a disallowed function on\u001b[39;00m\n\u001b[0;32m     90\u001b[0m     \u001b[38;5;66;03m# object arrays that contain strings\u001b[39;00m\n",
      "File \u001b[1;32mC:\\ProgramData\\anaconda3\\Lib\\site-packages\\pandas\\core\\nanops.py:147\u001b[0m, in \u001b[0;36mbottleneck_switch.__call__.<locals>.f\u001b[1;34m(values, axis, skipna, **kwds)\u001b[0m\n\u001b[0;32m    146\u001b[0m \u001b[38;5;28;01melse\u001b[39;00m:\n\u001b[1;32m--> 147\u001b[0m     result \u001b[38;5;241m=\u001b[39m alt(values, axis\u001b[38;5;241m=\u001b[39maxis, skipna\u001b[38;5;241m=\u001b[39mskipna, \u001b[38;5;241m*\u001b[39m\u001b[38;5;241m*\u001b[39mkwds)\n\u001b[0;32m    149\u001b[0m \u001b[38;5;28;01mreturn\u001b[39;00m result\n",
      "File \u001b[1;32mC:\\ProgramData\\anaconda3\\Lib\\site-packages\\pandas\\core\\nanops.py:1013\u001b[0m, in \u001b[0;36mnanvar\u001b[1;34m(values, axis, skipna, ddof, mask)\u001b[0m\n\u001b[0;32m   1007\u001b[0m \u001b[38;5;66;03m# xref GH10242\u001b[39;00m\n\u001b[0;32m   1008\u001b[0m \u001b[38;5;66;03m# Compute variance via two-pass algorithm, which is stable against\u001b[39;00m\n\u001b[0;32m   1009\u001b[0m \u001b[38;5;66;03m# cancellation errors and relatively accurate for small numbers of\u001b[39;00m\n\u001b[0;32m   1010\u001b[0m \u001b[38;5;66;03m# observations.\u001b[39;00m\n\u001b[0;32m   1011\u001b[0m \u001b[38;5;66;03m#\u001b[39;00m\n\u001b[0;32m   1012\u001b[0m \u001b[38;5;66;03m# See https://en.wikipedia.org/wiki/Algorithms_for_calculating_variance\u001b[39;00m\n\u001b[1;32m-> 1013\u001b[0m avg \u001b[38;5;241m=\u001b[39m _ensure_numeric(values\u001b[38;5;241m.\u001b[39msum(axis\u001b[38;5;241m=\u001b[39maxis, dtype\u001b[38;5;241m=\u001b[39mnp\u001b[38;5;241m.\u001b[39mfloat64)) \u001b[38;5;241m/\u001b[39m count\n\u001b[0;32m   1014\u001b[0m \u001b[38;5;28;01mif\u001b[39;00m axis \u001b[38;5;129;01mis\u001b[39;00m \u001b[38;5;129;01mnot\u001b[39;00m \u001b[38;5;28;01mNone\u001b[39;00m:\n",
      "File \u001b[1;32mC:\\ProgramData\\anaconda3\\Lib\\site-packages\\numpy\\core\\_methods.py:49\u001b[0m, in \u001b[0;36m_sum\u001b[1;34m(a, axis, dtype, out, keepdims, initial, where)\u001b[0m\n\u001b[0;32m     47\u001b[0m \u001b[38;5;28;01mdef\u001b[39;00m \u001b[38;5;21m_sum\u001b[39m(a, axis\u001b[38;5;241m=\u001b[39m\u001b[38;5;28;01mNone\u001b[39;00m, dtype\u001b[38;5;241m=\u001b[39m\u001b[38;5;28;01mNone\u001b[39;00m, out\u001b[38;5;241m=\u001b[39m\u001b[38;5;28;01mNone\u001b[39;00m, keepdims\u001b[38;5;241m=\u001b[39m\u001b[38;5;28;01mFalse\u001b[39;00m,\n\u001b[0;32m     48\u001b[0m          initial\u001b[38;5;241m=\u001b[39m_NoValue, where\u001b[38;5;241m=\u001b[39m\u001b[38;5;28;01mTrue\u001b[39;00m):\n\u001b[1;32m---> 49\u001b[0m     \u001b[38;5;28;01mreturn\u001b[39;00m umr_sum(a, axis, dtype, out, keepdims, initial, where)\n",
      "\u001b[1;31mValueError\u001b[0m: could not convert string to float: '42%'",
      "\nThe above exception was the direct cause of the following exception:\n",
      "\u001b[1;31mTypeError\u001b[0m                                 Traceback (most recent call last)",
      "File \u001b[1;32mC:\\ProgramData\\anaconda3\\Lib\\site-packages\\pandas\\core\\groupby\\groupby.py:1942\u001b[0m, in \u001b[0;36mGroupBy._agg_py_fallback\u001b[1;34m(self, how, values, ndim, alt)\u001b[0m\n\u001b[0;32m   1941\u001b[0m \u001b[38;5;28;01mtry\u001b[39;00m:\n\u001b[1;32m-> 1942\u001b[0m     res_values \u001b[38;5;241m=\u001b[39m \u001b[38;5;28mself\u001b[39m\u001b[38;5;241m.\u001b[39m_grouper\u001b[38;5;241m.\u001b[39magg_series(ser, alt, preserve_dtype\u001b[38;5;241m=\u001b[39m\u001b[38;5;28;01mTrue\u001b[39;00m)\n\u001b[0;32m   1943\u001b[0m \u001b[38;5;28;01mexcept\u001b[39;00m \u001b[38;5;167;01mException\u001b[39;00m \u001b[38;5;28;01mas\u001b[39;00m err:\n",
      "File \u001b[1;32mC:\\ProgramData\\anaconda3\\Lib\\site-packages\\pandas\\core\\groupby\\ops.py:864\u001b[0m, in \u001b[0;36mBaseGrouper.agg_series\u001b[1;34m(self, obj, func, preserve_dtype)\u001b[0m\n\u001b[0;32m    862\u001b[0m     preserve_dtype \u001b[38;5;241m=\u001b[39m \u001b[38;5;28;01mTrue\u001b[39;00m\n\u001b[1;32m--> 864\u001b[0m result \u001b[38;5;241m=\u001b[39m \u001b[38;5;28mself\u001b[39m\u001b[38;5;241m.\u001b[39m_aggregate_series_pure_python(obj, func)\n\u001b[0;32m    866\u001b[0m npvalues \u001b[38;5;241m=\u001b[39m lib\u001b[38;5;241m.\u001b[39mmaybe_convert_objects(result, try_float\u001b[38;5;241m=\u001b[39m\u001b[38;5;28;01mFalse\u001b[39;00m)\n",
      "File \u001b[1;32mC:\\ProgramData\\anaconda3\\Lib\\site-packages\\pandas\\core\\groupby\\ops.py:885\u001b[0m, in \u001b[0;36mBaseGrouper._aggregate_series_pure_python\u001b[1;34m(self, obj, func)\u001b[0m\n\u001b[0;32m    884\u001b[0m \u001b[38;5;28;01mfor\u001b[39;00m i, group \u001b[38;5;129;01min\u001b[39;00m \u001b[38;5;28menumerate\u001b[39m(splitter):\n\u001b[1;32m--> 885\u001b[0m     res \u001b[38;5;241m=\u001b[39m func(group)\n\u001b[0;32m    886\u001b[0m     res \u001b[38;5;241m=\u001b[39m extract_result(res)\n",
      "File \u001b[1;32mC:\\ProgramData\\anaconda3\\Lib\\site-packages\\pandas\\core\\groupby\\groupby.py:2750\u001b[0m, in \u001b[0;36mGroupBy.var.<locals>.<lambda>\u001b[1;34m(x)\u001b[0m\n\u001b[0;32m   2747\u001b[0m \u001b[38;5;28;01melse\u001b[39;00m:\n\u001b[0;32m   2748\u001b[0m     \u001b[38;5;28;01mreturn\u001b[39;00m \u001b[38;5;28mself\u001b[39m\u001b[38;5;241m.\u001b[39m_cython_agg_general(\n\u001b[0;32m   2749\u001b[0m         \u001b[38;5;124m\"\u001b[39m\u001b[38;5;124mvar\u001b[39m\u001b[38;5;124m\"\u001b[39m,\n\u001b[1;32m-> 2750\u001b[0m         alt\u001b[38;5;241m=\u001b[39m\u001b[38;5;28;01mlambda\u001b[39;00m x: Series(x, copy\u001b[38;5;241m=\u001b[39m\u001b[38;5;28;01mFalse\u001b[39;00m)\u001b[38;5;241m.\u001b[39mvar(ddof\u001b[38;5;241m=\u001b[39mddof),\n\u001b[0;32m   2751\u001b[0m         numeric_only\u001b[38;5;241m=\u001b[39mnumeric_only,\n\u001b[0;32m   2752\u001b[0m         ddof\u001b[38;5;241m=\u001b[39mddof,\n\u001b[0;32m   2753\u001b[0m     )\n",
      "File \u001b[1;32mC:\\ProgramData\\anaconda3\\Lib\\site-packages\\pandas\\core\\series.py:6581\u001b[0m, in \u001b[0;36mSeries.var\u001b[1;34m(self, axis, skipna, ddof, numeric_only, **kwargs)\u001b[0m\n\u001b[0;32m   6572\u001b[0m \u001b[38;5;129m@doc\u001b[39m(make_doc(\u001b[38;5;124m\"\u001b[39m\u001b[38;5;124mvar\u001b[39m\u001b[38;5;124m\"\u001b[39m, ndim\u001b[38;5;241m=\u001b[39m\u001b[38;5;241m1\u001b[39m))\n\u001b[0;32m   6573\u001b[0m \u001b[38;5;28;01mdef\u001b[39;00m \u001b[38;5;21mvar\u001b[39m(\n\u001b[0;32m   6574\u001b[0m     \u001b[38;5;28mself\u001b[39m,\n\u001b[1;32m   (...)\u001b[0m\n\u001b[0;32m   6579\u001b[0m     \u001b[38;5;241m*\u001b[39m\u001b[38;5;241m*\u001b[39mkwargs,\n\u001b[0;32m   6580\u001b[0m ):\n\u001b[1;32m-> 6581\u001b[0m     \u001b[38;5;28;01mreturn\u001b[39;00m NDFrame\u001b[38;5;241m.\u001b[39mvar(\u001b[38;5;28mself\u001b[39m, axis, skipna, ddof, numeric_only, \u001b[38;5;241m*\u001b[39m\u001b[38;5;241m*\u001b[39mkwargs)\n",
      "File \u001b[1;32mC:\\ProgramData\\anaconda3\\Lib\\site-packages\\pandas\\core\\generic.py:12346\u001b[0m, in \u001b[0;36mNDFrame.var\u001b[1;34m(self, axis, skipna, ddof, numeric_only, **kwargs)\u001b[0m\n\u001b[0;32m  12338\u001b[0m \u001b[38;5;28;01mdef\u001b[39;00m \u001b[38;5;21mvar\u001b[39m(\n\u001b[0;32m  12339\u001b[0m     \u001b[38;5;28mself\u001b[39m,\n\u001b[0;32m  12340\u001b[0m     axis: Axis \u001b[38;5;241m|\u001b[39m \u001b[38;5;28;01mNone\u001b[39;00m \u001b[38;5;241m=\u001b[39m \u001b[38;5;241m0\u001b[39m,\n\u001b[1;32m   (...)\u001b[0m\n\u001b[0;32m  12344\u001b[0m     \u001b[38;5;241m*\u001b[39m\u001b[38;5;241m*\u001b[39mkwargs,\n\u001b[0;32m  12345\u001b[0m ) \u001b[38;5;241m-\u001b[39m\u001b[38;5;241m>\u001b[39m Series \u001b[38;5;241m|\u001b[39m \u001b[38;5;28mfloat\u001b[39m:\n\u001b[1;32m> 12346\u001b[0m     \u001b[38;5;28;01mreturn\u001b[39;00m \u001b[38;5;28mself\u001b[39m\u001b[38;5;241m.\u001b[39m_stat_function_ddof(\n\u001b[0;32m  12347\u001b[0m         \u001b[38;5;124m\"\u001b[39m\u001b[38;5;124mvar\u001b[39m\u001b[38;5;124m\"\u001b[39m, nanops\u001b[38;5;241m.\u001b[39mnanvar, axis, skipna, ddof, numeric_only, \u001b[38;5;241m*\u001b[39m\u001b[38;5;241m*\u001b[39mkwargs\n\u001b[0;32m  12348\u001b[0m     )\n",
      "File \u001b[1;32mC:\\ProgramData\\anaconda3\\Lib\\site-packages\\pandas\\core\\generic.py:12322\u001b[0m, in \u001b[0;36mNDFrame._stat_function_ddof\u001b[1;34m(self, name, func, axis, skipna, ddof, numeric_only, **kwargs)\u001b[0m\n\u001b[0;32m  12320\u001b[0m     axis \u001b[38;5;241m=\u001b[39m \u001b[38;5;241m0\u001b[39m\n\u001b[1;32m> 12322\u001b[0m \u001b[38;5;28;01mreturn\u001b[39;00m \u001b[38;5;28mself\u001b[39m\u001b[38;5;241m.\u001b[39m_reduce(\n\u001b[0;32m  12323\u001b[0m     func, name, axis\u001b[38;5;241m=\u001b[39maxis, numeric_only\u001b[38;5;241m=\u001b[39mnumeric_only, skipna\u001b[38;5;241m=\u001b[39mskipna, ddof\u001b[38;5;241m=\u001b[39mddof\n\u001b[0;32m  12324\u001b[0m )\n",
      "File \u001b[1;32mC:\\ProgramData\\anaconda3\\Lib\\site-packages\\pandas\\core\\series.py:6457\u001b[0m, in \u001b[0;36mSeries._reduce\u001b[1;34m(self, op, name, axis, skipna, numeric_only, filter_type, **kwds)\u001b[0m\n\u001b[0;32m   6453\u001b[0m     \u001b[38;5;28;01mraise\u001b[39;00m \u001b[38;5;167;01mTypeError\u001b[39;00m(\n\u001b[0;32m   6454\u001b[0m         \u001b[38;5;124mf\u001b[39m\u001b[38;5;124m\"\u001b[39m\u001b[38;5;124mSeries.\u001b[39m\u001b[38;5;132;01m{\u001b[39;00mname\u001b[38;5;132;01m}\u001b[39;00m\u001b[38;5;124m does not allow \u001b[39m\u001b[38;5;132;01m{\u001b[39;00mkwd_name\u001b[38;5;132;01m}\u001b[39;00m\u001b[38;5;124m=\u001b[39m\u001b[38;5;132;01m{\u001b[39;00mnumeric_only\u001b[38;5;132;01m}\u001b[39;00m\u001b[38;5;124m \u001b[39m\u001b[38;5;124m\"\u001b[39m\n\u001b[0;32m   6455\u001b[0m         \u001b[38;5;124m\"\u001b[39m\u001b[38;5;124mwith non-numeric dtypes.\u001b[39m\u001b[38;5;124m\"\u001b[39m\n\u001b[0;32m   6456\u001b[0m     )\n\u001b[1;32m-> 6457\u001b[0m \u001b[38;5;28;01mreturn\u001b[39;00m op(delegate, skipna\u001b[38;5;241m=\u001b[39mskipna, \u001b[38;5;241m*\u001b[39m\u001b[38;5;241m*\u001b[39mkwds)\n",
      "File \u001b[1;32mC:\\ProgramData\\anaconda3\\Lib\\site-packages\\pandas\\core\\nanops.py:92\u001b[0m, in \u001b[0;36mdisallow.__call__.<locals>._f\u001b[1;34m(*args, **kwargs)\u001b[0m\n\u001b[0;32m     91\u001b[0m \u001b[38;5;28;01mif\u001b[39;00m is_object_dtype(args[\u001b[38;5;241m0\u001b[39m]):\n\u001b[1;32m---> 92\u001b[0m     \u001b[38;5;28;01mraise\u001b[39;00m \u001b[38;5;167;01mTypeError\u001b[39;00m(e) \u001b[38;5;28;01mfrom\u001b[39;00m \u001b[38;5;21;01me\u001b[39;00m\n\u001b[0;32m     93\u001b[0m \u001b[38;5;28;01mraise\u001b[39;00m\n",
      "\u001b[1;31mTypeError\u001b[0m: could not convert string to float: '42%'",
      "\nThe above exception was the direct cause of the following exception:\n",
      "\u001b[1;31mTypeError\u001b[0m                                 Traceback (most recent call last)",
      "Cell \u001b[1;32mIn[485], line 1\u001b[0m\n\u001b[1;32m----> 1\u001b[0m df\u001b[38;5;241m.\u001b[39mgroupby(\u001b[38;5;124m\"\u001b[39m\u001b[38;5;124mcategory\u001b[39m\u001b[38;5;124m\"\u001b[39m)[\u001b[38;5;124m\"\u001b[39m\u001b[38;5;124mdiscount_percentage\u001b[39m\u001b[38;5;124m\"\u001b[39m]\u001b[38;5;241m.\u001b[39mvar()\n",
      "File \u001b[1;32mC:\\ProgramData\\anaconda3\\Lib\\site-packages\\pandas\\core\\groupby\\groupby.py:2748\u001b[0m, in \u001b[0;36mGroupBy.var\u001b[1;34m(self, ddof, engine, engine_kwargs, numeric_only)\u001b[0m\n\u001b[0;32m   2740\u001b[0m     \u001b[38;5;28;01mreturn\u001b[39;00m \u001b[38;5;28mself\u001b[39m\u001b[38;5;241m.\u001b[39m_numba_agg_general(\n\u001b[0;32m   2741\u001b[0m         grouped_var,\n\u001b[0;32m   2742\u001b[0m         executor\u001b[38;5;241m.\u001b[39mfloat_dtype_mapping,\n\u001b[1;32m   (...)\u001b[0m\n\u001b[0;32m   2745\u001b[0m         ddof\u001b[38;5;241m=\u001b[39mddof,\n\u001b[0;32m   2746\u001b[0m     )\n\u001b[0;32m   2747\u001b[0m \u001b[38;5;28;01melse\u001b[39;00m:\n\u001b[1;32m-> 2748\u001b[0m     \u001b[38;5;28;01mreturn\u001b[39;00m \u001b[38;5;28mself\u001b[39m\u001b[38;5;241m.\u001b[39m_cython_agg_general(\n\u001b[0;32m   2749\u001b[0m         \u001b[38;5;124m\"\u001b[39m\u001b[38;5;124mvar\u001b[39m\u001b[38;5;124m\"\u001b[39m,\n\u001b[0;32m   2750\u001b[0m         alt\u001b[38;5;241m=\u001b[39m\u001b[38;5;28;01mlambda\u001b[39;00m x: Series(x, copy\u001b[38;5;241m=\u001b[39m\u001b[38;5;28;01mFalse\u001b[39;00m)\u001b[38;5;241m.\u001b[39mvar(ddof\u001b[38;5;241m=\u001b[39mddof),\n\u001b[0;32m   2751\u001b[0m         numeric_only\u001b[38;5;241m=\u001b[39mnumeric_only,\n\u001b[0;32m   2752\u001b[0m         ddof\u001b[38;5;241m=\u001b[39mddof,\n\u001b[0;32m   2753\u001b[0m     )\n",
      "File \u001b[1;32mC:\\ProgramData\\anaconda3\\Lib\\site-packages\\pandas\\core\\groupby\\groupby.py:1998\u001b[0m, in \u001b[0;36mGroupBy._cython_agg_general\u001b[1;34m(self, how, alt, numeric_only, min_count, **kwargs)\u001b[0m\n\u001b[0;32m   1995\u001b[0m     result \u001b[38;5;241m=\u001b[39m \u001b[38;5;28mself\u001b[39m\u001b[38;5;241m.\u001b[39m_agg_py_fallback(how, values, ndim\u001b[38;5;241m=\u001b[39mdata\u001b[38;5;241m.\u001b[39mndim, alt\u001b[38;5;241m=\u001b[39malt)\n\u001b[0;32m   1996\u001b[0m     \u001b[38;5;28;01mreturn\u001b[39;00m result\n\u001b[1;32m-> 1998\u001b[0m new_mgr \u001b[38;5;241m=\u001b[39m data\u001b[38;5;241m.\u001b[39mgrouped_reduce(array_func)\n\u001b[0;32m   1999\u001b[0m res \u001b[38;5;241m=\u001b[39m \u001b[38;5;28mself\u001b[39m\u001b[38;5;241m.\u001b[39m_wrap_agged_manager(new_mgr)\n\u001b[0;32m   2000\u001b[0m \u001b[38;5;28;01mif\u001b[39;00m how \u001b[38;5;129;01min\u001b[39;00m [\u001b[38;5;124m\"\u001b[39m\u001b[38;5;124midxmin\u001b[39m\u001b[38;5;124m\"\u001b[39m, \u001b[38;5;124m\"\u001b[39m\u001b[38;5;124midxmax\u001b[39m\u001b[38;5;124m\"\u001b[39m]:\n",
      "File \u001b[1;32mC:\\ProgramData\\anaconda3\\Lib\\site-packages\\pandas\\core\\internals\\base.py:367\u001b[0m, in \u001b[0;36mSingleDataManager.grouped_reduce\u001b[1;34m(self, func)\u001b[0m\n\u001b[0;32m    365\u001b[0m \u001b[38;5;28;01mdef\u001b[39;00m \u001b[38;5;21mgrouped_reduce\u001b[39m(\u001b[38;5;28mself\u001b[39m, func):\n\u001b[0;32m    366\u001b[0m     arr \u001b[38;5;241m=\u001b[39m \u001b[38;5;28mself\u001b[39m\u001b[38;5;241m.\u001b[39marray\n\u001b[1;32m--> 367\u001b[0m     res \u001b[38;5;241m=\u001b[39m func(arr)\n\u001b[0;32m    368\u001b[0m     index \u001b[38;5;241m=\u001b[39m default_index(\u001b[38;5;28mlen\u001b[39m(res))\n\u001b[0;32m    370\u001b[0m     mgr \u001b[38;5;241m=\u001b[39m \u001b[38;5;28mtype\u001b[39m(\u001b[38;5;28mself\u001b[39m)\u001b[38;5;241m.\u001b[39mfrom_array(res, index)\n",
      "File \u001b[1;32mC:\\ProgramData\\anaconda3\\Lib\\site-packages\\pandas\\core\\groupby\\groupby.py:1995\u001b[0m, in \u001b[0;36mGroupBy._cython_agg_general.<locals>.array_func\u001b[1;34m(values)\u001b[0m\n\u001b[0;32m   1992\u001b[0m     \u001b[38;5;28;01mreturn\u001b[39;00m result\n\u001b[0;32m   1994\u001b[0m \u001b[38;5;28;01massert\u001b[39;00m alt \u001b[38;5;129;01mis\u001b[39;00m \u001b[38;5;129;01mnot\u001b[39;00m \u001b[38;5;28;01mNone\u001b[39;00m\n\u001b[1;32m-> 1995\u001b[0m result \u001b[38;5;241m=\u001b[39m \u001b[38;5;28mself\u001b[39m\u001b[38;5;241m.\u001b[39m_agg_py_fallback(how, values, ndim\u001b[38;5;241m=\u001b[39mdata\u001b[38;5;241m.\u001b[39mndim, alt\u001b[38;5;241m=\u001b[39malt)\n\u001b[0;32m   1996\u001b[0m \u001b[38;5;28;01mreturn\u001b[39;00m result\n",
      "File \u001b[1;32mC:\\ProgramData\\anaconda3\\Lib\\site-packages\\pandas\\core\\groupby\\groupby.py:1946\u001b[0m, in \u001b[0;36mGroupBy._agg_py_fallback\u001b[1;34m(self, how, values, ndim, alt)\u001b[0m\n\u001b[0;32m   1944\u001b[0m     msg \u001b[38;5;241m=\u001b[39m \u001b[38;5;124mf\u001b[39m\u001b[38;5;124m\"\u001b[39m\u001b[38;5;124magg function failed [how->\u001b[39m\u001b[38;5;132;01m{\u001b[39;00mhow\u001b[38;5;132;01m}\u001b[39;00m\u001b[38;5;124m,dtype->\u001b[39m\u001b[38;5;132;01m{\u001b[39;00mser\u001b[38;5;241m.\u001b[39mdtype\u001b[38;5;132;01m}\u001b[39;00m\u001b[38;5;124m]\u001b[39m\u001b[38;5;124m\"\u001b[39m\n\u001b[0;32m   1945\u001b[0m     \u001b[38;5;66;03m# preserve the kind of exception that raised\u001b[39;00m\n\u001b[1;32m-> 1946\u001b[0m     \u001b[38;5;28;01mraise\u001b[39;00m \u001b[38;5;28mtype\u001b[39m(err)(msg) \u001b[38;5;28;01mfrom\u001b[39;00m \u001b[38;5;21;01merr\u001b[39;00m\n\u001b[0;32m   1948\u001b[0m \u001b[38;5;28;01mif\u001b[39;00m ser\u001b[38;5;241m.\u001b[39mdtype \u001b[38;5;241m==\u001b[39m \u001b[38;5;28mobject\u001b[39m:\n\u001b[0;32m   1949\u001b[0m     res_values \u001b[38;5;241m=\u001b[39m res_values\u001b[38;5;241m.\u001b[39mastype(\u001b[38;5;28mobject\u001b[39m, copy\u001b[38;5;241m=\u001b[39m\u001b[38;5;28;01mFalse\u001b[39;00m)\n",
      "\u001b[1;31mTypeError\u001b[0m: agg function failed [how->var,dtype->object]"
     ]
    }
   ],
   "source": [
    "df.groupby(\"category\")[\"discount_percentage\"].var()"
   ]
  },
  {
   "cell_type": "markdown",
   "id": "f211b948-2fb5-4e0f-bf11-506c86f05e94",
   "metadata": {},
   "source": [
    "5' What are the most popular product namesk"
   ]
  },
  {
   "cell_type": "code",
   "execution_count": null,
   "id": "500d6a08-0c38-4ef9-91f9-a1457316f866",
   "metadata": {},
   "outputs": [],
   "source": [
    "groupby=df.groupby(\"product_name\")"
   ]
  },
  {
   "cell_type": "code",
   "execution_count": null,
   "id": "0e5e2133-3a8d-4b71-af7f-b8f30d72a7a8",
   "metadata": {},
   "outputs": [],
   "source": [
    "groupby.count()"
   ]
  },
  {
   "cell_type": "markdown",
   "id": "db1e38b0-2aff-4a13-a8d4-3ee96a76a45e",
   "metadata": {},
   "source": [
    "6 What are the most popular product keywords."
   ]
  },
  {
   "cell_type": "code",
   "execution_count": null,
   "id": "953004f9-7cec-4032-8e18-466bc8c2c1d7",
   "metadata": {},
   "outputs": [],
   "source": [
    "df.dtypes"
   ]
  },
  {
   "cell_type": "code",
   "execution_count": null,
   "id": "93c66ab2-6abf-4462-87b3-31dc15b28639",
   "metadata": {},
   "outputs": [],
   "source": []
  },
  {
   "cell_type": "code",
   "execution_count": null,
   "id": "efdad102-1bbe-43e4-8157-ff680c8a154c",
   "metadata": {},
   "outputs": [],
   "source": []
  },
  {
   "cell_type": "code",
   "execution_count": null,
   "id": "13293050-3a92-4ddf-9e17-3f3e2e737b76",
   "metadata": {},
   "outputs": [],
   "source": []
  },
  {
   "cell_type": "markdown",
   "id": "d001204e-36b7-43b6-80bc-c78dfcd5bb78",
   "metadata": {},
   "source": [
    "7What are the most popular product reviews."
   ]
  },
  {
   "cell_type": "code",
   "execution_count": null,
   "id": "6f195b21-89b4-41e3-9ba9-6ecc56c57527",
   "metadata": {},
   "outputs": [],
   "source": [
    "groupby=df.groupby(\"review_id\")"
   ]
  },
  {
   "cell_type": "code",
   "execution_count": null,
   "id": "8ce661ef-12cc-4aab-a8b7-5b23d02b8773",
   "metadata": {},
   "outputs": [],
   "source": [
    "groupby.max()"
   ]
  },
  {
   "cell_type": "code",
   "execution_count": null,
   "id": "fcb7162f-b920-4f5e-ac81-7238110603fd",
   "metadata": {},
   "outputs": [],
   "source": [
    "#above are most popular review id"
   ]
  },
  {
   "cell_type": "markdown",
   "id": "14899d10-f7fd-48c3-8031-76b605c55a0e",
   "metadata": {},
   "source": [
    "8 What is the correlation between discounted_price and ratingk"
   ]
  },
  {
   "cell_type": "code",
   "execution_count": null,
   "id": "53fc8053-5cf4-49f8-9d35-fdbe5e405b04",
   "metadata": {},
   "outputs": [],
   "source": [
    "df[\"discounted_price\"]=df[\"discounted_price\"].str.replace(\"₹\",\"\").str.replace(\",\",\"\")\n",
    "#df[\"discounted_price\"]=df[\"discounted_price\"].astype(float)"
   ]
  },
  {
   "cell_type": "code",
   "execution_count": null,
   "id": "dc6fc886-d38d-4004-b755-5575a1540c50",
   "metadata": {},
   "outputs": [],
   "source": [
    "df[\"discounted_price\"]=df[\"discounted_price\"].astype(float)"
   ]
  },
  {
   "cell_type": "code",
   "execution_count": null,
   "id": "3e97fa81-f903-4c22-9923-f709de9f1f35",
   "metadata": {},
   "outputs": [],
   "source": [
    "df1=df[[\"discounted_price\",\"rating\"]]"
   ]
  },
  {
   "cell_type": "code",
   "execution_count": null,
   "id": "cd057dfb-d5ad-431f-8d44-e36b2a492f4f",
   "metadata": {},
   "outputs": [],
   "source": [
    "df1.corr()"
   ]
  },
  {
   "cell_type": "markdown",
   "id": "184c13bd-330a-4496-abc0-9d8664b61c95",
   "metadata": {},
   "source": [
    "9What are the Top 5 categories based on the highest ratingsk"
   ]
  },
  {
   "cell_type": "code",
   "execution_count": null,
   "id": "fa7666f9-3c0a-4982-8fea-51ef30831c68",
   "metadata": {},
   "outputs": [],
   "source": [
    "df.groupby(\"category\")[\"rating\"].count().tail(5)"
   ]
  },
  {
   "cell_type": "code",
   "execution_count": null,
   "id": "a34b9f30-cc4c-42c7-859a-588780dcd368",
   "metadata": {},
   "outputs": [],
   "source": []
  },
  {
   "cell_type": "markdown",
   "id": "392c3d7f-7236-4dee-9482-15cb3167f0d7",
   "metadata": {},
   "source": [
    "10.Identify any potential areas for improvement or optimization based on the data analysis."
   ]
  },
  {
   "cell_type": "code",
   "execution_count": null,
   "id": "99ca4c10-a0cd-4281-9f06-3128d617a949",
   "metadata": {},
   "outputs": [],
   "source": [
    "#data is uniformly distributed "
   ]
  },
  {
   "cell_type": "markdown",
   "id": "297a8456-35b1-409f-929a-3bee9cc95d06",
   "metadata": {},
   "source": [
    "##EDA4"
   ]
  },
  {
   "cell_type": "code",
   "execution_count": 487,
   "id": "f973b2e1-41af-4398-99ba-e5d952969a04",
   "metadata": {},
   "outputs": [],
   "source": [
    "df=pd.read_csv(\"spotify.csv\")"
   ]
  },
  {
   "cell_type": "code",
   "execution_count": 488,
   "id": "170c8362-82c7-4bcc-bfd9-984102059a36",
   "metadata": {},
   "outputs": [
    {
     "data": {
      "text/html": [
       "<div>\n",
       "<style scoped>\n",
       "    .dataframe tbody tr th:only-of-type {\n",
       "        vertical-align: middle;\n",
       "    }\n",
       "\n",
       "    .dataframe tbody tr th {\n",
       "        vertical-align: top;\n",
       "    }\n",
       "\n",
       "    .dataframe thead th {\n",
       "        text-align: right;\n",
       "    }\n",
       "</style>\n",
       "<table border=\"1\" class=\"dataframe\">\n",
       "  <thead>\n",
       "    <tr style=\"text-align: right;\">\n",
       "      <th></th>\n",
       "      <th>Artist</th>\n",
       "      <th>Track Name</th>\n",
       "      <th>Popularity</th>\n",
       "      <th>Duration (ms)</th>\n",
       "      <th>Track ID</th>\n",
       "    </tr>\n",
       "  </thead>\n",
       "  <tbody>\n",
       "    <tr>\n",
       "      <th>0</th>\n",
       "      <td>Drake</td>\n",
       "      <td>Rich Baby Daddy (feat. Sexyy Red &amp; SZA)</td>\n",
       "      <td>92</td>\n",
       "      <td>319191</td>\n",
       "      <td>1yeB8MUNeLo9Ek1UEpsyz6</td>\n",
       "    </tr>\n",
       "    <tr>\n",
       "      <th>1</th>\n",
       "      <td>Drake</td>\n",
       "      <td>One Dance</td>\n",
       "      <td>91</td>\n",
       "      <td>173986</td>\n",
       "      <td>1zi7xx7UVEFkmKfv06H8x0</td>\n",
       "    </tr>\n",
       "    <tr>\n",
       "      <th>2</th>\n",
       "      <td>Drake</td>\n",
       "      <td>IDGAF (feat. Yeat)</td>\n",
       "      <td>90</td>\n",
       "      <td>260111</td>\n",
       "      <td>2YSzYUF3jWqb9YP9VXmpjE</td>\n",
       "    </tr>\n",
       "    <tr>\n",
       "      <th>3</th>\n",
       "      <td>Drake</td>\n",
       "      <td>First Person Shooter (feat. J. Cole)</td>\n",
       "      <td>88</td>\n",
       "      <td>247444</td>\n",
       "      <td>7aqfrAY2p9BUSiupwk3svU</td>\n",
       "    </tr>\n",
       "    <tr>\n",
       "      <th>4</th>\n",
       "      <td>Drake</td>\n",
       "      <td>Jimmy Cooks (feat. 21 Savage)</td>\n",
       "      <td>88</td>\n",
       "      <td>218364</td>\n",
       "      <td>3F5CgOj3wFlRv51JsHbxhe</td>\n",
       "    </tr>\n",
       "    <tr>\n",
       "      <th>...</th>\n",
       "      <td>...</td>\n",
       "      <td>...</td>\n",
       "      <td>...</td>\n",
       "      <td>...</td>\n",
       "      <td>...</td>\n",
       "    </tr>\n",
       "    <tr>\n",
       "      <th>435</th>\n",
       "      <td>French Montana</td>\n",
       "      <td>Splash Brothers</td>\n",
       "      <td>44</td>\n",
       "      <td>221863</td>\n",
       "      <td>3fBsEOnzwtlkpS0LxXAZhN</td>\n",
       "    </tr>\n",
       "    <tr>\n",
       "      <th>436</th>\n",
       "      <td>Fat Joe</td>\n",
       "      <td>All The Way Up (feat. Infared)</td>\n",
       "      <td>64</td>\n",
       "      <td>191900</td>\n",
       "      <td>7Ezwtgfw7khBrpvaNPtMoT</td>\n",
       "    </tr>\n",
       "    <tr>\n",
       "      <th>437</th>\n",
       "      <td>A$AP Ferg</td>\n",
       "      <td>Work REMIX (feat. A$AP Rocky, French Montana, ...</td>\n",
       "      <td>69</td>\n",
       "      <td>283693</td>\n",
       "      <td>7xVLFuuYdAvcTfcP3IG3dS</td>\n",
       "    </tr>\n",
       "    <tr>\n",
       "      <th>438</th>\n",
       "      <td>Diddy</td>\n",
       "      <td>Another One Of Me (feat. 21 Savage)</td>\n",
       "      <td>65</td>\n",
       "      <td>220408</td>\n",
       "      <td>4hGmQboiou09EwhcTWa0H6</td>\n",
       "    </tr>\n",
       "    <tr>\n",
       "      <th>439</th>\n",
       "      <td>Rick Ross</td>\n",
       "      <td>Stay Schemin</td>\n",
       "      <td>68</td>\n",
       "      <td>267720</td>\n",
       "      <td>0nq6sfr8z1R5KJ4XUk396e</td>\n",
       "    </tr>\n",
       "  </tbody>\n",
       "</table>\n",
       "<p>440 rows × 5 columns</p>\n",
       "</div>"
      ],
      "text/plain": [
       "             Artist                                         Track Name  \\\n",
       "0             Drake            Rich Baby Daddy (feat. Sexyy Red & SZA)   \n",
       "1             Drake                                          One Dance   \n",
       "2             Drake                                 IDGAF (feat. Yeat)   \n",
       "3             Drake               First Person Shooter (feat. J. Cole)   \n",
       "4             Drake                      Jimmy Cooks (feat. 21 Savage)   \n",
       "..              ...                                                ...   \n",
       "435  French Montana                                    Splash Brothers   \n",
       "436         Fat Joe                     All The Way Up (feat. Infared)   \n",
       "437       A$AP Ferg  Work REMIX (feat. A$AP Rocky, French Montana, ...   \n",
       "438           Diddy                Another One Of Me (feat. 21 Savage)   \n",
       "439       Rick Ross                                       Stay Schemin   \n",
       "\n",
       "     Popularity  Duration (ms)                Track ID  \n",
       "0            92         319191  1yeB8MUNeLo9Ek1UEpsyz6  \n",
       "1            91         173986  1zi7xx7UVEFkmKfv06H8x0  \n",
       "2            90         260111  2YSzYUF3jWqb9YP9VXmpjE  \n",
       "3            88         247444  7aqfrAY2p9BUSiupwk3svU  \n",
       "4            88         218364  3F5CgOj3wFlRv51JsHbxhe  \n",
       "..          ...            ...                     ...  \n",
       "435          44         221863  3fBsEOnzwtlkpS0LxXAZhN  \n",
       "436          64         191900  7Ezwtgfw7khBrpvaNPtMoT  \n",
       "437          69         283693  7xVLFuuYdAvcTfcP3IG3dS  \n",
       "438          65         220408  4hGmQboiou09EwhcTWa0H6  \n",
       "439          68         267720  0nq6sfr8z1R5KJ4XUk396e  \n",
       "\n",
       "[440 rows x 5 columns]"
      ]
     },
     "execution_count": 488,
     "metadata": {},
     "output_type": "execute_result"
    }
   ],
   "source": [
    "df"
   ]
  },
  {
   "cell_type": "markdown",
   "id": "9952e4fe-ea3d-4f99-9956-a9b0b6107abb",
   "metadata": {},
   "source": [
    " 1.Read the dataframe, check null value if present then do the needful, check duplicate row , if present then do\n",
    "the needful."
   ]
  },
  {
   "cell_type": "code",
   "execution_count": 489,
   "id": "be8fc739-d120-40c2-9aa5-bc2b7ad1247f",
   "metadata": {},
   "outputs": [
    {
     "name": "stdout",
     "output_type": "stream",
     "text": [
      "<class 'pandas.core.frame.DataFrame'>\n",
      "RangeIndex: 440 entries, 0 to 439\n",
      "Data columns (total 5 columns):\n",
      " #   Column         Non-Null Count  Dtype \n",
      "---  ------         --------------  ----- \n",
      " 0   Artist         440 non-null    object\n",
      " 1   Track Name     440 non-null    object\n",
      " 2   Popularity     440 non-null    int64 \n",
      " 3   Duration (ms)  440 non-null    int64 \n",
      " 4   Track ID       440 non-null    object\n",
      "dtypes: int64(2), object(3)\n",
      "memory usage: 17.3+ KB\n"
     ]
    }
   ],
   "source": [
    "df.info()"
   ]
  },
  {
   "cell_type": "code",
   "execution_count": 491,
   "id": "792f21f6-00f9-462f-a796-09287f71cfc2",
   "metadata": {},
   "outputs": [
    {
     "data": {
      "text/plain": [
       "Artist           0\n",
       "Track Name       0\n",
       "Popularity       0\n",
       "Duration (ms)    0\n",
       "Track ID         0\n",
       "dtype: int64"
      ]
     },
     "execution_count": 491,
     "metadata": {},
     "output_type": "execute_result"
    }
   ],
   "source": [
    "df.isnull().sum()"
   ]
  },
  {
   "cell_type": "code",
   "execution_count": 493,
   "id": "a068f1e6-f903-4186-a1bf-b4f32a9a9e32",
   "metadata": {},
   "outputs": [
    {
     "data": {
      "text/plain": [
       "27"
      ]
     },
     "execution_count": 493,
     "metadata": {},
     "output_type": "execute_result"
    }
   ],
   "source": [
    "df.duplicated().sum()"
   ]
  },
  {
   "cell_type": "code",
   "execution_count": 494,
   "id": "2e634504-3b99-4b2a-9c2b-d70bc461c009",
   "metadata": {},
   "outputs": [
    {
     "data": {
      "text/plain": [
       "(440, 5)"
      ]
     },
     "execution_count": 494,
     "metadata": {},
     "output_type": "execute_result"
    }
   ],
   "source": [
    "df.shape"
   ]
  },
  {
   "cell_type": "code",
   "execution_count": 497,
   "id": "e95a0c4c-d4e4-4a1b-be7c-fc54c60e94b3",
   "metadata": {},
   "outputs": [],
   "source": [
    "df=df.drop_duplicates()"
   ]
  },
  {
   "cell_type": "code",
   "execution_count": 498,
   "id": "e56f6fa0-8f36-4ffc-b114-9b210f4e6580",
   "metadata": {},
   "outputs": [
    {
     "data": {
      "text/plain": [
       "(413, 5)"
      ]
     },
     "execution_count": 498,
     "metadata": {},
     "output_type": "execute_result"
    }
   ],
   "source": [
    "df.shape"
   ]
  },
  {
   "cell_type": "markdown",
   "id": "c3c0dde2-7fbc-47d8-8ed7-fbaee6a7635a",
   "metadata": {},
   "source": [
    "2What is the distribution of popularity among the tracks in the dataset? Visualize it using a histogram"
   ]
  },
  {
   "cell_type": "code",
   "execution_count": 499,
   "id": "de7b0cca-e147-4832-af5e-fc5c3ae72e32",
   "metadata": {},
   "outputs": [
    {
     "data": {
      "text/plain": [
       "Artist           object\n",
       "Track Name       object\n",
       "Popularity        int64\n",
       "Duration (ms)     int64\n",
       "Track ID         object\n",
       "dtype: object"
      ]
     },
     "execution_count": 499,
     "metadata": {},
     "output_type": "execute_result"
    }
   ],
   "source": [
    "df.dtypes"
   ]
  },
  {
   "cell_type": "code",
   "execution_count": 501,
   "id": "3732d108-d64a-4759-b681-e178751ffa06",
   "metadata": {},
   "outputs": [
    {
     "data": {
      "text/plain": [
       "Text(0.5, 1.0, 'MUSIC')"
      ]
     },
     "execution_count": 501,
     "metadata": {},
     "output_type": "execute_result"
    },
    {
     "data": {
      "image/png": "[encoded data removed]",
      "text/plain": [
       "<Figure size 640x480 with 1 Axes>"
      ]
     },
     "metadata": {},
     "output_type": "display_data"
    }
   ],
   "source": [
    "plt.hist(df[\"Popularity\"])\n",
    "plt.xlabel(\"popularity\")\n",
    "plt.ylabel(\"frequency\")\n",
    "plt.title(\"MUSIC\")"
   ]
  },
  {
   "cell_type": "markdown",
   "id": "5b02ce8b-0131-4ca7-929c-8488b873e8b8",
   "metadata": {},
   "source": [
    "37 Is there any relationship between the popularity and the duration of tracks? Explore this using a scatter plot."
   ]
  },
  {
   "cell_type": "code",
   "execution_count": 504,
   "id": "80e16a25-6ba9-4cd4-83c0-353e3b36d516",
   "metadata": {},
   "outputs": [
    {
     "data": {
      "text/html": [
       "<div>\n",
       "<style scoped>\n",
       "    .dataframe tbody tr th:only-of-type {\n",
       "        vertical-align: middle;\n",
       "    }\n",
       "\n",
       "    .dataframe tbody tr th {\n",
       "        vertical-align: top;\n",
       "    }\n",
       "\n",
       "    .dataframe thead th {\n",
       "        text-align: right;\n",
       "    }\n",
       "</style>\n",
       "<table border=\"1\" class=\"dataframe\">\n",
       "  <thead>\n",
       "    <tr style=\"text-align: right;\">\n",
       "      <th></th>\n",
       "      <th>Artist</th>\n",
       "      <th>Track Name</th>\n",
       "      <th>Popularity</th>\n",
       "      <th>Duration (ms)</th>\n",
       "      <th>Track ID</th>\n",
       "    </tr>\n",
       "  </thead>\n",
       "  <tbody>\n",
       "    <tr>\n",
       "      <th>193</th>\n",
       "      <td>Quevedo</td>\n",
       "      <td>PUNTO G</td>\n",
       "      <td>82</td>\n",
       "      <td>151324</td>\n",
       "      <td>4WiQA1AGWHFvaxBU6bHghs</td>\n",
       "    </tr>\n",
       "  </tbody>\n",
       "</table>\n",
       "</div>"
      ],
      "text/plain": [
       "      Artist Track Name  Popularity  Duration (ms)                Track ID\n",
       "193  Quevedo    PUNTO G          82         151324  4WiQA1AGWHFvaxBU6bHghs"
      ]
     },
     "execution_count": 504,
     "metadata": {},
     "output_type": "execute_result"
    }
   ],
   "source": [
    "df.sample()"
   ]
  },
  {
   "cell_type": "code",
   "execution_count": 509,
   "id": "e42e0971-e678-423d-b639-b457833382ea",
   "metadata": {},
   "outputs": [
    {
     "data": {
      "text/plain": [
       "<matplotlib.collections.PathCollection at 0x25c39d85a90>"
      ]
     },
     "execution_count": 509,
     "metadata": {},
     "output_type": "execute_result"
    },
    {
     "data": {
      "image/png": "[encoded data removed]",
      "text/plain": [
       "<Figure size 640x480 with 1 Axes>"
      ]
     },
     "metadata": {},
     "output_type": "display_data"
    }
   ],
   "source": [
    "df[\"Duration (ms)\"],df[\"Popularity\"]\n",
    "plt.scatter(df[\"Popularity\"],df[\"Duration (ms)\"])"
   ]
  },
  {
   "cell_type": "code",
   "execution_count": 510,
   "id": "76eeb7a6-a025-40cb-8b4a-470dfa244d24",
   "metadata": {},
   "outputs": [],
   "source": [
    "#insight>>maximum data lies in range of 75 to 85"
   ]
  },
  {
   "cell_type": "markdown",
   "id": "66ad015a-f89d-40c5-9dce-0e2abdc61351",
   "metadata": {},
   "source": [
    "4Which artist has the highest number of tracks in the dataset? Display the count of tracks for each artist using\n",
    "a countplot"
   ]
  },
  {
   "cell_type": "code",
   "execution_count": 512,
   "id": "273e30af-2623-464c-b858-7f39b22b9f7a",
   "metadata": {},
   "outputs": [
    {
     "data": {
      "text/plain": [
       "<Axes: xlabel='Artist', ylabel='count'>"
      ]
     },
     "execution_count": 512,
     "metadata": {},
     "output_type": "execute_result"
    },
    {
     "data": {
      "image/png": "[encoded data removed]",
      "text/plain": [
       "<Figure size 640x480 with 1 Axes>"
      ]
     },
     "metadata": {},
     "output_type": "display_data"
    }
   ],
   "source": [
    "sns.countplot(x=df[\"Artist\"],data=df)"
   ]
  },
  {
   "cell_type": "markdown",
   "id": "c5742f3c-f1f8-4b57-a11b-ff9b216db73e",
   "metadata": {},
   "source": [
    "5.What are the top 5 least popular tracks in the dataset? Provide the artist name and track name for each\u0016\n"
   ]
  },
  {
   "cell_type": "code",
   "execution_count": 513,
   "id": "978bca9a-9fa8-40a9-a1a5-54276b243cbe",
   "metadata": {},
   "outputs": [
    {
     "data": {
      "text/html": [
       "<div>\n",
       "<style scoped>\n",
       "    .dataframe tbody tr th:only-of-type {\n",
       "        vertical-align: middle;\n",
       "    }\n",
       "\n",
       "    .dataframe tbody tr th {\n",
       "        vertical-align: top;\n",
       "    }\n",
       "\n",
       "    .dataframe thead th {\n",
       "        text-align: right;\n",
       "    }\n",
       "</style>\n",
       "<table border=\"1\" class=\"dataframe\">\n",
       "  <thead>\n",
       "    <tr style=\"text-align: right;\">\n",
       "      <th></th>\n",
       "      <th>Artist</th>\n",
       "      <th>Track Name</th>\n",
       "      <th>Popularity</th>\n",
       "      <th>Duration (ms)</th>\n",
       "      <th>Track ID</th>\n",
       "    </tr>\n",
       "  </thead>\n",
       "  <tbody>\n",
       "    <tr>\n",
       "      <th>0</th>\n",
       "      <td>Drake</td>\n",
       "      <td>Rich Baby Daddy (feat. Sexyy Red &amp; SZA)</td>\n",
       "      <td>92</td>\n",
       "      <td>319191</td>\n",
       "      <td>1yeB8MUNeLo9Ek1UEpsyz6</td>\n",
       "    </tr>\n",
       "    <tr>\n",
       "      <th>1</th>\n",
       "      <td>Drake</td>\n",
       "      <td>One Dance</td>\n",
       "      <td>91</td>\n",
       "      <td>173986</td>\n",
       "      <td>1zi7xx7UVEFkmKfv06H8x0</td>\n",
       "    </tr>\n",
       "    <tr>\n",
       "      <th>2</th>\n",
       "      <td>Drake</td>\n",
       "      <td>IDGAF (feat. Yeat)</td>\n",
       "      <td>90</td>\n",
       "      <td>260111</td>\n",
       "      <td>2YSzYUF3jWqb9YP9VXmpjE</td>\n",
       "    </tr>\n",
       "    <tr>\n",
       "      <th>3</th>\n",
       "      <td>Drake</td>\n",
       "      <td>First Person Shooter (feat. J. Cole)</td>\n",
       "      <td>88</td>\n",
       "      <td>247444</td>\n",
       "      <td>7aqfrAY2p9BUSiupwk3svU</td>\n",
       "    </tr>\n",
       "    <tr>\n",
       "      <th>4</th>\n",
       "      <td>Drake</td>\n",
       "      <td>Jimmy Cooks (feat. 21 Savage)</td>\n",
       "      <td>88</td>\n",
       "      <td>218364</td>\n",
       "      <td>3F5CgOj3wFlRv51JsHbxhe</td>\n",
       "    </tr>\n",
       "    <tr>\n",
       "      <th>...</th>\n",
       "      <td>...</td>\n",
       "      <td>...</td>\n",
       "      <td>...</td>\n",
       "      <td>...</td>\n",
       "      <td>...</td>\n",
       "    </tr>\n",
       "    <tr>\n",
       "      <th>433</th>\n",
       "      <td>French Montana</td>\n",
       "      <td>Stand United</td>\n",
       "      <td>54</td>\n",
       "      <td>163971</td>\n",
       "      <td>01CHrTerCzyRpMI1MzQ4fz</td>\n",
       "    </tr>\n",
       "    <tr>\n",
       "      <th>434</th>\n",
       "      <td>Jason Derulo</td>\n",
       "      <td>Tip Toe (feat. French Montana)</td>\n",
       "      <td>65</td>\n",
       "      <td>187521</td>\n",
       "      <td>0TY3jVGwGDwDabLyQLVRQQ</td>\n",
       "    </tr>\n",
       "    <tr>\n",
       "      <th>436</th>\n",
       "      <td>Fat Joe</td>\n",
       "      <td>All The Way Up (feat. Infared)</td>\n",
       "      <td>64</td>\n",
       "      <td>191900</td>\n",
       "      <td>7Ezwtgfw7khBrpvaNPtMoT</td>\n",
       "    </tr>\n",
       "    <tr>\n",
       "      <th>437</th>\n",
       "      <td>A$AP Ferg</td>\n",
       "      <td>Work REMIX (feat. A$AP Rocky, French Montana, ...</td>\n",
       "      <td>69</td>\n",
       "      <td>283693</td>\n",
       "      <td>7xVLFuuYdAvcTfcP3IG3dS</td>\n",
       "    </tr>\n",
       "    <tr>\n",
       "      <th>438</th>\n",
       "      <td>Diddy</td>\n",
       "      <td>Another One Of Me (feat. 21 Savage)</td>\n",
       "      <td>65</td>\n",
       "      <td>220408</td>\n",
       "      <td>4hGmQboiou09EwhcTWa0H6</td>\n",
       "    </tr>\n",
       "  </tbody>\n",
       "</table>\n",
       "<p>413 rows × 5 columns</p>\n",
       "</div>"
      ],
      "text/plain": [
       "             Artist                                         Track Name  \\\n",
       "0             Drake            Rich Baby Daddy (feat. Sexyy Red & SZA)   \n",
       "1             Drake                                          One Dance   \n",
       "2             Drake                                 IDGAF (feat. Yeat)   \n",
       "3             Drake               First Person Shooter (feat. J. Cole)   \n",
       "4             Drake                      Jimmy Cooks (feat. 21 Savage)   \n",
       "..              ...                                                ...   \n",
       "433  French Montana                                       Stand United   \n",
       "434    Jason Derulo                     Tip Toe (feat. French Montana)   \n",
       "436         Fat Joe                     All The Way Up (feat. Infared)   \n",
       "437       A$AP Ferg  Work REMIX (feat. A$AP Rocky, French Montana, ...   \n",
       "438           Diddy                Another One Of Me (feat. 21 Savage)   \n",
       "\n",
       "     Popularity  Duration (ms)                Track ID  \n",
       "0            92         319191  1yeB8MUNeLo9Ek1UEpsyz6  \n",
       "1            91         173986  1zi7xx7UVEFkmKfv06H8x0  \n",
       "2            90         260111  2YSzYUF3jWqb9YP9VXmpjE  \n",
       "3            88         247444  7aqfrAY2p9BUSiupwk3svU  \n",
       "4            88         218364  3F5CgOj3wFlRv51JsHbxhe  \n",
       "..          ...            ...                     ...  \n",
       "433          54         163971  01CHrTerCzyRpMI1MzQ4fz  \n",
       "434          65         187521  0TY3jVGwGDwDabLyQLVRQQ  \n",
       "436          64         191900  7Ezwtgfw7khBrpvaNPtMoT  \n",
       "437          69         283693  7xVLFuuYdAvcTfcP3IG3dS  \n",
       "438          65         220408  4hGmQboiou09EwhcTWa0H6  \n",
       "\n",
       "[413 rows x 5 columns]"
      ]
     },
     "execution_count": 513,
     "metadata": {},
     "output_type": "execute_result"
    }
   ],
   "source": [
    "df"
   ]
  },
  {
   "cell_type": "code",
   "execution_count": 520,
   "id": "38666c5b-79bc-4aa1-b68d-6865ed9ada5f",
   "metadata": {},
   "outputs": [],
   "source": [
    "groupby=df.groupby(\"Track Name\")[\"Popularity\"].mean()"
   ]
  },
  {
   "cell_type": "code",
   "execution_count": 525,
   "id": "9847cfd2-8bf6-46f7-a514-0d14dddf18c6",
   "metadata": {},
   "outputs": [
    {
     "data": {
      "text/plain": [
       "Track Name\n",
       "Attachments (feat. Coi Leray)    29.0\n",
       "Intentions                       35.0\n",
       "Splash Brothers                  44.0\n",
       "On Me - Remix                    47.0\n",
       "911 (feat. Mary J. Blige)        48.0\n",
       "Name: Popularity, dtype: float64"
      ]
     },
     "execution_count": 525,
     "metadata": {},
     "output_type": "execute_result"
    }
   ],
   "source": [
    "groupby.nsmallest(5)"
   ]
  },
  {
   "cell_type": "markdown",
   "id": "0a914708-0ff6-451b-9b91-452cd4ac577e",
   "metadata": {},
   "source": [
    "6.Among the top 5 most popular artists, which artist has the highest popularity on average? Calculate and\n",
    "display the average popularity for each artist."
   ]
  },
  {
   "cell_type": "code",
   "execution_count": 528,
   "id": "70a6d7b8-2562-44b3-a3b4-15c82b13bdeb",
   "metadata": {},
   "outputs": [],
   "source": [
    "groupby=df.groupby(\"Artist\")[\"Popularity\"]"
   ]
  },
  {
   "cell_type": "code",
   "execution_count": 530,
   "id": "17852fd3-1ac5-4789-b6a1-56f5ce614145",
   "metadata": {},
   "outputs": [
    {
     "data": {
      "text/plain": [
       "Artist\n",
       "cassö           92.000000\n",
       "Trueno          89.000000\n",
       "David Guetta    87.000000\n",
       "Travis Scott    86.555556\n",
       "¥$              85.100000\n",
       "Name: Popularity, dtype: float64"
      ]
     },
     "execution_count": 530,
     "metadata": {},
     "output_type": "execute_result"
    }
   ],
   "source": [
    "groupby.mean().nlargest(5)"
   ]
  },
  {
   "cell_type": "markdown",
   "id": "f5a60966-49c6-498c-9822-5f43aad4de59",
   "metadata": {},
   "source": [
    " 7.For the top 5 most popular artists, what are their most popular tracks? List the track name for each artist."
   ]
  },
  {
   "cell_type": "code",
   "execution_count": 534,
   "id": "47a56eaf-5e9f-461a-a8bc-5dcb5f91e178",
   "metadata": {},
   "outputs": [
    {
     "data": {
      "text/html": [
       "<div>\n",
       "<style scoped>\n",
       "    .dataframe tbody tr th:only-of-type {\n",
       "        vertical-align: middle;\n",
       "    }\n",
       "\n",
       "    .dataframe tbody tr th {\n",
       "        vertical-align: top;\n",
       "    }\n",
       "\n",
       "    .dataframe thead th {\n",
       "        text-align: right;\n",
       "    }\n",
       "</style>\n",
       "<table border=\"1\" class=\"dataframe\">\n",
       "  <thead>\n",
       "    <tr style=\"text-align: right;\">\n",
       "      <th></th>\n",
       "      <th>Track Name</th>\n",
       "      <th>Popularity</th>\n",
       "      <th>Duration (ms)</th>\n",
       "      <th>Track ID</th>\n",
       "    </tr>\n",
       "    <tr>\n",
       "      <th>Artist</th>\n",
       "      <th></th>\n",
       "      <th></th>\n",
       "      <th></th>\n",
       "      <th></th>\n",
       "    </tr>\n",
       "  </thead>\n",
       "  <tbody>\n",
       "    <tr>\n",
       "      <th>*NSYNC</th>\n",
       "      <td>1</td>\n",
       "      <td>1</td>\n",
       "      <td>1</td>\n",
       "      <td>1</td>\n",
       "    </tr>\n",
       "    <tr>\n",
       "      <th>2 Chainz</th>\n",
       "      <td>1</td>\n",
       "      <td>1</td>\n",
       "      <td>1</td>\n",
       "      <td>1</td>\n",
       "    </tr>\n",
       "    <tr>\n",
       "      <th>21 Savage</th>\n",
       "      <td>10</td>\n",
       "      <td>10</td>\n",
       "      <td>10</td>\n",
       "      <td>10</td>\n",
       "    </tr>\n",
       "    <tr>\n",
       "      <th>A Boogie Wit da Hoodie</th>\n",
       "      <td>1</td>\n",
       "      <td>1</td>\n",
       "      <td>1</td>\n",
       "      <td>1</td>\n",
       "    </tr>\n",
       "    <tr>\n",
       "      <th>A$AP Ferg</th>\n",
       "      <td>1</td>\n",
       "      <td>1</td>\n",
       "      <td>1</td>\n",
       "      <td>1</td>\n",
       "    </tr>\n",
       "    <tr>\n",
       "      <th>...</th>\n",
       "      <td>...</td>\n",
       "      <td>...</td>\n",
       "      <td>...</td>\n",
       "      <td>...</td>\n",
       "    </tr>\n",
       "    <tr>\n",
       "      <th>Young Nudy</th>\n",
       "      <td>1</td>\n",
       "      <td>1</td>\n",
       "      <td>1</td>\n",
       "      <td>1</td>\n",
       "    </tr>\n",
       "    <tr>\n",
       "      <th>Young Thug</th>\n",
       "      <td>4</td>\n",
       "      <td>4</td>\n",
       "      <td>4</td>\n",
       "      <td>4</td>\n",
       "    </tr>\n",
       "    <tr>\n",
       "      <th>benny blanco</th>\n",
       "      <td>1</td>\n",
       "      <td>1</td>\n",
       "      <td>1</td>\n",
       "      <td>1</td>\n",
       "    </tr>\n",
       "    <tr>\n",
       "      <th>cassö</th>\n",
       "      <td>1</td>\n",
       "      <td>1</td>\n",
       "      <td>1</td>\n",
       "      <td>1</td>\n",
       "    </tr>\n",
       "    <tr>\n",
       "      <th>¥$</th>\n",
       "      <td>10</td>\n",
       "      <td>10</td>\n",
       "      <td>10</td>\n",
       "      <td>10</td>\n",
       "    </tr>\n",
       "  </tbody>\n",
       "</table>\n",
       "<p>115 rows × 4 columns</p>\n",
       "</div>"
      ],
      "text/plain": [
       "                        Track Name  Popularity  Duration (ms)  Track ID\n",
       "Artist                                                                 \n",
       "*NSYNC                           1           1              1         1\n",
       "2 Chainz                         1           1              1         1\n",
       "21 Savage                       10          10             10        10\n",
       "A Boogie Wit da Hoodie           1           1              1         1\n",
       "A$AP Ferg                        1           1              1         1\n",
       "...                            ...         ...            ...       ...\n",
       "Young Nudy                       1           1              1         1\n",
       "Young Thug                       4           4              4         4\n",
       "benny blanco                     1           1              1         1\n",
       "cassö                            1           1              1         1\n",
       "¥$                              10          10             10        10\n",
       "\n",
       "[115 rows x 4 columns]"
      ]
     },
     "execution_count": 534,
     "metadata": {},
     "output_type": "execute_result"
    }
   ],
   "source": [
    "df.groupby(\"Artist\").count()"
   ]
  },
  {
   "cell_type": "markdown",
   "id": "065e7337-8ea2-4782-a88a-86a27cbaf3ef",
   "metadata": {},
   "source": [
    "8.Visualize relationships between multiple numerical variables simultaneously using a pair plot."
   ]
  },
  {
   "cell_type": "code",
   "execution_count": 535,
   "id": "6a00abac-3c62-4129-8f97-5d8c813ef80e",
   "metadata": {},
   "outputs": [
    {
     "data": {
      "text/plain": [
       "<seaborn.axisgrid.PairGrid at 0x25c3c5bc170>"
      ]
     },
     "execution_count": 535,
     "metadata": {},
     "output_type": "execute_result"
    },
    {
     "data": {
      "image/png": "[encoded data removed]",
      "text/plain": [
       "<Figure size 500x500 with 6 Axes>"
      ]
     },
     "metadata": {},
     "output_type": "display_data"
    }
   ],
   "source": [
    "sns.pairplot(df)"
   ]
  },
  {
   "cell_type": "markdown",
   "id": "754beb55-cf3b-4c24-b404-13fa96dde9c1",
   "metadata": {},
   "source": [
    "9Does the duration of tracks vary significantly across different artists? Explore this visually using a box plot or\n",
    "violin plot"
   ]
  },
  {
   "cell_type": "code",
   "execution_count": 536,
   "id": "8fb2d375-3e3e-4960-94b0-c47a0246c707",
   "metadata": {},
   "outputs": [
    {
     "data": {
      "text/plain": [
       "<Axes: xlabel='Duration (ms)'>"
      ]
     },
     "execution_count": 536,
     "metadata": {},
     "output_type": "execute_result"
    },
    {
     "data": {
      "image/png": "[encoded data removed]",
      "text/plain": [
       "<Figure size 640x480 with 1 Axes>"
      ]
     },
     "metadata": {},
     "output_type": "display_data"
    }
   ],
   "source": [
    "sns.boxplot(df,x=df[\"Duration (ms)\"])"
   ]
  },
  {
   "cell_type": "markdown",
   "id": "fce2b6c0-cd72-4936-92b4-700a67110eb9",
   "metadata": {},
   "source": [
    "10.How does the distribution of track popularity vary for different artists? Visualize this using a swarm plot or a\n",
    "violin plot."
   ]
  },
  {
   "cell_type": "code",
   "execution_count": 539,
   "id": "8642aa7e-1064-4ce7-b6f0-a15b530afd65",
   "metadata": {},
   "outputs": [
    {
     "data": {
      "text/plain": [
       "<Axes: xlabel='Popularity'>"
      ]
     },
     "execution_count": 539,
     "metadata": {},
     "output_type": "execute_result"
    },
    {
     "data": {
      "image/png": "[encoded data removed]",
      "text/plain": [
       "<Figure size 640x480 with 1 Axes>"
      ]
     },
     "metadata": {},
     "output_type": "display_data"
    }
   ],
   "source": [
    "sns.violinplot(data=df,x=df[\"Popularity\"])"
   ]
  },
  {
   "cell_type": "code",
   "execution_count": null,
   "id": "9a819022-af03-463c-80d0-e40c620b7cde",
   "metadata": {},
   "outputs": [],
   "source": []
  }
 ],
 "metadata": {
  "kernelspec": {
   "display_name": "Python 3 (ipykernel)",
   "language": "python",
   "name": "python3"
  },
  "language_info": {
   "codemirror_mode": {
    "name": "ipython",
    "version": 3
   },
   "file_extension": ".py",
   "mimetype": "text/x-python",
   "name": "python",
   "nbconvert_exporter": "python",
   "pygments_lexer": "ipython3",
   "version": "3.12.7"
  }
 },
 "nbformat": 4,
 "nbformat_minor": 5
}
